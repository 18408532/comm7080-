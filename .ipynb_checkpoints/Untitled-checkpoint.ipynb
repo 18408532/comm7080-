{
 "cells": [
  {
   "cell_type": "code",
   "execution_count": 1,
   "metadata": {},
   "outputs": [
    {
     "ename": "ModuleNotFoundError",
     "evalue": "No module named 'bs4'",
     "output_type": "error",
     "traceback": [
      "\u001b[0;31m---------------------------------------------------------------------------\u001b[0m",
      "\u001b[0;31mModuleNotFoundError\u001b[0m                       Traceback (most recent call last)",
      "\u001b[0;32m<ipython-input-1-f33cf0cb8fd3>\u001b[0m in \u001b[0;36m<module>\u001b[0;34m()\u001b[0m\n\u001b[0;32m----> 1\u001b[0;31m \u001b[0;32mfrom\u001b[0m \u001b[0mbs4\u001b[0m \u001b[0;32mimport\u001b[0m \u001b[0mBeautifulSoup\u001b[0m\u001b[0;34m\u001b[0m\u001b[0m\n\u001b[0m",
      "\u001b[0;31mModuleNotFoundError\u001b[0m: No module named 'bs4'"
     ]
    }
   ],
   "source": [
    "from bs4 import BeautifulSoup"
   ]
  },
  {
   "cell_type": "code",
   "execution_count": 2,
   "metadata": {},
   "outputs": [
    {
     "ename": "ModuleNotFoundError",
     "evalue": "No module named 'BeautifulSoup'",
     "output_type": "error",
     "traceback": [
      "\u001b[0;31m---------------------------------------------------------------------------\u001b[0m",
      "\u001b[0;31mModuleNotFoundError\u001b[0m                       Traceback (most recent call last)",
      "\u001b[0;32m<ipython-input-2-ad1a75b85793>\u001b[0m in \u001b[0;36m<module>\u001b[0;34m()\u001b[0m\n\u001b[0;32m----> 1\u001b[0;31m \u001b[0;32mimport\u001b[0m \u001b[0mBeautifulSoup\u001b[0m\u001b[0;34m\u001b[0m\u001b[0m\n\u001b[0m",
      "\u001b[0;31mModuleNotFoundError\u001b[0m: No module named 'BeautifulSoup'"
     ]
    }
   ],
   "source": [
    "import BeautifulSoup"
   ]
  },
  {
   "cell_type": "code",
   "execution_count": 3,
   "metadata": {},
   "outputs": [
    {
     "name": "stdout",
     "output_type": "stream",
     "text": [
      "Collecting bs4\n",
      "  Using cached https://files.pythonhosted.org/packages/10/ed/7e8b97591f6f456174139ec089c769f89a94a1a4025fe967691de971f314/bs4-0.0.1.tar.gz\n",
      "Collecting beautifulsoup4 (from bs4)\n",
      "  Using cached https://files.pythonhosted.org/packages/21/0a/47fdf541c97fd9b6a610cb5fd518175308a7cc60569962e776ac52420387/beautifulsoup4-4.6.3-py3-none-any.whl\n",
      "Installing collected packages: beautifulsoup4, bs4\n",
      "  Running setup.py install for bs4 ... \u001b[?25ldone\n",
      "\u001b[?25hSuccessfully installed beautifulsoup4-4.6.3 bs4-0.0.1\n"
     ]
    }
   ],
   "source": [
    "!pip3 install --user bs4"
   ]
  },
  {
   "cell_type": "code",
   "execution_count": 6,
   "metadata": {},
   "outputs": [
    {
     "ename": "ModuleNotFoundError",
     "evalue": "No module named 'bs4'",
     "output_type": "error",
     "traceback": [
      "\u001b[0;31m---------------------------------------------------------------------------\u001b[0m",
      "\u001b[0;31mModuleNotFoundError\u001b[0m                       Traceback (most recent call last)",
      "\u001b[0;32m<ipython-input-6-f33cf0cb8fd3>\u001b[0m in \u001b[0;36m<module>\u001b[0;34m()\u001b[0m\n\u001b[0;32m----> 1\u001b[0;31m \u001b[0;32mfrom\u001b[0m \u001b[0mbs4\u001b[0m \u001b[0;32mimport\u001b[0m \u001b[0mBeautifulSoup\u001b[0m\u001b[0;34m\u001b[0m\u001b[0m\n\u001b[0m",
      "\u001b[0;31mModuleNotFoundError\u001b[0m: No module named 'bs4'"
     ]
    }
   ],
   "source": [
    "from bs4 import BeautifulSoup"
   ]
  },
  {
   "cell_type": "code",
   "execution_count": 7,
   "metadata": {},
   "outputs": [
    {
     "ename": "ModuleNotFoundError",
     "evalue": "No module named 'bs4'",
     "output_type": "error",
     "traceback": [
      "\u001b[0;31m---------------------------------------------------------------------------\u001b[0m",
      "\u001b[0;31mModuleNotFoundError\u001b[0m                       Traceback (most recent call last)",
      "\u001b[0;32m<ipython-input-7-50b2309bcaa6>\u001b[0m in \u001b[0;36m<module>\u001b[0;34m()\u001b[0m\n\u001b[0;32m----> 1\u001b[0;31m \u001b[0;32mimport\u001b[0m \u001b[0mbs4\u001b[0m\u001b[0;34m\u001b[0m\u001b[0m\n\u001b[0m",
      "\u001b[0;31mModuleNotFoundError\u001b[0m: No module named 'bs4'"
     ]
    }
   ],
   "source": [
    "import bs4"
   ]
  },
  {
   "cell_type": "code",
   "execution_count": 8,
   "metadata": {},
   "outputs": [
    {
     "ename": "ModuleNotFoundError",
     "evalue": "No module named 'requests'",
     "output_type": "error",
     "traceback": [
      "\u001b[0;31m---------------------------------------------------------------------------\u001b[0m",
      "\u001b[0;31mModuleNotFoundError\u001b[0m                       Traceback (most recent call last)",
      "\u001b[0;32m<ipython-input-8-444beb89a6a8>\u001b[0m in \u001b[0;36m<module>\u001b[0;34m()\u001b[0m\n\u001b[0;32m----> 1\u001b[0;31m \u001b[0;32mimport\u001b[0m \u001b[0mrequests\u001b[0m \u001b[0;31m#week o4 request module\u001b[0m\u001b[0;34m\u001b[0m\u001b[0m\n\u001b[0m\u001b[1;32m      2\u001b[0m \u001b[0;32mfrom\u001b[0m \u001b[0mbs4\u001b[0m \u001b[0;32mimport\u001b[0m \u001b[0mBeautifulSoup\u001b[0m \u001b[0;31m#pay attention to its syntax\u001b[0m\u001b[0;34m\u001b[0m\u001b[0m\n\u001b[1;32m      3\u001b[0m \u001b[0mr\u001b[0m \u001b[0;34m=\u001b[0m \u001b[0mrequests\u001b[0m\u001b[0;34m.\u001b[0m\u001b[0mget\u001b[0m\u001b[0;34m(\u001b[0m\u001b[0;34m'https://initiumlab.com/blog/20170329-trump-and-ivanka/'\u001b[0m\u001b[0;34m)\u001b[0m\u001b[0;34m\u001b[0m\u001b[0m\n\u001b[1;32m      4\u001b[0m \u001b[0;31m#print(r) you will get <Response [200]> means request successful\u001b[0m\u001b[0;34m\u001b[0m\u001b[0;34m\u001b[0m\u001b[0m\n\u001b[1;32m      5\u001b[0m \u001b[0mhtml_str\u001b[0m \u001b[0;34m=\u001b[0m \u001b[0mr\u001b[0m\u001b[0;34m.\u001b[0m\u001b[0mtext\u001b[0m \u001b[0;31m#get the content of the request\u001b[0m\u001b[0;34m\u001b[0m\u001b[0m\n",
      "\u001b[0;31mModuleNotFoundError\u001b[0m: No module named 'requests'"
     ]
    }
   ],
   "source": [
    "import requests #week o4 request module\n",
    "from bs4 import BeautifulSoup #pay attention to its syntax\n",
    "r = requests.get('https://initiumlab.com/blog/20170329-trump-and-ivanka/')\n",
    "#print(r) you will get <Response [200]> means request successful\n",
    "html_str = r.text #get the content of the request"
   ]
  },
  {
   "cell_type": "code",
   "execution_count": 9,
   "metadata": {},
   "outputs": [
    {
     "name": "stdout",
     "output_type": "stream",
     "text": [
      "Collecting bs4\n",
      "  Using cached https://files.pythonhosted.org/packages/10/ed/7e8b97591f6f456174139ec089c769f89a94a1a4025fe967691de971f314/bs4-0.0.1.tar.gz\n",
      "Collecting beautifulsoup4 (from bs4)\n",
      "  Using cached https://files.pythonhosted.org/packages/21/0a/47fdf541c97fd9b6a610cb5fd518175308a7cc60569962e776ac52420387/beautifulsoup4-4.6.3-py3-none-any.whl\n",
      "Installing collected packages: beautifulsoup4, bs4\n",
      "  Running setup.py install for bs4 ... \u001b[?25ldone\n",
      "\u001b[?25hSuccessfully installed beautifulsoup4-4.6.3 bs4-0.0.1\n"
     ]
    }
   ],
   "source": [
    "!pip install bs4"
   ]
  },
  {
   "cell_type": "code",
   "execution_count": 10,
   "metadata": {},
   "outputs": [
    {
     "name": "stdout",
     "output_type": "stream",
     "text": [
      "Requirement already satisfied: beautifulsoup4 in /Users/linhuiqing/venv/lib/python3.7/site-packages (4.6.3)\r\n"
     ]
    }
   ],
   "source": [
    "!pip install beautifulsoup4"
   ]
  },
  {
   "cell_type": "code",
   "execution_count": 11,
   "metadata": {},
   "outputs": [],
   "source": [
    "from bs4 import BeautifulSoup"
   ]
  },
  {
   "cell_type": "code",
   "execution_count": 12,
   "metadata": {
    "scrolled": true
   },
   "outputs": [
    {
     "ename": "ModuleNotFoundError",
     "evalue": "No module named 'requests'",
     "output_type": "error",
     "traceback": [
      "\u001b[0;31m---------------------------------------------------------------------------\u001b[0m",
      "\u001b[0;31mModuleNotFoundError\u001b[0m                       Traceback (most recent call last)",
      "\u001b[0;32m<ipython-input-12-444beb89a6a8>\u001b[0m in \u001b[0;36m<module>\u001b[0;34m()\u001b[0m\n\u001b[0;32m----> 1\u001b[0;31m \u001b[0;32mimport\u001b[0m \u001b[0mrequests\u001b[0m \u001b[0;31m#week o4 request module\u001b[0m\u001b[0;34m\u001b[0m\u001b[0m\n\u001b[0m\u001b[1;32m      2\u001b[0m \u001b[0;32mfrom\u001b[0m \u001b[0mbs4\u001b[0m \u001b[0;32mimport\u001b[0m \u001b[0mBeautifulSoup\u001b[0m \u001b[0;31m#pay attention to its syntax\u001b[0m\u001b[0;34m\u001b[0m\u001b[0m\n\u001b[1;32m      3\u001b[0m \u001b[0mr\u001b[0m \u001b[0;34m=\u001b[0m \u001b[0mrequests\u001b[0m\u001b[0;34m.\u001b[0m\u001b[0mget\u001b[0m\u001b[0;34m(\u001b[0m\u001b[0;34m'https://initiumlab.com/blog/20170329-trump-and-ivanka/'\u001b[0m\u001b[0;34m)\u001b[0m\u001b[0;34m\u001b[0m\u001b[0m\n\u001b[1;32m      4\u001b[0m \u001b[0;31m#print(r) you will get <Response [200]> means request successful\u001b[0m\u001b[0;34m\u001b[0m\u001b[0;34m\u001b[0m\u001b[0m\n\u001b[1;32m      5\u001b[0m \u001b[0mhtml_str\u001b[0m \u001b[0;34m=\u001b[0m \u001b[0mr\u001b[0m\u001b[0;34m.\u001b[0m\u001b[0mtext\u001b[0m \u001b[0;31m#get the content of the request\u001b[0m\u001b[0;34m\u001b[0m\u001b[0m\n",
      "\u001b[0;31mModuleNotFoundError\u001b[0m: No module named 'requests'"
     ]
    }
   ],
   "source": [
    "import requests #week o4 request module\n",
    "from bs4 import BeautifulSoup #pay attention to its syntax\n",
    "r = requests.get('https://initiumlab.com/blog/20170329-trump-and-ivanka/')\n",
    "#print(r) you will get <Response [200]> means request successful\n",
    "html_str = r.text #get the content of the request"
   ]
  },
  {
   "cell_type": "code",
   "execution_count": 13,
   "metadata": {},
   "outputs": [],
   "source": [
    "import bs4"
   ]
  },
  {
   "cell_type": "code",
   "execution_count": 14,
   "metadata": {},
   "outputs": [
    {
     "ename": "ModuleNotFoundError",
     "evalue": "No module named 'requests'",
     "output_type": "error",
     "traceback": [
      "\u001b[0;31m---------------------------------------------------------------------------\u001b[0m",
      "\u001b[0;31mModuleNotFoundError\u001b[0m                       Traceback (most recent call last)",
      "\u001b[0;32m<ipython-input-14-444beb89a6a8>\u001b[0m in \u001b[0;36m<module>\u001b[0;34m()\u001b[0m\n\u001b[0;32m----> 1\u001b[0;31m \u001b[0;32mimport\u001b[0m \u001b[0mrequests\u001b[0m \u001b[0;31m#week o4 request module\u001b[0m\u001b[0;34m\u001b[0m\u001b[0m\n\u001b[0m\u001b[1;32m      2\u001b[0m \u001b[0;32mfrom\u001b[0m \u001b[0mbs4\u001b[0m \u001b[0;32mimport\u001b[0m \u001b[0mBeautifulSoup\u001b[0m \u001b[0;31m#pay attention to its syntax\u001b[0m\u001b[0;34m\u001b[0m\u001b[0m\n\u001b[1;32m      3\u001b[0m \u001b[0mr\u001b[0m \u001b[0;34m=\u001b[0m \u001b[0mrequests\u001b[0m\u001b[0;34m.\u001b[0m\u001b[0mget\u001b[0m\u001b[0;34m(\u001b[0m\u001b[0;34m'https://initiumlab.com/blog/20170329-trump-and-ivanka/'\u001b[0m\u001b[0;34m)\u001b[0m\u001b[0;34m\u001b[0m\u001b[0m\n\u001b[1;32m      4\u001b[0m \u001b[0;31m#print(r) you will get <Response [200]> means request successful\u001b[0m\u001b[0;34m\u001b[0m\u001b[0;34m\u001b[0m\u001b[0m\n\u001b[1;32m      5\u001b[0m \u001b[0mhtml_str\u001b[0m \u001b[0;34m=\u001b[0m \u001b[0mr\u001b[0m\u001b[0;34m.\u001b[0m\u001b[0mtext\u001b[0m \u001b[0;31m#get the content of the request\u001b[0m\u001b[0;34m\u001b[0m\u001b[0m\n",
      "\u001b[0;31mModuleNotFoundError\u001b[0m: No module named 'requests'"
     ]
    }
   ],
   "source": [
    "import requests #week o4 request module\n",
    "from bs4 import BeautifulSoup #pay attention to its syntax\n",
    "r = requests.get('https://initiumlab.com/blog/20170329-trump-and-ivanka/')\n",
    "#print(r) you will get <Response [200]> means request successful\n",
    "html_str = r.text #get the content of the request"
   ]
  },
  {
   "cell_type": "code",
   "execution_count": 15,
   "metadata": {},
   "outputs": [
    {
     "ename": "SyntaxError",
     "evalue": "invalid syntax (<ipython-input-15-29955a42572a>, line 1)",
     "output_type": "error",
     "traceback": [
      "\u001b[0;36m  File \u001b[0;32m\"<ipython-input-15-29955a42572a>\"\u001b[0;36m, line \u001b[0;32m1\u001b[0m\n\u001b[0;31m    install requests\u001b[0m\n\u001b[0m                   ^\u001b[0m\n\u001b[0;31mSyntaxError\u001b[0m\u001b[0;31m:\u001b[0m invalid syntax\n"
     ]
    }
   ],
   "source": [
    "install requests"
   ]
  },
  {
   "cell_type": "code",
   "execution_count": 20,
   "metadata": {},
   "outputs": [
    {
     "name": "stdout",
     "output_type": "stream",
     "text": [
      "Requirement already satisfied: requests in /Users/linhuiqing/venv/lib/python3.7/site-packages (2.20.0)\n",
      "Requirement already satisfied: urllib3<1.25,>=1.21.1 in /Users/linhuiqing/venv/lib/python3.7/site-packages (from requests) (1.24)\n",
      "Requirement already satisfied: idna<2.8,>=2.5 in /Users/linhuiqing/venv/lib/python3.7/site-packages (from requests) (2.7)\n",
      "Requirement already satisfied: certifi>=2017.4.17 in /Users/linhuiqing/venv/lib/python3.7/site-packages (from requests) (2018.10.15)\n",
      "Requirement already satisfied: chardet<3.1.0,>=3.0.2 in /Users/linhuiqing/venv/lib/python3.7/site-packages (from requests) (3.0.4)\n"
     ]
    }
   ],
   "source": [
    "!pip install requests"
   ]
  },
  {
   "cell_type": "code",
   "execution_count": 21,
   "metadata": {},
   "outputs": [],
   "source": [
    "import requests\n",
    "from bs4 import BeautifulSoup"
   ]
  },
  {
   "cell_type": "code",
   "execution_count": 29,
   "metadata": {},
   "outputs": [],
   "source": [
    "r = requests.get('http://news.cctv.com/2018/10/18/ARTILYKqDIkhTo6yEM1npLvT181018.shtml')"
   ]
  },
  {
   "cell_type": "code",
   "execution_count": 30,
   "metadata": {},
   "outputs": [],
   "source": [
    "html_str = r.text"
   ]
  },
  {
   "cell_type": "code",
   "execution_count": 31,
   "metadata": {},
   "outputs": [
    {
     "data": {
      "text/plain": [
       "'            <!DOCTYPE html PUBLIC \"-//W3C//DTD XHTML 1.0 Transitional//EN\" \"http://www.w3.org/TR/xhtml1/DTD/xhtml1-transitional.dtd\">\\r\\n<html xmlns=\"http://www.w3.org/1999/xhtml\">\\r\\n<head>\\r\\n<meta http-equiv=\"Content-Type\" content=\"text/html; charset=utf-8\" />\\r\\n<meta name=\"viewport\" content=\"initial-scale=1, maximum-scale=3, minimum-scale=1, user-scalable=no\">\\r\\n\\r\\n<title>ä¹\\xa0è¿\\x91å¹³ä¸¤å°\\x81è´ºä¿¡é\\x87\\x8cç\\x9a\\x84å\\x90\\x8cä¸\\x80æ·±æ\\x84\\x8f</title>\\r\\n<meta name=keywords content=\"ä¹\\xa0è¿\\x91å¹³\">\\r\\n<meta name=description content=\"æ\\x8e¨å\\x8a¨æ\\x9e\\x84å»ºäººç±»å\\x91½è¿\\x90å\\x85±å\\x90\\x8cä½\\x93æ\\x98¯ä¹\\xa0è¿\\x91å¹³ä¸\\x80å\\x86\\x8dæ\\x8f\\x90å\\x8f\\x8aç\\x9a\\x84æ·±å\\x88»ä¸»é¢\\x98ã\\x80\\x82\">\\r\\n\\r\\n<SCRIPT LANGUAGE=\"JavaScript\">\\r\\n\\tvar url_domainname=location.href;\\t\\t\\t\\r\\n\\tvar str1_dm = url_domainname.substring(7,url_domainname.length);\\r\\n\\tvar num_= str1_dm.indexOf(\"/\");\\r\\n\\tvar  domainame_=str1_dm.substring(0,num_);\\r\\n\\tvar type_str=domainame_.indexOf(\".\");\\r\\n\\tvar type_=domainame_.substring(0,type_str);\\r\\n\\r\\n\\tvar commentTitle = \"ä¹\\xa0è¿\\x91å¹³ä¸¤å°\\x81è´ºä¿¡é\\x87\\x8cç\\x9a\\x84å\\x90\\x8cä¸\\x80æ·±æ\\x84\\x8f\"; //è¯\\x84è®ºæ\\xa0\\x87é¢\\x98\\r\\n\\t/* è¯\\x84è®ºå¯¹è±¡ID 20ä½\\x8dä»¥å\\x86\\x85ç\\x9a\\x84å\\xad\\x97ç¬¦ä¸² æ¯\\x8fä¸ªè¢«è¯\\x84è®ºå¯¹è±¡ä¸\\x8då\\x90\\x8c20120420------ */\\r\\n\\tvar itemid1=\"ARTILYKqDIkhTo6yEM1npLvT181018\";//æ\\xad£æ\\x96\\x87é¡µidï¼\\x8cèµ\\x8bå\\x80¼ç»\\x99ç\\x95\\x99è¨\\x80è¯\\x84è®ºæ¨¡å\\x9d\\x97ç\\x9a\\x84å\\x8f\\x82æ\\x95°ä¹\\x8bä¸\\x80\\r\\n\\tvar commentUrl = \"http://news.cctv.com/2018/10/18/ARTILYKqDIkhTo6yEM1npLvT181018.shtml\";\\r\\n\\tvar column_id = \"TOPC1523415526748506\";\\r\\n\\tvar sub_column_id = \"PAGEhX8s5pIxvHLUxvGqAlnG180411\";\\r\\n\\tvar domainname = domainame_;\\r\\n\\tvar sobey_video_flag = \\'\\';\\r\\n\\tvar type=type_;\\r\\n\\tvar pindao_1 = \"CHAL1342173544894212\";\\t\\t\\tvar dateNum = (new Date()).toLocaleDateString() + \" \" + (new Date()).toLocaleTimeString();\\r\\n\\tvar times_str = dateNum.replace(/å¹´/g,\\'-\\').replace(/æ\\x9c\\x88/g,\\'-\\').replace(/æ\\x97¥/g,\\'-\\').replace(/:/g,\\'-\\');\\r\\n\\tvar new_str = times_str.replace(/ /g,\\'-\\');\\r\\n\\tvar arr = new_str.split(\"-\");\\r\\n\\tvar datum = new Date(Date.UTC(arr[0],arr[1]-1,arr[2]-2,arr[3]-8,arr[4],arr[5]));\\r\\n\\tvar timeint=datum.getTime()/1000;\\r\\n\\tvar html;\\r\\n\\tvar sorts_dianji = sub_column_id+\\',\\'+column_id+\\',\\'+itemid1.substring(0,4);/*ç\\x82¹å\\x87»é\\x87\\x8fsortså\\x80¼*/\\r\\n</SCRIPT>\\r\\n\\r\\n<style type=\"text/css\">\\r\\n\\ta{\\r\\n\\tbblr:expression(this.onFocus=this.blur());/*IEä½¿ç\\x94¨*/\\r\\n\\toutline-style:none;/*FFä½¿ç\\x94¨*/\\r\\n\\t} /*å\\x8e»é\\x99¤aæ\\xa0\\x87ç\\xad¾å¸¦æ\\x9d¥ç\\x9a\\x84è\\x99\\x9aæ¡\\x86*/ \\r\\n</style>\\r\\n<!--ä¸\\x93é¢\\x98æ¨¡ç\\x89\\x88é\\x80\\x9aç\\x94¨è\\x84\\x9aæ\\x9c¬ç»\\x9fä¸\\x80è°\\x83ç\\x94¨-->\\r\\n<script type=\"text/javascript\" src=\"http://r.img.cctvpic.com/library/script/jquery-1.7.2.min.js\"></script>\\r\\n<script type=\"text/javascript\" src=\"http://r.img.cctvpic.com/library/content/tw/script/a2.js\"></script>\\r\\n<script type=\"text/javascript\" src=\"http://r.img.cctvpic.com/library/content/tw/script/newDJpfdc.js\"></script>\\r\\n<script>\\r\\n\\t$(function(){\\r\\n\\t\\t$(\"#bid\").show();\\r\\n\\t\\tdocument.documentElement.style.fontSize=document.documentElement.clientWidth/7.5+\"px\";\\r\\n\\t\\t$(window).resize(function(){\\r\\n\\t\\t\\tsetTimeout(function(){\\r\\n\\t\\t\\t\\tdocument.documentElement.style.fontSize=document.documentElement.clientWidth/7.5+\"px\";\\r\\n\\t\\t\\t},300)\\r\\n\\t\\t\\t\\r\\n\\t\\t})\\r\\n\\t})\\r\\n</script>\\r\\n<script type=\"text/javascript\">\\r\\nvar sports_bevent = \"\";\\r\\nvar sports_lanmu = \"\";\\r\\nvar sports_game = \"\";\\r\\nvar sports_bianmu_channelId = \"\";\\r\\n</script>\\r\\n\\r\\n<script type=\"text/javascript\">\\r\\nsports_bevent = \"\";\\r\\nsports_lanmu = \"\";\\r\\nsports_game = \"\";\\r\\n</script>\\r\\n\\r\\n\\r\\n<script type=\"text/javascript\">\\r\\n<!--\\t\\t\\t\\t \\r\\nvar   publishDate =\"20181019000037 \";\\r\\n//-->\\r\\n</script>\\r\\n\\r\\n</head>\\r\\n<body id=\"bid\" style=\"display:none;\">\\r\\n\\r\\n\\t<!-- START WRating v1.0 -->\\r\\n\\t<script type=\"text/javascript\">\\r\\n\\tvar column_id = \"\";\\r\\n\\tvar sub_column_id = \"\";\\r\\n\\tvar vjAcc=\"860010-1102010100\";\\r\\n\\tvar wrUrl=\"http://cntv.wrating.com/\";\\r\\n\\tvar wrVideoUrl=\"http://cntv.wrating.com/\";\\r\\n\\t</script>\\r\\n\\t<!-- END WRating v1.0 -->\\r\\n\\r\\n<!-- ç\\x99»å½\\x95é¡µ -->\\r\\n\\n\\r\\n\\t\\r\\n\\t\\t\\t\\t\\r\\n\\t\\t\\t\\t\\t<style type=\"text/css\">\\nb, i{font-style:normal;font-weight:inherit;_font-weight:normal;}\\n/*é¡¶é\\x83¨é\\x80\\x9aæ\\xa0\\x8f*/\\n.nav_box_1000{height:40px;}\\n.up{ height:40px; width:100%; background:url(http://p5.img.cctvpic.com/photoAlbum/templet/common/DEPA1381197220279381/jdi2_20131008_9313.jpg) 0 bottom repeat-x; border-bottom:#e1e1e1 1px solid; position:fixed; z-index:99999; _position:absolute; _top:expression(eval(document.documentElement.scrollTop));}\\n.up .colnav{ background:url(http://p5.img.cctvpic.com/photoAlbum/templet/common/DEPA1381197220279381/jdi2_20131008_9313.jpg) 0 bottom repeat-x; width:1000px;margin:auto; height:40px;}\\n.up .xl{ background:url(http://p5.img.cctvpic.com/photoAlbum/templet/common/DEPA1381197220279381/jdi2_20131008_9313.gif) no-repeat 100% 8px;}\\n.up .left{ float:left; _width:625px; *width:625px; height:40px;}\\n.up .left a{color:#303030; padding-right:0px;}\\n.up .left a:hover{color:#1E63B0;}\\n.up .right{float:right; text-align:right;height:40px; position:relative;width:345px; *width:345px; _width:345px;}\\n.up .right a{ color:#303030; padding-right:0px;padding-left:0px;}\\n.up .right a:hover{color:#1E63B0;}\\n.up .right a.last{ padding-right:0; }\\n.up .right .xian{  display:inline-block; margin-left:14px;}\\n.up .right ul{ height:40px; position:relative;float:right; }\\n.up ul li{ float:left; font:12px/40px  Arial, Helvetica, sans-serif,\"å®\\x8bä½\\x93\";color:#333; padding:0 9px;position:static;}\\n.up ul li.down{ position:relative; z-index:9999;/*_behavior:url(style/htc/hover.htc)*/}\\n.up ul li.down .downMenu{ position:absolute; width:100%; _width:55px; left:0px; top:40px;text-align:left; display:inline-block; border-bottom:1px solid #dfdfdf; background:#fff; display:none;}\\n.up ul li.down .downMenu a{ display:block; font:12px/30px \"å®\\x8bä½\\x93\"; color:#303030; padding-left:10px; background-image:none; border:1px solid #dfdfdf; border-bottom:none;}\\n.up ul li.down .downMenu a:hover{ background:#e8e8e8; color:#1E63B0;}\\n.up ul li.col{ width:14px; font-size:0; line-height:0; height:40px; background:url(http://p5.img.cctvpic.com/photoAlbum/templet/common/DEPA1381197220279381/col_20131008_9313.gif) 50% 50% no-repeat; padding:0;}\\n.up ul li.down a{ padding:0 13px 0 0; background:url(http://p5.img.cctvpic.com/photoAlbum/templet/common/DEPA1381197220279381/jdi2_20131008_9313.gif) right 50% no-repeat;}\\n.up ul li.down:hover{ background:#e8e8e8; text-decoration:none; color:#1E63B0;}\\n.up ul li.down.hover{ background:#e8e8e8; text-decoration:none; color:#1E63B0;}\\n.up ul li.down a{color:#303030;}\\n.up ul li.down a:hover{ color:#1E63B0; text-decoration:none;}\\n.up ul li a{ color:#333;}\\n/*.up ul li.mxl{ *padding-top:1px;_padding-top:0px;}*/\\n.up ul li.mxl .yingyong{*display: block;*float: left;}\\n.up ul li.mxl .yingyong_{*float: left;}\\n.up ul li.col{ width:14px; font-size:0; line-height:0; height:40px; background:url(http://p5.img.cctvpic.com/photoAlbum/templet/common/DEPA1381197220279381/col_20131008_9313.gif) 50% 50% no-repeat; padding:0;}\\n/*.up ul li.eng{line-height:40px;}*/\\n.up ul li.loginfo{color:#1E63B0;}\\n.up ul li.loginfo a{color:#1E63B0;}\\n\\n/*ç\\x99»å½\\x95*/\\n.up .tn-title{ /*float:left;*/float:right; width:44px; line-height:40px;display:inline-block; }\\n.up .tn-title .tn-tab{color:#303030; padding:0 10px;padding-bottom:1px\\\\0;_padding:2px 10px 0;_line-height:38px;font-family:Arial, Helvetica, sans-serif,\"å®\\x8bä½\\x93\"; font-size:12px; line-height:40px;color:#303030; display:inline-block; cursor:pointer;}\\n.up .tn-title .tn-tab:hover{background:#e8e8e8;color:#303030; display:inline-block; text-decoration:none;}\\n.up .tn-title .tn-tab.hover{background:#e8e8e8;color:#303030; display:inline-block; text-decoration:none;}\\n.up .tn-topmenulist{ position:absolute; top:40px;left:0; line-height:20px; display:none; }\\n.up .outlogin_layerbox_bylx{ border:1px solid #dfdfdf; background:#fff;box-shadow:4px 4px 4px 0 rgba(0, 0, 0, 0.2);color: #434242;width:260px;height:252px; overflow:hidden; }\\n.up .outlogin_layerbox_bylx .box{ clear:both;zoom:1; padding-top:26px; padding-left:30px; width:230px; text-align:left;height:226px; }\\n.up .outlogin_layerbox_bylx .box .titletips{ line-height:20px; padding:8px 0 30px 0;  zoom:1;}\\n.up .outlogin_layerbox_bylx .box .cur_move{ position:absolute;right:7px; top:4px;}\\n.up .outlogin_layerbox_bylx .box .cur_move .layerbox_close{ text-decoration:none;}\\n.up .outlogin_layerbox_bylx .box .loginformlist .styles{ border:1px solid #D0D0D0; padding:6px 0 7px 4px !important; height:14px; color:#757575;  width:198px;}\\n.up .outlogin_layerbox_bylx .box .loginformlist .dl{ background:#1e63b0; color:#fff; padding:7px 18px; display:inline-block; color:#fff; font-size:14px;}\\n.up .outlogin_layerbox_bylx .box .loginformlist .dl:hover{ background:#dadada; color:#333; text-decoration:none}\\n.up .outlogin_layerbox_bylx .box .log_option{ border-bottom:solid 1px #dfdfdf; clear:both; margin-top:11px; padding-bottom:11px; width:204px; zoom:1; *margin-top:9px; *padding-bottom:9px;}\\n.up .outlogin_layerbox_bylx .box .log_option a{ margin-right:12px; display:inline-block; color:#1e63b0; line-height:18px;font-family:\"å®\\x8bä½\\x93\"; }\\n.up .outlogin_layerbox_bylx .box .log_cooper{color:#757575;line-height:18px;margin-top:11px;}\\n.up .outlogin_layerbox_bylx .box .log_cooper i{display:inline-block;float:left;}\\n.up .outlogin_layerbox_bylx .box .log_cooper img{display:inline-block;float:left;margin:11px 11px 0 0;*margin-top:9px;}\\n.jianrong{width:333px; *width:333px; _width:335px;}\\n\\n/*æ\\x9b´å¤\\x9a*/\\n.up ul li#topmore_160922{position:relative; *width:35px;}\\n.up ul li#topmore_160922 a:hover{text-decoration:none;}\\n.up ul li#topmore_160922 a#gengduo{ *float:left;}\\n.up ul li#topmore_160922 span{display:none;background:#fff;border-bottom:solid 1px #dfdfdf;border-right:solid 1px #dfdfdf;box-shadow:4px 4px 4px 0 rgba(0, 0, 0, 0.2);left:0;position:absolute;top:40px;width:156px;}\\n.up ul li#topmore_160922 span a{border-left:solid 1px #dfdfdf;border-top:solid 1px #dfdfdf;display:block;float:left;height:30px;line-height:30px;text-align:center;width:51px;}\\n.up ul li#topmore_160922 span a.long{width:77px;}\\n.up ul li#topmore_160922.active{background:#e8e8e8;cursor:pointer;*width:35px;}\\n.up ul li#topmore_160922.active a{color:#1E63B0;}\\n.up ul li#topmore_160922.active i em{_border-color:#999 #e8e8e8 #e8e8e8;}\\n.up ul li#topmore_160922.active i b{border-color:rgba(255,255,255,0);border-color:transparent\\\\9;border-top-color:#e8e8e8;}\\n.up ul li#topmore_160922.active span{display:block;}\\n.up ul li#topmore_160922.active span a{color:#333;}\\n.up ul li#topmore_160922.active span a:hover{background:#1E63B0;color:#fff;}\\n\\n\\n/*é¢\\x91é\\x81\\x93å¤§å\\x85¨*/\\n.up ul li#topmore_180524{}\\n.up ul li#topmore_180524 a:hover{text-decoration:none;}\\n.up ul li#topmore_180524 a#gengduo{ *float:left;}\\n.up ul li#topmore_180524 .channel_xiala{display:none;border-bottom:solid 1px #e1e1e1;border-top:solid 1px #e1e1e1;background:#fefefe;position:absolute;top:40px; left:0; height:31px; width:100%;}\\n.up ul li#topmore_180524 span{display:block;width:1000px; margin:0 auto;line-height:22px; padding-top:4px; padding-bottom:5px;}\\n.up ul li#topmore_180524 span a{height:22px;display: inline-block;text-align:center; padding:0 5px;}\\n.up ul li#topmore_180524 span a.first{padding-left:0px;}\\n.up ul li#topmore_180524 span a.end{padding-right:0px; padding-left:2px;}\\n.up ul li#topmore_180524.active{cursor:pointer;background:#e8e8e8;cursor:pointer;}\\n.up ul li#topmore_180524.active a{color:#1E63B0;}\\n.up ul li#topmore_180524.active span{display:block;}\\n.up ul li#topmore_180524.active span a{color:#333;}\\n.up ul li#topmore_180524.active span a:hover{color:#fff;}\\n\\n/*è\\x8a\\x82ç\\x9b®å®\\x98ç½\\x91*/\\n.up ul li.program{height:40px; }\\n/*.up ul li.program span{background:url(style/img/cctvdian.png) no-repeat center; width:43px; height:40px; display:inline-block;vertical-align: text-bottom; cursor:pointer;}*/\\n.up ul li.program a{width:48px; display:inline-block;height:40px; padding-left:43px;background:url(http://p1.img.cctvpic.com/photoAlbum/templet/common/DEPA1474168873044296/cctvdian_180522.png) no-repeat center left;}\\n\\n/*åº\\x94ç\\x94¨ä¸\\x8bæ\\x8b\\x89*/\\n.up ul li#selectBox_160922.active{cursor:pointer;background:#e8e8e8;cursor:pointer;}\\n.up ul li#selectBox_160922 a#selectBox_a{ *float:left;}\\n.up ul li#selectBox_160922{position: relative;z-index: 9999;padding: 0 19px;*width:35px;}\\n.up ul li#selectBox_160922 .selectBox{ position:absolute; width:73px; right:0px; top:40px; background:#fff;text-align:left; display:none; border-bottom:#dfdfdf 1px solid;}\\n.up ul li#selectBox_160922 .selectBox a{ display:block;font:12px/30px \"SimSun\",sans-serif; color:#303030;padding-left:5px;padding-right:5px; background-image:none; border:1px solid #dfdfdf; border-bottom:none;}\\n.up ul li#selectBox_160922 .selectBox a.first{border-top:#dfdfdf 1px solid;}\\n.up ul li#selectBox_160922 .selectBox a:hover{background:#E8E8E8; color:#303030; text-decoration:none;}\\n\\n.up ul li i{ display:block;float:right;height:6px;margin:18px 0 0 3px;width:8px;\\nbackground:url(http://p1.img.cctvpic.com/photoAlbum/templet/common/DEPA1465893658994907/gc_bj_03_5499_160815.png) no-repeat;\\n-webkit-transition:all 0.2s ease-in 0s;\\n-moz-transition:all 0.2s ease-in 0s;\\n-o-transition:all 0.2s ease-in 0s;\\ntransition:all 0.2s ease-in 0s;\\n}\\n.up ul li.active i{\\n\\t-webkit-transform:rotate(180deg);\\n\\t-moz-transform:rotate(180deg);\\n\\t-o-transform:rotate(180deg);\\n\\ttransform:rotate(180deg);\\n}\\n\\n</style>\\n<div id=\"nav\" class=\"nav_box_1000\">\\n  <div class=\"up\" id=\"topnav\">\\n    <div class=\"colnav\">\\n      <div class=\"left\">\\n        <ul>\\n          <li class=\"first eng\">\\n            <a href=\"http://www.cctv.com/\" target=\"_blank\">å¤®è§\\x86ç½\\x91é¦\\x96é¡µ</a></li>\\n          <li class=\"mxl\">\\n            <a href=\"http://news.cctv.com/\" target=\"_blank\">æ\\x96°é\\x97»</a></li>\\n          <li class=\"mxl\">\\n            <a href=\"http://jingji.cctv.com/\" target=\"_blank\">ç»\\x8fæµ\\x8e</a></li>\\n          <li class=\"mxl\">\\n            <a href=\"http://military.cctv.com/index.shtml\" target=\"_blank\">å\\x86\\x9bäº\\x8b</a></li>\\n          <li class=\"mxl\">\\n            <a href=\"http://sports.cctv.com/\" target=\"_blank\">ä½\\x93è\\x82²</a></li>\\n          <li class=\"mxl\">\\n            <a href=\"http://dianshiju.cctv.com/\" target=\"_blank\">ç\\x94µè§\\x86å\\x89§</a></li>\\n          <li class=\"mxl\" id=\"topmore_160922\">\\n            <a id=\"gengduo\">æ\\x9b´å¤\\x9a</a><i></i>\\n            <span>\\n              <a target=\"_blank\" href=\"http://ent.cctv.com/\">ç»¼è\\x89º</a>\\n              <a target=\"_blank\" href=\"http://kejiao.cctv.com/\">ç§\\x91æ\\x95\\x99</a>\\n              <a target=\"_blank\" href=\"http://sannong.cctv.com/\">å\\x86\\x9cä¸\\x9a</a>\\n              <a target=\"_blank\" href=\"http://travel.cctv.com/\">æ\\x97\\x85æ¸¸</a>\\n              <a target=\"_blank\" href=\"http://food.cctv.com/\">ç¾\\x8eé£\\x9f</a>\\n              <a target=\"_blank\" href=\"http://jiankang.cctv.com/\">å\\x81¥åº·</a>\\n              <a target=\"_blank\" href=\"http://gongyi.cctv.com/\">å\\x85¬ç\\x9b\\x8a</a>\\n              <a target=\"_blank\" href=\"http://arts.cctv.com/\">ä¹¦ç\\x94»</a>\\n              <a target=\"_blank\" href=\"http://bbs.cctv.com\">è®ºå\\x9d\\x9b</a>\\n              <a target=\"_blank\" class=\"long\" href=\"http://www.ipanda.com/\">ç\\x86\\x8aç\\x8c«é¢\\x91é\\x81\\x93</a>\\n              <a class=\"long\" target=\"_blank\" href=\"http://www.livechina.com/\">ç\\x9b´æ\\x92\\xadä¸\\xadå\\x9b½</a></span>\\n          </li>\\n          <li class=\"program\">\\n            <a href=\"http://tv.cctv.com/\" target=\"_blank\">\\n              <span></span>è\\x8a\\x82ç\\x9b®å®\\x98ç½\\x91</a>\\n          </li>\\n          <li class=\"mxl\">\\n            <a href=\"http://tv.cctv.com/live/\" target=\"_blank\">ç\\x9b´æ\\x92\\xad</a></li>\\n          <li class=\"mxl\">\\n            <a href=\"http://tv.cctv.com/lm/\" target=\"_blank\">æ\\xa0\\x8fç\\x9b®</a></li>\\n          <li class=\"end\" id=\"topmore_180524\">\\n            <a id=\"gengduo\">é¢\\x91é\\x81\\x93å¤§å\\x85¨</a><i></i>\\n            <div class=\"channel_xiala\" style=\"display: none;\"><span><a class=\"first\" target=\"_blank\" href=\"http://tv.cctv.com/cctv1/\"><img src=\"http://p1.img.cctvpic.com/photoAlbum/templet/common/DEPA1474168873044296/CCTV1_180525.png\"></a><a target=\"_blank\" href=\"http://tv.cctv.com/cctv2/\"><img src=\"http://p1.img.cctvpic.com/photoAlbum/templet/common/DEPA1474168873044296/CCTV2_180525.png\"></a><a href=\"http://tv.cctv.com/cctv3/\"><img src=\"http://p1.img.cctvpic.com/photoAlbum/templet/common/DEPA1474168873044296/CCTV3_180525.png\"></a><a target=\"_blank\" href=\"http://tv.cctv.com/cctv4asia/\"><img src=\"http://p1.img.cctvpic.com/photoAlbum/templet/common/DEPA1474168873044296/CCTV4_180525.png\"></a><a target=\"_blank\" href=\"http://tv.cctv.com/cctv5/\"><img src=\"http://p1.img.cctvpic.com/photoAlbum/templet/common/DEPA1474168873044296/CCTV5_180525.png\"></a><a target=\"_blank\" href=\"http://tv.cctv.com/cctv5plus/\"><img src=\"http://p1.img.cctvpic.com/photoAlbum/templet/common/DEPA1474168873044296/CCTV5+_180525.png\"></a><a target=\"_blank\" href=\"http://tv.cctv.com/cctv6/\"><img src=\"http://p1.img.cctvpic.com/photoAlbum/templet/common/DEPA1474168873044296/CCTV6_180525.png\"></a><a target=\"_blank\" href=\"http://tv.cctv.com/cctv7/\"><img src=\"http://p1.img.cctvpic.com/photoAlbum/templet/common/DEPA1474168873044296/CCTV7_180525.png\"></a><a target=\"_blank\" href=\"http://tv.cctv.com/cctv8/\"><img src=\"http://p1.img.cctvpic.com/photoAlbum/templet/common/DEPA1474168873044296/CCTV8_180525.png\"></a><a target=\"_blank\" href=\"http://tv.cctv.com/cctv9/\"><img src=\"http://p1.img.cctvpic.com/photoAlbum/templet/common/DEPA1474168873044296/CCTV9_180525.png\"></a><a target=\"_blank\" href=\"http://tv.cctv.com/cctv10/\"><img src=\"http://p1.img.cctvpic.com/photoAlbum/templet/common/DEPA1474168873044296/CCTV10_180525.png\"></a><a target=\"_blank\" href=\"http://tv.cctv.com/cctv11/\"><img src=\"http://p1.img.cctvpic.com/photoAlbum/templet/common/DEPA1474168873044296/CCTV11_180525.png\"></a><a target=\"_blank\" href=\"http://tv.cctv.com/cctv12/\"><img src=\"http://p1.img.cctvpic.com/photoAlbum/templet/common/DEPA1474168873044296/CCTV12_180525.png\"></a><a target=\"_blank\" href=\"http://tv.cctv.com/cctv13/\"><img src=\"http://p1.img.cctvpic.com/photoAlbum/templet/common/DEPA1474168873044296/CCTV13_180525.png\"></a><a target=\"_blank\" href=\"http://tv.cctv.com/cctv14/\"><img src=\"http://p1.img.cctvpic.com/photoAlbum/templet/common/DEPA1474168873044296/CCTV14_180525.png\"></a><a class=\"end\" target=\"_blank\" href=\"http://tv.cctv.com/cctv15/\"><img src=\"http://p1.img.cctvpic.com/photoAlbum/templet/common/DEPA1474168873044296/CCTV15_180525.png\"></a>\\n              </span>\\n            </div>\\n          </li>\\n        </ul>\\n      </div>\\n      <form id=\"loginForm\" name=\"loginForm\">\\n        <div class=\"right\" id=\"right\" style=\"width:333px; *width:333px; _width:335px;\">\\n          <ul style=\"float:right; height:40px;\">\\n            <li class=\"loginfo\" id=\"logon2\" style=\"display:none\">æ¬¢è¿\\x8eæ\\x82¨ï¼\\x8c\\n              <a href=\"javascript:;\" id=\"cookie_user_name2\">å¤®è§\\x86ç½\\x91å\\x8f\\x8b</a>&nbsp;&nbsp;\\n              <a href=\"javascript:void(0);\" onclick=\"logout()\" id=\"logout\">é\\x80\\x80å\\x87º</a></li>\\n            <li class=\"col\"></li>\\n            <li class=\"mxl\">\\n              <a href=\"http://help.cntv.cn/\" target=\"_blank\">å®¢æ\\x9c\\x8d</a></li>\\n            <li class=\"col\"></li>\\n            <li class=\"mxl\" id=\"selectBox_160922\">\\n              <a class=\"yingyong\" href=\"javascript:;\" target=\"_blank\">åº\\x94ç\\x94¨</a>\\n              <i class=\"yingyong_\"></i>\\n              <div class=\"selectBox\" style=\"display: none;\">\\n                <a target=\"_blank\" href=\"http://app.cctv.com/appkhdxz/ydb/index.shtml\" class=\"\">å¤®è§\\x86å½±é\\x9f³</a>\\n                <a target=\"_blank\" href=\"http://app.cctv.com/appkhdxz/ysxwydb/index.shtml\" class=\"\">å¤®è§\\x86æ\\x96°é\\x97»</a>\\n                <a target=\"_blank\" href=\"http://app.cctv.com/appkhdxz/xmpdydb/index.shtml\" class=\"\">ç\\x86\\x8aç\\x8c«é¢\\x91é\\x81\\x93</a>\\n                <a target=\"_blank\" href=\"http://m.cctv.com/\" class=\"\">æ\\x89\\x8bæ\\x9cºå¤®è§\\x86ç½\\x91</a></div>\\n            </li>\\n          </ul>\\n          <div id=\"login\" class=\"tn-title\" style=\"display: block;\">\\n            <a id=\"ccc\" class=\"tn-tab\" style=\"background: none; color: rgb(48, 48, 48);\">\\n              <i>ç\\x99»å½\\x95</i>\\n            </a>\\n            <div id=\"SI_Top_LoginLayer\" class=\"tn-topmenulist\" style=\"display: none;\">\\n              <div class=\"outlogin_layerbox_bylx\">\\n                <div class=\"box\">\\n                  <div class=\"cur_move\" style=\"cursor: pointer;\">\\n                    <a class=\"layerbox_close\">Ã\\x97</a>\\n                  </div>\\n                  <div class=\"loginformlist\">\\n                    <table width=\"100%\" border=\"0\" cellspacing=\"0\" cellpadding=\"0\">\\n                      <tbody>\\n                        <tr>\\n                          <td>\\n                            <input type=\"text\" name=\"username\" onfocus=\"if(this.value==this.defaultValue){this.value=\\'\\'}\" onblur=\"if(this.value==\\'\\'){this.value=this.defaultValue}\" value=\"å¸\\x90å\\x8f·\" id=\"username\" class=\"styles\" autocomplete=\"off\" onkeypress=\"getOnkeyDown_login(event)\">\\n                            <input type=\"hidden\" value=\"client_transaction\" id=\"service\" name=\"service\">\\n                            <input type=\"hidden\" value=\"http://www.cntv.cn\" id=\"from\" name=\"from\"></td>\\n                        </tr>\\n                        <tr>\\n                          <td height=\"12\"></td>\\n                        </tr>\\n                        <tr>\\n                          <td>\\n                            <input type=\"text\" style=\"display:block\" onfocus=\"show_pwd();\" value=\"å¯\\x86ç\\xa0\\x81\" class=\"styles\" id=\"passwd_view\" name=\"passwd_view\">\\n                            <input type=\"password\" lang=\"\" onkeypress=\"getOnkeyDown_login(event)\" style=\"display:none\" onfocus=\"document.getElementById(\\'passwd_view\\').style.display=\\'none\\'\" onblur=\"if(this.value==\\'\\'){document.getElementById(\\'passwd_view\\').style.display=\\'block\\';document.getElementById(\\'password\\').style.display=\\'none\\';}\" value=\"\" class=\"styles\" id=\"password\" name=\"password\"></td>\\n                        </tr>\\n                        <tr>\\n                          <td height=\"12\"></td>\\n                        </tr>\\n                      </tbody>\\n                    </table>\\n                    <table border=\"0\" cellspacing=\"0\" cellpadding=\"0\" height=\"30\">\\n                      <tbody>\\n                        <tr>\\n                          <td width=\"80\">\\n                            <a href=\"javascript:void(0);\" onclick=\"loginDemo(); return false;\" class=\"dl\">ç\\x99»å½\\x95</a></td>\\n                          <td width=\"18\">\\n                            <input type=\"checkbox\" id=\"check_user\" name=\"remuser\"></td>\\n                          <td>ä¸\\x8bæ¬¡è\\x87ªå\\x8a¨ç\\x99»å½\\x95</td></tr>\\n                      </tbody>\\n                    </table>\\n                  </div>\\n                  <div class=\"log_option\">\\n                    <a class=\"forget_Pwd\" target=\"_blank\" href=\"http://reg.cctv.com/forgetPassword/findPassword.action\">å¿\\x98è®°å¯\\x86ç\\xa0\\x81</a>\\n                    <a class=\"register_lnk\" href=\"http://reg.cctv.com/regist.html?from=http://202.108.17.136&amp;backurl=http://202.108.17.136/pc/demo/ZeroHome/2018/zhuantidingtong17981_180521/index.html\" target=\"_blank\">ç«\\x8bå\\x8d³æ³¨å\\x86\\x8c</a></div>\\n                  <div class=\"log_cooper\">\\n                    <i>ä½¿ç\\x94¨å\\x90\\x88ä½\\x9cç½\\x91ç«\\x99è´¦å\\x8f·ç\\x99»å½\\x95</i>\\n                    <br>\\n                    <a id=\"weixin_url\" href=\"http://oauth.passport.cntv.cn/OauthClientWeixin/OAuthWeixinClientServlet.do?method=login&amp;cntv_callback=http://202.108.17.136/pc/demo/ZeroHome/2018/zhuantidingtong17981_180521/index.html\">\\n                      <img title=\"å¾®ä¿¡\" alt=\"å¾®ä¿¡\" src=\"http://p5.img.cctvpic.com/photoAlbum/templet/common/DEPA1381197220279381/cooper_wx_141230.png\"></a>\\n                    <a id=\"qq_url\" href=\"http://oauth.passport.cntv.cn/OAuthQzoneClient/OAuthQZoneClientServlet.do?method=login&amp;cntv_callback=http://202.108.17.136/pc/demo/ZeroHome/2018/zhuantidingtong17981_180521/index.html\">\\n                      <img src=\"http://p5.img.cctvpic.com/photoAlbum/templet/common/DEPA1381197220279381/cooper_qq_10886_140506.png\" alt=\"QQ\" title=\"QQ\"></a>\\n                    <a id=\"xl_url\" href=\"http://oauth.passport.cntv.cn/OAuthSinaClient/OAuthSinaClientServlet.do?cntv_callback=http://202.108.17.136/pc/demo/ZeroHome/2018/zhuantidingtong17981_180521/index.html\">\\n                      <img src=\"http://p1.img.cctvpic.com/photoAlbum/templet/common/DEPA1441519391707376/cooper_wb_13730_151019.png\" alt=\"æ\\x96°æµªç½\\x91\" title=\"æ\\x96°æµªç½\\x91\"></a>\\n                    <a id=\"zfb_url\" href=\"http://reg.cctv.com/OauthAlipay/OauthAlipayServlet.action?method=login&amp;cntv_callback=http://202.108.17.136/pc/demo/ZeroHome/2018/zhuantidingtong17981_180521/index.html\">\\n                      <img src=\"http://p1.img.cctvpic.com/photoAlbum/templet/common/DEPA1456645307521846/zfb_14686_160513.png\" width=\"16\" height=\"16\" alt=\"æ\\x94¯ä»\\x98å®\\x9d\" title=\"æ\\x94¯ä»\\x98å®\\x9d\"></a>\\n                  </div>\\n                </div>\\n              </div>\\n            </div>\\n          </div>\\n          <input type=\"hidden\" id=\"cookid\" value=\"\">\\n          <input type=\"hidden\" id=\"nicknm\"></div>\\n      </form>\\n    </div>\\n  </div>\\n</div>\\n<div id=\"message\"></div>\\n<div id=\"passport\"></div>\\n<script language=\"javascript\" charset=\"UTF-8\" src=\"http://www.cntv.cn/Library/passport/2013passport_style/js/login.js\"></script>\\n<script type=\"text/javascript\">\\n\\nvar Url_domainname=location.href;\\nvar Url_domainname1 = \\'\\';\\nvar $=jQuery;\\n//ç\\x99»å½\\x95æ¡\\x86\\n$(\"#login\").mouseenter(function(){\\n\\t$(\"#SI_Top_LoginLayer\").show();\\n\\t$(\"#ccc\").css({\"background\":\"#e8e8e8\",\"color\":\"#1E63B0\"});\\n});\\n$(\"#login\").mouseleave(function(){\\n\\t$(\"#SI_Top_LoginLayer\").hide();\\n\\t$(\"#ccc\").css({\"background\":\"none\",\"color\":\"#303030\"});\\n});\\n$(\"#ccc\").toggle(\\n\\tfunction(){$(\"#SI_Top_LoginLayer\").show();$(\"#ccc\").css({\"background\":\"#e8e8e8\",\"color\":\"#1E63B0\"});},\\n\\tfunction(){$(\"#SI_Top_LoginLayer\").hide();$(\"#ccc\").css({\"background\":\"none\",\"color\":\"#303030\"});}\\n);\\n$(\".cur_move .layerbox_close\").click(function(){\\n\\t$(\"#SI_Top_LoginLayer\").hide();\\n});\\n//é¡¶é\\x83¨å¯¼è\\x88ª\\nvar menu;\\nvar $=jQuery;\\n$(\"#topnav li\").hover(function() {\\n$(this).addClass(\"active\");\\nmenu = $(this).find(\".downMenu\");\\nfunction sDown() {\\nif (!menu.is(\":animated\")) {\\nmenu.slideDown(0);\\n}\\n}\\nsDown();\\n},\\nfunction() {\\n$(this).removeClass(\"active\");\\nmenu = $(this).find(\".downMenu\");\\nfunction sUp() {\\nmenu.slideUp(0);\\n}\\nsUp();\\n});\\n/*é¡¶é\\x80\\x9aæ\\x9b´å¤\\x9a*/\\n$(\"#topmore_160922\").hover(function(){\\n$(this).addClass(\"active\");\\n},function(){\\n$(this).removeClass(\"active\");\\n});\\nvar shorturl = (Url_domainname.substr(0,Url_domainname.indexOf(\"/\",7)));\\nvar zhuceurl = \"http://reg.cctv.com/regist.html?from=\"+shorturl+\"&backurl=\"+encodeURI(Url_domainname);\\n$(\"#SI_Top_LoginLayer .log_option .register_lnk\").attr(\"href\",zhuceurl);\\n\\nif(Url_domainname.indexOf(\"?\")==-1){\\n\\tUrl_domainname1 = Url_domainname;\\n}else{\\n\\tUrl_domainname1 = Url_domainname.substr(0,Url_domainname.indexOf(\"?\"));\\n}\\n\\nvar qq_url = \"http://oauth.passport.cntv.cn/OAuthQzoneClient/OAuthQZoneClientServlet.do?method=login&cntv_callback=\"+encodeURI(Url_domainname1);\\nvar weixin_url = \"http://oauth.passport.cntv.cn/OauthClientWeixin/OAuthWeixinClientServlet.do?method=login&cntv_callback=\"+encodeURI(Url_domainname1);\\nvar xl_url = \"http://oauth.passport.cntv.cn/OAuthSinaClient/OAuthSinaClientServlet.do?cntv_callback=\"+encodeURI(Url_domainname1);\\nvar zfb_url = \"http://reg.cctv.com/OauthAlipay/OauthAlipayServlet.action?method=login&cntv_callback=\"+encodeURI(Url_domainname1);\\n$(\"#qq_url\").attr(\"href\",qq_url);\\n$(\"#weixin_url\").attr(\"href\",weixin_url);\\n$(\"#xl_url\").attr(\"href\",xl_url);\\n$(\"#zfb_url\").attr(\"href\",zfb_url);\\n\\nvar sns_userid = \"\";\\nvar userSeqId = \"\";\\ngetCookie_main();\\nvar sns_userid = getCookie1(\\'userSeqId\\');\\nfunction getCookie_main() {\\nvar userSeqId=getCookie1(\\'userSeqId\\');\\nvar flag = passport.isLoginedStatus();\\nif(flag){\\n\\t$.getJSON(\\n\\t\\t\\'http://i.cctv.com/intf/napi/api.php?client=cntv_top&method=user.getNickName&userid=\\'+userSeqId+\\'&cb=?&format=jsonp\\',\\n\\t\\tfunction(data){\\n\\t\\t\\tif(data.code == 0){\\n\\t\\t\\t\\tvar namecookie = data.content.nickname;\\n\\t\\t\\t\\t\\tif(namecookie.length>8){\\n\\t\\t\\t\\t\\t\\tnamecookie = namecookie.substr(0,5)+\"...\";\\n\\t\\t\\t\\t\\t}else{\\n\\t\\t\\t\\t\\t\\tnamecookie = namecookie;\\n\\t\\t\\t\\t\\t}\\n\\t\\t\\t\\t\\tjQuery(\"#right\").css(\"width\", \"auto\");\\n\\t\\t\\t\\t\\tdocument.getElementById(\\'login\\').style.display = \\'none\\';\\n\\t\\t\\t\\t\\tdocument.getElementById(\\'logon2\\').style.display = \\'block\\';\\n\\t\\t\\t\\t\\tjQuery(\"#cookie_user_name2\").attr(\"title\",namecookie);\\n\\t\\t\\t\\t\\tdocument.getElementById(\"cookie_user_name2\").innerHTML = namecookie;\\n\\t\\t\\t\\t\\tdocument.getElementById(\"cookie_user_name2\").href = \"http://i.cctv.com\";\\n\\t\\t\\t\\t\\tdocument.getElementById(\"cookie_user_name2\").target = \"_blank\";\\n\\t\\t\\t\\t\\tdocument.getElementById(\"nicknm\").value = namecookie;\\n\\t\\t\\t}else{}\\n\\t\\t}\\n\\t\\t);\\n}else{\\n\\t//å±\\x95ç¤º â\\x80\\x9cç\\x99»å½\\x95â\\x80\\x9d æ\\x8c\\x89é\\x92®\\n\\tdocument.getElementById(\\'login\\').style.display = \\'block\\';\\n\\t$(\\'#SI_Top_LoginLayer .loginformlist table\\').eq(0).find(\\'tr\\').eq(0).find(\\'td\\').html(\\'<input type=\"text\" name=\"username\" onfocus=\"if(this.value==this.defaultValue){this.value=\\\\\\'\\\\\\'}\" onblur=\"if(this.value==\\\\\\'\\\\\\'){this.value=this.defaultValue}\" value=\"å¸\\x90å\\x8f·\" id=\"username\" class=\"styles\" autocomplete=\"off\" onkeypress=\"getOnkeyDown_login(event)\"><input type=\"hidden\" value=\"client_transaction\" id=\"service\" name=\"service\"><input type=\"hidden\" value=\"http://www.cntv.cn\" id=\"from\" name=\"from\">\\');\\n\\tdocument.getElementById(\"passwd_view\").style.display = \"block\";\\n\\tdocument.getElementById(\"password\").value = \"\";\\n\\tdocument.getElementById(\"password\").style.display = \"none\";\\n\\tdocument.getElementById(\\'logon2\\').style.display = \\'none\\';\\n\\t$(\"#right\").removeAttr(\"style\");\\n\\t$(\"#right\").addClass(\"jianrong\");\\n}\\n}\\ndocument.getElementById(\"from\").value = shorturl;\\nfunction handleResult (result){\\n\\t\\tvar msg = result.msg;//æ\\x8f\\x90ç¤ºä¿¡æ\\x81¯\\n\\t\\tvar errorCode = result.errorCode;//é\\x94\\x99è¯¯ç\\xa0\\x81ï¼\\x8ci18nå±\\x95ç¤ºç\\x94¨\\n\\t\\tif(passport.usernameError==result.type){//å¦\\x82æ\\x9e\\x9cæ\\x98¯ç\\x94¨æ\\x88·å\\x90\\x8dæ\\x9c\\x89é\\x97®é¢\\x98\\n\\t\\t\\t//å\\x9c¨ç\\x94¨æ\\x88·å\\x90\\x8dç\\x9a\\x84ä½\\x8dç½®å±\\x95ç¤ºé\\x94\\x99è¯¯æ\\x8f\\x90ç¤ºä¿¡æ\\x81¯\\n\\t\\t\\t//alert(msg);\\n\\t\\t\\tif(errorCode == \"-1\"){\\n\\t\\t\\t\\talert(\"æ\\xa0¼å¼\\x8fä¸\\x8dæ\\xad£ç¡®ï¼\\x8cè¯·ä½¿ç\\x94¨é\\x82®ç®±ï¼\\x8cæ\\x89\\x8bæ\\x9cºå\\x8f·ç\\xa0\\x81æ\\x88\\x96å\\x90\\x8då\\xad\\x97\");\\n\\t\\t\\t}else if(errorCode == \"-2\"){\\n\\t\\t\\t\\talert(\"è¯·è¾\\x93å\\x85¥å¯\\x86ç\\xa0\\x81!\");\\n\\t\\t\\t}else if(errorCode == \"-4\"){\\n\\t\\t\\t\\talert(\"è´¦æ\\x88·ä¸\\x8då\\xad\\x98å\\x9c¨!\");\\n\\t\\t\\t}else if(errorCode == \"-11\"){\\n\\t\\t\\t\\talert(\"ä¸\\x8dè\\x83½ç\\x94¨æ\\x98µç§°ç\\x99»å½\\x95ï¼\\x8cè¯·ä½¿ç\\x94¨é\\x82®ç®±ã\\x80\\x81æ\\x89\\x8bæ\\x9cºå\\x8f·æ\\x88\\x96ç\\x94¨æ\\x88·å\\x90\\x8d\");\\n\\t\\t\\t}else if(errorCode == \"-36\"){\\n\\t\\t\\t\\talert(\"å¸\\x90æ\\x88·ä¿¡æ\\x81¯è¿\\x9bè¡\\x8cå®¡æ\\x9f¥ä¸\\xad...\");\\n\\t\\t\\t}else if(errorCode == \"-40\"){\\n\\t\\t\\t\\talert(\"è¯¥å¸\\x90å\\x8f·å·²è¢«å°\\x81ï¼\\x8cè¯·è\\x81\\x94ç³»å®¢æ\\x9c\\x8d!\");\\n\\t\\t\\t}else if(errorCode == \"104\"){\\n\\t\\t\\t\\talert(\"æ\\xad¤å¸\\x90æ\\x88·æ²¡æ\\x9c\\x89æ³¨å\\x86\\x8c!\");\\n\\t\\t\\t}else if(errorCode == \"105\"){\\n\\t\\t\\t\\talert(\"å¯\\x86ç\\xa0\\x81é\\x94\\x99è¯¯ï¼\\x8cè¯·é\\x87\\x8dæ\\x96°è¾\\x93å\\x85¥!\");\\n\\t\\t\\t}else if(errorCode == \"106\"){\\n\\t\\t\\t\\talert(\"æ\\x82¨å°\\x9aæ\\x9cªæ¿\\x80æ´»ï¼\\x8cè¯·å\\x8e»reg.cctv.comæ¿\\x80æ´»!\");\\n\\t\\t\\t}\\n\\t\\t}else if(passport.passwordError==result.type){//å¦\\x82æ\\x9e\\x9cæ\\x98¯å¯\\x86ç\\xa0\\x81æ\\x9c\\x89é\\x97®é¢\\x98\\n\\t\\t\\t//å\\x9c¨å¯\\x86ç\\xa0\\x81ç\\x9a\\x84ä½\\x8dç½®å±\\x95ç¤ºé\\x94\\x99è¯¯æ\\x8f\\x90ç¤ºä¿¡æ\\x81¯\\n\\t\\t\\t//alert(msg);\\n\\t\\t\\tif(errorCode == \"-1\"){\\n\\t\\t\\t\\talert(\"æ\\xa0¼å¼\\x8fä¸\\x8dæ\\xad£ç¡®ï¼\\x8cè¯·ä½¿ç\\x94¨é\\x82®ç®±ï¼\\x8cæ\\x89\\x8bæ\\x9cºå\\x8f·ç\\xa0\\x81æ\\x88\\x96å\\x90\\x8då\\xad\\x97\");\\n\\t\\t\\t}else if(errorCode == \"-2\"){\\n\\t\\t\\t\\talert(\"è¯·è¾\\x93å\\x85¥å¯\\x86ç\\xa0\\x81!\");\\n\\t\\t\\t}else if(errorCode == \"-4\"){\\n\\t\\t\\t\\talert(\"è´¦æ\\x88·ä¸\\x8då\\xad\\x98å\\x9c¨!\");\\n\\t\\t\\t}else if(errorCode == \"-11\"){\\n\\t\\t\\t\\talert(\"ä¸\\x8dè\\x83½ç\\x94¨æ\\x98µç§°ç\\x99»å½\\x95ï¼\\x8cè¯·ä½¿ç\\x94¨é\\x82®ç®±ã\\x80\\x81æ\\x89\\x8bæ\\x9cºå\\x8f·æ\\x88\\x96ç\\x94¨æ\\x88·å\\x90\\x8d\");\\n\\t\\t\\t}else if(errorCode == \"-36\"){\\n\\t\\t\\t\\talert(\"å¸\\x90æ\\x88·ä¿¡æ\\x81¯è¿\\x9bè¡\\x8cå®¡æ\\x9f¥ä¸\\xad...\");\\n\\t\\t\\t}else if(errorCode == \"-40\"){\\n\\t\\t\\t\\talert(\"è¯¥å¸\\x90å\\x8f·å·²è¢«å°\\x81ï¼\\x8cè¯·è\\x81\\x94ç³»å®¢æ\\x9c\\x8d!\");\\n\\t\\t\\t}else if(errorCode == \"104\"){\\n\\t\\t\\t\\talert(\"æ\\xad¤å¸\\x90æ\\x88·æ²¡æ\\x9c\\x89æ³¨å\\x86\\x8c!\");\\n\\t\\t\\t}else if(errorCode == \"105\"){\\n\\t\\t\\t\\talert(\"å¯\\x86ç\\xa0\\x81é\\x94\\x99è¯¯ï¼\\x8cè¯·é\\x87\\x8dæ\\x96°è¾\\x93å\\x85¥!\");\\n\\t\\t\\t}else if(errorCode == \"106\"){\\n\\t\\t\\t\\talert(\"æ\\x82¨å°\\x9aæ\\x9cªæ¿\\x80æ´»ï¼\\x8cè¯·å\\x8e»reg.cctv.comæ¿\\x80æ´»!\");\\n\\t\\t\\t}\\n\\t\\t} else if(passport.success==result.type){//ç\\x99»å½\\x95æ\\x88\\x90å\\x8a\\x9f\\n\\t\\t\\t//å¤\\x84ç\\x90\\x86ç\\x94¨æ\\x88·idï¼\\x9aresult.usrid æ\\x88\\x96è\\x80\\x85 result.user_seq_id\\n\\t\\t\\tif ($(\"#check_user\").attr(\\'checked\\') == \\'checked\\') {\\n\\t\\t\\tsetCookie(\\'cntv_main_usr\\', $(\"#username\").attr(\"value\"));\\n\\t\\t\\t}else{\\n\\t\\t\\t}\\n\\t\\t\\tsns_userid = result.user_seq_id;\\n\\t\\t\\tfunction loadjquery(m){\\n\\t\\t\\t\\tvar d=document.createElement(\"script\");\\n\\t\\t\\t\\td.setAttribute(\"charset\",\"utf-8\");\\n\\t\\t\\t\\td.type=\"text/javascript\";\\n\\t\\t\\t\\td.language=\"javascript\";\\n\\t\\t\\t\\td.src=m;\\n\\t\\t\\t\\tdocument.getElementsByTagName(\"body\")[0].appendChild(d);\\n\\t\\t\\t\\tif(d.readyState){\\n\\t\\t\\t\\td.onreadystatechange=function(){\\n\\t\\t\\t\\t\\tif(!this.readyState||this.readyState==\"loaded\"||this.readyState==\"complete\"){\\n\\t\\t\\t\\t\\t\\tdelete d;\\n\\t\\t\\t\\t\\t}\\n\\t\\t\\t\\t}\\n\\t\\t\\t\\t}else{\\n\\t\\t\\t\\td.onload=function(){\\n\\t\\t\\t\\t\\t\\tdelete d;\\n\\t\\t\\t\\t}\\n\\t\\t\\t\\t}\\n\\t\\t\\t}\\n\\t\\t\\tvar m=\"http://i.cctv.com/intf/napi/api.php?client=cntv_top&method=user.getNickName&userid=\"+result.user_seq_id+\"&cb=callbackfun1&format=jsonp\";\\n\\t\\t\\tloadjquery(m);\\n\\t\\t}\\n\\t}\\nfunction callbackfun1(data){\\n\\tif(data.code == 0){\\n\\tvar nickname = data.content.nickname;\\n\\t\\tif(nickname.length>8){\\n\\t\\t\\tnickname = nickname.substr(0,5)+\"...\";\\n\\t\\t}else{\\n\\t\\t\\tnickname = nickname;\\n\\t\\t}\\n\\t\\t$(\"#cookie_user_name2\").attr(\"title\",data.content.nickname);\\n\\t\\tdocument.getElementById(\\'cookie_user_name2\\').innerHTML = nickname;\\n\\t\\tdocument.getElementById(\"cookie_user_name2\").href = \"http://i.cctv.com\";\\n\\t\\tdocument.getElementById(\"cookie_user_name2\").target = \"_blank\";\\n\\t\\tdocument.getElementById(\\'login\\').style.display = \\'none\\';\\n\\t\\tdocument.getElementById(\\'logon2\\').style.display = \\'block\\';\\n\\t\\t$(\"#right\").css(\"width\", \"auto\");\\n\\t}else{\\n\\t\\talert(data.error);\\n\\t}\\n}\\nfunction loginDemo(){\\n\\tdocument.getElementById(\"username\").value = document.getElementById(\"username\").value;\\n\\tdocument.getElementById(\"password\").value = document.getElementById(\"password\").value;\\n\\tvar re = /[^\\\\u4e00-\\\\u9fa5]/;\\n\\tvar flg = re.test(document.getElementById(\"username\").value);\\n\\tif (document.getElementById(\"username\").value == \"\" || document.getElementById(\"username\").value == \"å¸\\x90å\\x8f·\") {\\n\\t\\tdocument.getElementById(\"username\").focus();\\n\\t\\treturn false\\n\\t} else if (document.getElementById(\"password\").value == \"\") {\\n\\t\\tdocument.getElementById(\"password\").style.display = \"block\";\\n\\t\\tdocument.getElementById(\"password\").focus();\\n\\t\\treturn false\\n\\t} else if (flg == false) {\\n\\t\\talert(\"å¸\\x90å\\x8f·æ\\x88\\x96å¯\\x86ç\\xa0\\x81é\\x94\\x99è¯¯\");\\n\\t\\tdocument.getElementById(\"username\").value = \"\";\\n\\t\\tdocument.getElementById(\"username\").focus();\\n\\t\\treturn false;\\n\\t}\\n\\tvar form = document.getElementById(\"loginForm\");\\n\\tif ($(\"#check_user\").attr(\\'checked\\') == \\'checked\\') {\\n\\t$(\"#check_user\").attr(\"value\", \"checktrue\");\\n\\t}else{\\n\\t$(\"#check_user\").attr(\"value\",\"\");\\n\\t}\\n\\tpassport.checkJsonpForm(form, handleResult);\\n\\t}\\nfunction logout(){\\n\\tvar from = shorturl;\\n\\tpassport.logout(from);\\n\\tif (getCookie1(\\'cntv_main_usr\\') == \"\" || getCookie1(\\'cntv_main_usr\\') == null) {\\n\\t\\t$(\\'#SI_Top_LoginLayer .loginformlist table\\').eq(0).find(\\'tr\\').eq(0).find(\\'td\\').html(\\'<input type=\"text\" name=\"username\" onfocus=\"if(this.value==this.defaultValue){this.value=\\\\\\'\\\\\\'}\" onblur=\"if(this.value==\\\\\\'\\\\\\'){this.value=this.defaultValue}\" value=\"å¸\\x90å\\x8f·\" id=\"username\" class=\"styles\" autocomplete=\"off\" onkeypress=\"getOnkeyDown_login(event)\"><input type=\"hidden\" value=\"client_transaction\" id=\"service\" name=\"service\"><input type=\"hidden\" value=\"http://www.cntv.cn\" id=\"from\" name=\"from\">\\');\\n\\t} else {\\n\\t\\t$(\"#username\").attr(\"value\", getCookie1(\\'cntv_main_usr\\'));\\n\\t\\t$(\"#username\").attr(\"onblur\", \"\").attr(\"onfocus\", \"\");\\n\\t\\t$(\"#check_user\").attr(\\'checked\\', true);\\n\\t}\\n\\tdocument.getElementById(\\'login\\').style.display = \\'block\\';\\n\\tdocument.getElementById(\"passwd_view\").style.display = \"block\";\\n\\tdocument.getElementById(\"password\").value = \"\";\\n\\tdocument.getElementById(\"password\").style.display = \"none\";\\n\\tdocument.getElementById(\\'logon2\\').style.display = \\'none\\';\\n\\t$(\"#right\").removeAttr(\"style\");\\n\\t$(\"#right\").addClass(\"jianrong\");\\n}\\nfunction getOnkeyDown_login(e){\\nvar ev = e;\\nev = ev || event;\\nif(ev.keyCode == 13){\\nloginDemo();\\n}\\n}\\nfunction show_pwd() {\\n    document.getElementById(\"passwd_view\").style.display = \"none\";\\n    document.getElementById(\"password\").style.display = \"block\";\\n    setTimeout(function(){\\n        $(\"#SI_Top_LoginLayer\").css(\"display\",\"block\")\\n        document.getElementById(\"password\").focus()\\n    },1)\\n}\\nfunction checkTime(i) {\\n    if (i < 10) {\\n        i = \"0\" + i\\n    }\\n    return i\\n}\\nvar array = [{\\n    \"id\": \"1\",\\n    \"img_title\": \"ç\\x94µè\\x84\\x91\",\\n    \"className\": \"client01\"\\n},\\n{\\n    \"id\": \"2\",\\n    \"img_title\": \"æ\\x89\\x8bæ\\x9cº\",\\n    \"className\": \"client02\"\\n},\\n{\\n    \"id\": \"3\",\\n    \"img_title\": \"å¹³æ\\x9d¿\",\\n    \"className\": \"client03\"\\n}];\\n\\nfunction getCookie1(name) {\\n    var arr, reg = new RegExp(\"(^| )\" + name + \"=([^;]*)(;|$)\");\\n    if (arr = document.cookie.match(reg)) return unescape(arr[2]);\\n    else return null\\n}\\nfunction setCookie(name, value) {\\n    var Days = 14;\\n    var exp = new Date();\\n    exp.setTime(exp.getTime() + Days * 24 * 60 * 60 * 1000);\\n    document.cookie = name + \"=\" + escape(value) + \";expires=\" + exp.toGMTString()\\n}\\nfunction delCookie(name) {\\n    var exp = new Date();\\n    exp.setTime(exp.getTime() - 1);\\n    var cval = getCookie1(name);\\n    if (cval != null) document.cookie = name + \"=\" + cval + \";expires=\" + exp.toGMTString()\\n}\\nfunction get_main_usr() {\\n    if (getCookie1(\\'cntv_main_usr\\') == \"\" || getCookie1(\\'cntv_main_usr\\') == null) {} else {\\n        $(\"#username\").attr(\"value\", getCookie1(\\'cntv_main_usr\\'));\\n        $(\"#username\").attr(\"onblur\", \"\").attr(\"onfocus\", \"\");\\n        $(\"#check_user\").attr(\\'checked\\', true);\\n    }\\n}\\n$(function() {\\n    get_main_usr()\\n});\\n/*é¢\\x91é\\x81\\x93å¤§å\\x85¨*/\\n$(\"#topmore_180524\").hover(function(){\\n\\t$(this).addClass(\"active\");\\n\\t$(this).find(\".channel_xiala\").slideDown();\\n},function(){\\n\\t$(this).removeClass(\"active\");\\n\\t$(this).find(\".channel_xiala\").hide();\\n});\\n/*åº\\x94ç\\x94¨*/\\n$(\"#selectBox_160922\").hover(function(){\\n\\t$(this).addClass(\"active\");\\n\\t$(this).find(\".selectBox\").slideDown();\\n},function(){\\n\\t$(this).removeClass(\"active\");\\n\\t$(this).find(\".selectBox\").hide();\\n});\\n</script>\\r\\n\\t\\t\\t\\t\\r\\n\\t\\t\\t\\r\\n\\r\\n\\r\\n<div class=\"bg_top_h_tile\">\\r\\n\\t<div class=\"bg_top_owner\">\\r\\n\\t\\t<div class=\"bg_bottom_h_tile\">\\r\\n\\t\\t\\t<div class=\"bg_bottom_owner\">\\r\\n\\t\\t\\t\\t<!-- é¡µå¤´ -->\\r\\n\\t\\t\\t\\t<div id=\"page_head\">\\r\\n\\t\\t\\t\\t\\t<div class=\"lt86\">\\r\\n                        <div class=\"banner\">\\r\\n\\t\\t\\t\\t\\t\\t\\t<a href=\"http://news.cctv.com/yskp/index.shtml\"></a> \\r\\n\\t\\t\\t\\t\\t\\t</div>\\r\\n                    </div>\\r\\n\\t\\t\\t\\t</div>\\r\\n\\t\\t\\t\\t<!-- é¡µä¸»ä½\\x93 -->\\r\\n\\t\\t\\t\\t<div id=\"page_body\">\\r\\n\\t\\t\\t\\t\\t<div class=\"column_wrapper_w1000\">\\r\\n\\t\\t\\t\\t\\t\\t<div class=\"col_w630\">\\r\\n\\t\\t\\t\\t\\t\\t\\t<div class=\"kuaipingdcy17755_ind01\">\\r\\n\\t\\t\\t\\t\\t\\t\\t\\t<div class=\"title\"><h3>\\r\\n\\t\\t\\t\\t\\t\\t\\t\\t\\t\\r\\n\\t\\t\\t\\t\\t\\t\\t\\t\\t\\t<!--repaste.title.begin-->ä¹\\xa0è¿\\x91å¹³ä¸¤å°\\x81è´ºä¿¡é\\x87\\x8cç\\x9a\\x84å\\x90\\x8cä¸\\x80æ·±æ\\x84\\x8f<!--repaste.title.end-->\\r\\n\\t\\t\\t\\t\\t\\t\\t\\t\\t\\r\\n\\t\\t\\t\\t\\t\\t\\t\\t\\t</h3></div>\\r\\n\\t\\t\\t\\t\\t\\t\\t\\t<div class=\"function\">\\r\\n\\t\\t\\t\\t\\t\\t\\t\\t\\t\\r\\n\\t\\t\\t\\t\\t\\t\\t\\t\\t<span class=\"info\"><em style=\"margin-right: 10px;\"><a id=\"mbxtext\" href=\\'http://news.cctv.com/lbj/\\' target=\"_blank\">è\\x81\\x94æ\\x92\\xad+</a><b></b></em><i>æ\\x9d¥æº\\x90ï¼\\x9aå¤®è§\\x86ç½\\x91 2018å¹´10æ\\x9c\\x8819æ\\x97¥ 00:00</i></span>\\r\\n\\t\\t\\t\\t\\t\\t\\t\\t\\t<span class=\"font\"><a href=\"javascript:;\" title=\"å\\xad\\x97å\\x8f·ç¼©å°\\x8f\" class=\"small\">A-</a><a href=\"javascript:;\" title=\"å\\xad\\x97å\\x8f·å\\x8a\\xa0å¤§\" class=\"big\">A+</a></span>\\r\\n\\t\\t\\t\\t\\t\\t\\t\\t\\t\\r\\n\\t\\t\\t\\t\\t\\t\\t\\t</div>\\r\\n\\t\\t\\t\\t\\t\\t\\t\\t<div class=\"function_mobile\">\\r\\n\\t\\t\\t\\t\\t\\t\\t\\t\\r\\n\\t\\t\\t\\t\\t\\t\\t\\t\\t<span class=\"info_mobile\"><em style=\"margin-right: 2px;\"><a id=\"mbxtext\" href=\\'http://news.cctv.com/lbj/\\' target=\"_blank\">è\\x81\\x94æ\\x92\\xad+</a><b></b></em>\\tå¤®è§\\x86ç½\\x91 2018-10-19</span>\\r\\n\\t\\t\\t\\t\\t\\t\\t\\t\\t<span class=\"font\"><a href=\"javascript:;\" title=\"å\\xad\\x97å\\x8f·ç¼©å°\\x8f\" class=\"small\">A-</a><a href=\"javascript:;\" title=\"å\\xad\\x97å\\x8f·å\\x8a\\xa0å¤§\" class=\"big\">A+</a></span>\\r\\n\\t\\t\\t\\t\\t\\t\\t\\t\\t\\r\\n\\t\\t\\t\\t\\t\\t\\t\\t\\t\\r\\n\\t\\t\\t\\t\\t\\t\\t\\t\\t\\r\\n\\t\\t\\t\\t\\t\\t\\t\\t</div>\\r\\n\\t\\t\\t\\t\\t\\t\\t\\t\\r\\n\\t\\t\\t\\t\\t\\t            \\r\\n\\t\\t\\t\\t\\t\\t            <p class=\"o-tit_0505i\" style=\"display: none;\"><strong>å\\x8e\\x9fæ\\xa0\\x87é¢\\x98ï¼\\x9a</strong></p>\\r\\n\\t\\t\\t\\t\\t\\t            <script type=\"text/javascript\">\\r\\n\\t\\t\\t\\t\\t\\t                var tit = \"\";\\r\\n\\t\\t\\t\\t\\t\\t                if(tit==\"\"||tit==null){\\r\\n\\t\\t\\t\\t\\t\\t                    jQuery(\".o-tit_0505i\").css(\"display\",\"none\");\\r\\n\\t\\t\\t\\t\\t\\t                }else{\\r\\n\\t\\t\\t\\t\\t\\t                    jQuery(\".o-tit_0505i strong\").after(tit);\\r\\n\\t\\t\\t\\t\\t\\t                }\\r\\n\\t\\t\\t\\t\\t\\t            </script>\\r\\n\\t\\t\\t\\t\\t\\t            \\r\\n            \\r\\n\\t\\t\\t\\t\\t\\t\\t\\t<div class=\"image\">\\r\\n\\t\\t\\t\\t\\t\\t\\t\\t\\t\\r\\n\\t\\t\\t\\t\\t\\t\\t\\t\\t\\t<p>ã\\x80\\x80ã\\x80\\x8010æ\\x9c\\x8818æ\\x97¥ï¼\\x8cä¹\\xa0è¿\\x91å¹³è¿\\x9eå\\x8f\\x91ä¸¤å°\\x81è´ºä¿¡ï¼\\x8cä¸\\x80å°\\x81è\\x87´&ldquo;ä¸\\x80å¸¦ä¸\\x80è·¯&rdquo;è\\x83½æº\\x90é\\x83¨é\\x95¿ä¼\\x9aè®®å\\x92\\x8cå\\x9b½é\\x99\\x85è\\x83½æº\\x90å\\x8f\\x98é\\x9d©è®ºå\\x9d\\x9bï¼\\x8cä¸\\x80å°\\x81è\\x87´å¤ªæ¹\\x96ä¸\\x96ç\\x95\\x8cæ\\x96\\x87å\\x8c\\x96è®ºå\\x9d\\x9bç¬¬äº\\x94å±\\x8aå¹´ä¼\\x9aã\\x80\\x82</p>\\r\\n<p>ã\\x80\\x80ã\\x80\\x80ä¸¤å°\\x81è´ºä¿¡ä¸\\xadï¼\\x8c&ldquo;æ\\x8e¨å\\x8a¨æ\\x9e\\x84å»ºäººç±»å\\x91½è¿\\x90å\\x85±å\\x90\\x8cä½\\x93&rdquo;æ\\x98¯ä¹\\xa0è¿\\x91å¹³ä¸\\x80å\\x86\\x8dæ\\x8f\\x90å\\x8f\\x8aç\\x9a\\x84ä¸»é¢\\x98ï¼\\x9a</p>\\r\\n<p>ã\\x80\\x80ã\\x80\\x80&mdash;&mdash;&ldquo;å¸\\x8cæ\\x9c\\x9bä¸\\x8eä¼\\x9aå\\x98\\x89å®¾å°±æ·±å\\x8c\\x96è\\x83½æº\\x90å\\x9b½é\\x99\\x85å\\x90\\x88ä½\\x9cå\\x92\\x8cä¿\\x83è¿\\x9bå\\x85¨ç\\x90\\x83è\\x83½æº\\x90å\\x8f\\x98é\\x9d©ç\\xad\\x89é\\x87\\x8då¤§é\\x97®é¢\\x98æ·±å\\x85¥äº¤æµ\\x81ã\\x80\\x81å\\x87\\x9dè\\x81\\x9aå\\x85±è¯\\x86ï¼\\x8cæ\\x8e¨å\\x8a¨å»ºç«\\x8b&lsquo;ä¸\\x80å¸¦ä¸\\x80è·¯&rsquo;è\\x83½æº\\x90å\\x90\\x88ä½\\x9cä¼\\x99ä¼´å\\x85³ç³»ï¼\\x8cä¸ºæ\\x8e¨å\\x8a¨æ\\x9e\\x84å»ºäººç±»å\\x91½è¿\\x90å\\x85±å\\x90\\x8cä½\\x93ä½\\x9cå\\x87ºç§¯æ\\x9e\\x81è´¡ç\\x8c®ã\\x80\\x82&rdquo;</p>\\r\\n<p>ã\\x80\\x80ã\\x80\\x80&mdash;&mdash;&ldquo;æ\\x88\\x91ä»¬æ\\x84¿å\\x90\\x8cå\\x9b½é\\x99\\x85ç¤¾ä¼\\x9aä¸\\x80é\\x81\\x93ï¼\\x8cæ\\x8e¨å\\x8a¨ä¸\\x8då\\x90\\x8cæ\\x96\\x87æ\\x98\\x8eç\\x9b¸äº\\x92å°\\x8aé\\x87\\x8dã\\x80\\x81å\\x92\\x8cè°\\x90å\\x85±å¤\\x84ï¼\\x8cè®©æ\\x96\\x87æ\\x98\\x8eäº\\x92å\\xad¦äº\\x92é\\x89´æ\\x88\\x90ä¸ºæ\\x8e¨å\\x8a¨æ\\x9e\\x84å»ºäººç±»å\\x91½è¿\\x90å\\x85±å\\x90\\x8cä½\\x93ç\\x9a\\x84ç§¯æ\\x9e\\x81å\\x8a\\x9bé\\x87\\x8fï¼\\x8cæ\\x90ºæ\\x89\\x8bå\\x88\\x86äº«å\\x8f\\x91å±\\x95æ\\x9cºé\\x81\\x87ã\\x80\\x81åº\\x94å¯¹å\\x85±å\\x90\\x8cæ\\x8c\\x91æ\\x88\\x98ï¼\\x8cå»ºè®¾æ\\x9b´å\\x8a\\xa0ç¾\\x8eå¥½ç\\x9a\\x84ä¸\\x96ç\\x95\\x8cã\\x80\\x82&rdquo;</p>\\r\\n<p>ã\\x80\\x80ã\\x80\\x80å\\x9d\\x9aæ\\x8c\\x81æ\\x8e¨å\\x8a¨æ\\x9e\\x84å»ºäººç±»å\\x91½è¿\\x90å\\x85±å\\x90\\x8cä½\\x93ï¼\\x8cæ\\x98¯ä¹\\xa0è¿\\x91å¹³æ\\x96°æ\\x97¶ä»£ä¸\\xadå\\x9b½ç\\x89¹è\\x89²ç¤¾ä¼\\x9aä¸»ä¹\\x89å¤\\x96äº¤æ\\x80\\x9dæ\\x83³ç\\x9a\\x84é\\x87\\x8dè¦\\x81å\\x86\\x85å®¹ã\\x80\\x82å\\x85\\x9aç\\x9a\\x84å\\x8d\\x81å\\x85«å¤§ä»¥æ\\x9d¥ï¼\\x8cä¹\\xa0è¿\\x91å¹³ç«\\x99å\\x9c¨äººç±»å\\x8e\\x86å\\x8f²å\\x8f\\x91å±\\x95è¿\\x9bç¨\\x8bç\\x9a\\x84é«\\x98åº¦ï¼\\x8cæ\\xad£ç¡®æ\\x8a\\x8aæ\\x8f¡å\\x9b½é\\x99\\x85å½¢å\\x8a¿ç\\x9a\\x84æ·±å\\x88»å\\x8f\\x98å\\x8c\\x96ï¼\\x8cé¡ºåº\\x94å\\x92\\x8cå¹³ã\\x80\\x81å\\x8f\\x91å±\\x95ã\\x80\\x81å\\x90\\x88ä½\\x9cã\\x80\\x81å\\x85±èµ¢ç\\x9a\\x84æ\\x97¶ä»£æ½®æµ\\x81ï¼\\x8cæ·±å\\x85¥æ\\x80\\x9dè\\x80\\x83&ldquo;å»ºè®¾ä¸\\x80ä¸ªä»\\x80ä¹\\x88æ\\xa0·ç\\x9a\\x84ä¸\\x96ç\\x95\\x8cã\\x80\\x81å¦\\x82ä½\\x95å»ºè®¾è¿\\x99ä¸ªä¸\\x96ç\\x95\\x8c&rdquo;ç\\xad\\x89å\\x85³ä¹\\x8eäººç±»å\\x89\\x8dé\\x80\\x94å\\x91½è¿\\x90ç\\x9a\\x84é\\x87\\x8då¤§è¯¾é¢\\x98ï¼\\x8cå¯¹æ\\x9e\\x84å»ºäººç±»å\\x91½è¿\\x90å\\x85±å\\x90\\x8cä½\\x93ç\\x9a\\x84æ\\x97¶ä»£è\\x83\\x8cæ\\x99¯ã\\x80\\x81é\\x87\\x8då¤§æ\\x84\\x8fä¹\\x89ã\\x80\\x81ä¸°å¯\\x8cå\\x86\\x85æ¶µå\\x92\\x8cå®\\x9eç\\x8e°é\\x80\\x94å¾\\x84ç\\xad\\x89é\\x87\\x8då¤§é\\x97®é¢\\x98è¿\\x9bè¡\\x8cæ·±å\\x88»é\\x98\\x90è¿°ã\\x80\\x82å¤®è§\\x86ç½\\x91ç\\x89¹è¿\\x9bè¡\\x8cæ¢³ç\\x90\\x86ï¼\\x8cé\\x87\\x8dæ¸©æ\\x80»ä¹¦è®°æ\\x9c\\x89å\\x85³è¿\\x99ä¸\\x80ä¸»é¢\\x98ç\\x9a\\x84ç²¾å½©è®ºè¿°ã\\x80\\x82</p>\\r\\n<p class=\"text_h1\"><span><strong>å»ºè®¾ä¸\\x80ä¸ªä»\\x80ä¹\\x88æ\\xa0·ç\\x9a\\x84ä¸\\x96ç\\x95\\x8c</strong></span></p>\\r\\n<div class=\"back_a3 text\">\\r\\n<div class=\"text_bg\">\\r\\n<p>ã\\x80\\x80ã\\x80\\x80ä»\\x8eé¡ºåº\\x94å\\x8e\\x86å\\x8f²æ½®æµ\\x81ã\\x80\\x81å¢\\x9eè¿\\x9bäººç±»ç¦\\x8fç¥\\x89å\\x87ºå\\x8f\\x91ï¼\\x8cæ\\x88\\x91æ\\x8f\\x90å\\x87ºæ\\x8e¨å\\x8a¨æ\\x9e\\x84å»ºäººç±»å\\x91½è¿\\x90å\\x85±å\\x90\\x8cä½\\x93ç\\x9a\\x84å\\x80¡è®®ï¼\\x8cå¹¶å\\x90\\x8cæ\\x9c\\x89å\\x85³å\\x90\\x84æ\\x96¹å¤\\x9aæ¬¡æ·±å\\x85¥äº¤æ\\x8d¢æ\\x84\\x8fè§\\x81ã\\x80\\x82æ\\x88\\x91é«\\x98å\\x85´å\\x9c°ç\\x9c\\x8bå\\x88°ï¼\\x8cè¿\\x99ä¸\\x80å\\x80¡è®®å¾\\x97å\\x88°è¶\\x8aæ\\x9d¥è¶\\x8aå¤\\x9aå\\x9b½å®¶å\\x92\\x8cäººæ°\\x91æ¬¢è¿\\x8eå\\x92\\x8cè®¤å\\x90\\x8cï¼\\x8cå¹¶è¢«å\\x86\\x99è¿\\x9bäº\\x86è\\x81\\x94å\\x90\\x88å\\x9b½é\\x87\\x8dè¦\\x81æ\\x96\\x87ä»¶ã\\x80\\x82æ\\x88\\x91å¸\\x8cæ\\x9c\\x9bï¼\\x8cå\\x90\\x84å\\x9b½äººæ°\\x91å\\x90\\x8cå¿\\x83å\\x8d\\x8få\\x8a\\x9bã\\x80\\x81æ\\x90ºæ\\x89\\x8bå\\x89\\x8dè¡\\x8cï¼\\x8cå\\x8aªå\\x8a\\x9bæ\\x9e\\x84å»ºäººç±»å\\x91½è¿\\x90å\\x85±å\\x90\\x8cä½\\x93ï¼\\x8cå\\x85±å\\x88\\x9bå\\x92\\x8cå¹³ã\\x80\\x81å®\\x89å®\\x81ã\\x80\\x81ç¹\\x81è\\x8d£ã\\x80\\x81å¼\\x80æ\\x94¾ã\\x80\\x81ç¾\\x8eä¸½ç\\x9a\\x84äº\\x9aæ´²å\\x92\\x8cä¸\\x96ç\\x95\\x8cã\\x80\\x82</p>\\r\\n<p>ã\\x80\\x80ã\\x80\\x80&mdash;&mdash;2018å¹´4æ\\x9c\\x8810æ\\x97¥ï¼\\x8cå\\x9c¨å\\x8d\\x9aé³\\x8cäº\\x9aæ´²è®ºå\\x9d\\x9b2018å¹´å¹´ä¼\\x9aå¼\\x80å¹\\x95å¼\\x8fä¸\\x8aç\\x9a\\x84ä¸»æ\\x97¨æ¼\\x94è®²</p>\\r\\n<p>ã\\x80\\x80ã\\x80\\x80æ\\x88\\x91ä»¬è¦\\x81å\\x9d\\x9aå®\\x9aä¸\\x8dç§»å\\x8f\\x91å±\\x95å¼\\x80æ\\x94¾å\\x9e\\x8bä¸\\x96ç\\x95\\x8cç»\\x8fæµ\\x8eï¼\\x8cå\\x9c¨å¼\\x80æ\\x94¾ä¸\\xadå\\x88\\x86äº«æ\\x9cºä¼\\x9aå\\x92\\x8cå\\x88©ç\\x9b\\x8aã\\x80\\x81å®\\x9eç\\x8e°äº\\x92å\\x88©å\\x85±èµ¢ã\\x80\\x82ä¸\\x8dè\\x83½ä¸\\x80é\\x81\\x87å\\x88°é£\\x8eæµªå°±é\\x80\\x80å\\x9b\\x9eå\\x88°æ¸¯æ¹¾ä¸\\xadå\\x8e»ï¼\\x8cé\\x82£æ\\x98¯æ°¸è¿\\x9cä¸\\x8dè\\x83½å\\x88°è¾¾å½¼å²¸ç\\x9a\\x84ã\\x80\\x82æ\\x88\\x91ä»¬è¦\\x81ä¸\\x8bå¤§æ°\\x94å\\x8a\\x9bå\\x8f\\x91å±\\x95å\\x85¨ç\\x90\\x83äº\\x92è\\x81\\x94äº\\x92é\\x80\\x9aï¼\\x8cè®©ä¸\\x96ç\\x95\\x8cå\\x90\\x84å\\x9b½å®\\x9eç\\x8e°è\\x81\\x94å\\x8a¨å¢\\x9eé\\x95¿ï¼\\x8cèµ°å\\x90\\x91å\\x85±å\\x90\\x8cç¹\\x81è\\x8d£ã\\x80\\x82</p>\\r\\n<p>ã\\x80\\x80ã\\x80\\x80&mdash;&mdash;2017å¹´1æ\\x9c\\x8817æ\\x97¥ï¼\\x8cå\\x9c¨ä¸\\x96ç\\x95\\x8cç»\\x8fæµ\\x8eè®ºå\\x9d\\x9b2017å¹´å¹´ä¼\\x9aå¼\\x80å¹\\x95å¼\\x8fä¸\\x8aç\\x9a\\x84ä¸»æ\\x97¨æ¼\\x94è®²</p>\\r\\n<p>ã\\x80\\x80ã\\x80\\x80æ\\x88\\x91ä»¬è¦\\x81å\\x8aªå\\x8a\\x9bå»ºè®¾ä¸\\x80ä¸ªè¿\\x9cç¦»æ\\x81\\x90æ\\x83§ã\\x80\\x81æ\\x99®é\\x81\\x8då®\\x89å\\x85¨ç\\x9a\\x84ä¸\\x96ç\\x95\\x8cï¼\\x8cå\\x9d\\x9aæ\\x8c\\x81å\\x85±å\\x90\\x8cã\\x80\\x81ç»¼å\\x90\\x88ã\\x80\\x81å\\x90\\x88ä½\\x9cã\\x80\\x81å\\x8f¯æ\\x8c\\x81ç»\\xadç\\x9a\\x84æ\\x96°å®\\x89å\\x85¨è§\\x82ï¼\\x8cè\\x90¥é\\x80\\xa0å\\x85¬å¹³æ\\xad£ä¹\\x89ã\\x80\\x81å\\x85±å»ºå\\x85±äº«ç\\x9a\\x84å®\\x89å\\x85¨æ\\xa0¼å±\\x80ï¼\\x9bæ\\x88\\x91ä»¬è¦\\x81å\\x8aªå\\x8a\\x9bå»ºè®¾ä¸\\x80ä¸ªè¿\\x9cç¦»è´«å\\x9b°ã\\x80\\x81å\\x85±å\\x90\\x8cç¹\\x81è\\x8d£ç\\x9a\\x84ä¸\\x96ç\\x95\\x8cï¼\\x8cå\\x9d\\x9aæ\\x8c\\x81ä½\\xa0å¥½æ\\x88\\x91å¥½å¤§å®¶å¥½ç\\x9a\\x84ç\\x90\\x86å¿µï¼\\x8cè®©å\\x8f\\x91å±\\x95æ\\x88\\x90æ\\x9e\\x9cæ\\x83\\xa0å\\x8f\\x8aä¸\\x96ç\\x95\\x8cå\\x90\\x84å\\x9b½ï¼\\x8cè®©äººäººäº«æ\\x9c\\x89å¯\\x8cè¶³å®\\x89åº·ï¼\\x9bæ\\x88\\x91ä»¬è¦\\x81å\\x8aªå\\x8a\\x9bå»ºè®¾ä¸\\x80ä¸ªè¿\\x9cç¦»å°\\x81é\\x97\\xadã\\x80\\x81å¼\\x80æ\\x94¾å\\x8c\\x85å®¹ç\\x9a\\x84ä¸\\x96ç\\x95\\x8cï¼\\x8cå\\x9d\\x9aæ\\x8c\\x81ä¸\\x96ç\\x95\\x8cæ\\x98¯ä¸°å¯\\x8cå¤\\x9aå½©ç\\x9a\\x84ã\\x80\\x81æ\\x96\\x87æ\\x98\\x8eæ\\x98¯å¤\\x9aæ\\xa0·ç\\x9a\\x84ç\\x90\\x86å¿µï¼\\x8cè®©å\\x90\\x84ç§\\x8dæ\\x96\\x87æ\\x98\\x8eå\\x92\\x8cè°\\x90å\\x85±å\\xad\\x98ï¼\\x9bæ\\x88\\x91ä»¬è¦\\x81å\\x8aªå\\x8a\\x9bå»ºè®¾ä¸\\x80ä¸ªå±±æ¸\\x85æ°´ç§\\x80ã\\x80\\x81æ¸\\x85æ´\\x81ç¾\\x8eä¸½ç\\x9a\\x84ä¸\\x96ç\\x95\\x8cï¼\\x8cå\\x9d\\x9aæ\\x8c\\x81äººä¸\\x8eè\\x87ªç\\x84¶å\\x85±ç\\x94\\x9få\\x85±å\\xad\\x98ç\\x9a\\x84ç\\x90\\x86å¿µï¼\\x8cå\\x85±å\\x90\\x8cè\\x90¥é\\x80\\xa0å\\x92\\x8cè°\\x90å®\\x9cå±\\x85ç\\x9a\\x84äººç±»å®¶å\\x9b\\xadã\\x80\\x82</p>\\r\\n<p>ã\\x80\\x80ã\\x80\\x80&mdash;&mdash;2017å¹´12æ\\x9c\\x881æ\\x97¥ï¼\\x8cå\\x9c¨ä¸\\xadå\\x9b½å\\x85±äº§å\\x85\\x9aä¸\\x8eä¸\\x96ç\\x95\\x8cæ\\x94¿å\\x85\\x9aé«\\x98å±\\x82å¯¹è¯\\x9dä¼\\x9aä¸\\x8aç\\x9a\\x84ä¸»æ\\x97¨è®²è¯\\x9d</p>\\r\\n</div>\\r\\n</div>\\r\\n<p class=\"text_h1\"><span><strong>å¦\\x82ä½\\x95å»ºè®¾è¿\\x99ä¸ªä¸\\x96ç\\x95\\x8c</strong></span></p>\\r\\n<div class=\"back_a3 text\">\\r\\n<div class=\"text_bg\">\\r\\n<p>ã\\x80\\x80ã\\x80\\x80&ldquo;å¤§é\\x81\\x93ä¹\\x8bè¡\\x8cä¹\\x9fï¼\\x8cå¤©ä¸\\x8bä¸ºå\\x85¬ã\\x80\\x82&rdquo;å\\x92\\x8cå¹³ã\\x80\\x81å\\x8f\\x91å±\\x95ã\\x80\\x81å\\x85¬å¹³ã\\x80\\x81æ\\xad£ä¹\\x89ã\\x80\\x81æ°\\x91ä¸»ã\\x80\\x81è\\x87ªç\\x94±ï¼\\x8cæ\\x98¯å\\x85¨äººç±»ç\\x9a\\x84å\\x85±å\\x90\\x8cä»·å\\x80¼ï¼\\x8cä¹\\x9fæ\\x98¯è\\x81\\x94å\\x90\\x88å\\x9b½ç\\x9a\\x84å´\\x87é«\\x98ç\\x9b®æ\\xa0\\x87ã\\x80\\x82ç\\x9b®æ\\xa0\\x87è¿\\x9cæ\\x9cªå®\\x8cæ\\x88\\x90ï¼\\x8cæ\\x88\\x91ä»¬ä»\\x8dé¡»å\\x8aªå\\x8a\\x9bã\\x80\\x82å½\\x93ä»\\x8aä¸\\x96ç\\x95\\x8cï¼\\x8cå\\x90\\x84å\\x9b½ç\\x9b¸äº\\x92ä¾\\x9då\\xad\\x98ã\\x80\\x81ä¼\\x91æ\\x88\\x9aä¸\\x8eå\\x85±ã\\x80\\x82æ\\x88\\x91ä»¬è¦\\x81ç»§æ\\x89¿å\\x92\\x8cå¼\\x98æ\\x89¬è\\x81\\x94å\\x90\\x88å\\x9b½å®ªç«\\xa0ç\\x9a\\x84å®\\x97æ\\x97¨å\\x92\\x8cå\\x8e\\x9få\\x88\\x99ï¼\\x8cæ\\x9e\\x84å»ºä»¥å\\x90\\x88ä½\\x9cå\\x85±èµ¢ä¸ºæ\\xa0¸å¿\\x83ç\\x9a\\x84æ\\x96°å\\x9e\\x8bå\\x9b½é\\x99\\x85å\\x85³ç³»ï¼\\x8cæ\\x89\\x93é\\x80\\xa0äººç±»å\\x91½è¿\\x90å\\x85±å\\x90\\x8cä½\\x93ã\\x80\\x82</p>\\r\\n<p>ã\\x80\\x80ã\\x80\\x80&mdash;&mdash;2015å¹´9æ\\x9c\\x8828æ\\x97¥ï¼\\x8cå\\x9c¨ç¬¬70å±\\x8aè\\x81\\x94å\\x90\\x88å\\x9b½å¤§ä¼\\x9aä¸\\x80è\\x88¬æ\\x80§è¾©è®ºæ\\x97¶ç\\x9a\\x84è®²è¯\\x9d</p>\\r\\n<p>ã\\x80\\x80ã\\x80\\x80ç\\x8e¯é¡¾ä¸\\x96ç\\x95\\x8cï¼\\x8cå\\x92\\x8cå¹³ä¸\\x8eå\\x8f\\x91å±\\x95ä»\\x8dç\\x84¶æ\\x98¯å½\\x93ä»\\x8aæ\\x97¶ä»£ä¸¤å¤§ä¸»é¢\\x98ã\\x80\\x82è¦\\x81è§£å\\x86³å¥½å\\x90\\x84ç§\\x8då\\x85¨ç\\x90\\x83æ\\x80§æ\\x8c\\x91æ\\x88\\x98ï¼\\x8cå\\x8c\\x85æ\\x8b¬æ\\x9c\\x80è¿\\x91å\\x8f\\x91ç\\x94\\x9få\\x9c¨æ¬§æ´²ç\\x9a\\x84é\\x9a¾æ°\\x91å\\x8d±æ\\x9cºï¼\\x8cæ\\xa0¹æ\\x9c¬å\\x87ºè·¯å\\x9c¨äº\\x8eè°\\x8bæ±\\x82å\\x92\\x8cå¹³ã\\x80\\x81å®\\x9eç\\x8e°å\\x8f\\x91å±\\x95ã\\x80\\x82é\\x9d¢å¯¹é\\x87\\x8dé\\x87\\x8dæ\\x8c\\x91æ\\x88\\x98å\\x92\\x8cé\\x81\\x93é\\x81\\x93é\\x9a¾å\\x85³ï¼\\x8cæ\\x88\\x91ä»¬å¿\\x85é¡»æ\\x94¥ç´§å\\x8f\\x91å±\\x95è¿\\x99æ\\x8a\\x8aé\\x92¥å\\x8c\\x99ã\\x80\\x82å\\x94¯æ\\x9c\\x89å\\x8f\\x91å±\\x95ï¼\\x8cæ\\x89\\x8dè\\x83½æ¶\\x88é\\x99¤å\\x86²çª\\x81ç\\x9a\\x84æ\\xa0¹æº\\x90ã\\x80\\x82å\\x94¯æ\\x9c\\x89å\\x8f\\x91å±\\x95ï¼\\x8cæ\\x89\\x8dè\\x83½ä¿\\x9dé\\x9a\\x9cäººæ°\\x91ç\\x9a\\x84å\\x9fºæ\\x9c¬æ\\x9d\\x83å\\x88©ã\\x80\\x82å\\x94¯æ\\x9c\\x89å\\x8f\\x91å±\\x95ï¼\\x8cæ\\x89\\x8dè\\x83½æ»¡è¶³äººæ°\\x91å¯¹ç¾\\x8eå¥½ç\\x94\\x9fæ´»ç\\x9a\\x84ç\\x83\\xadå\\x88\\x87å\\x90\\x91å¾\\x80ã\\x80\\x82</p>\\r\\n<p>ã\\x80\\x80ã\\x80\\x80&mdash;&mdash;2015å¹´9æ\\x9c\\x8826æ\\x97¥ï¼\\x8cå\\x9c¨è\\x81\\x94å\\x90\\x88å\\x9b½å\\x8f\\x91å±\\x95å³°ä¼\\x9aä¸\\x8aç\\x9a\\x84è®²è¯\\x9d</p>\\r\\n<p>ã\\x80\\x80ã\\x80\\x80ä¸»æ\\x9d\\x83æ\\x98¯å\\x9b½å®¶ç\\x8b¬ç«\\x8bç\\x9a\\x84æ\\xa0¹æ\\x9c¬æ\\xa0\\x87å¿\\x97ï¼\\x8cä¹\\x9fæ\\x98¯å\\x9b½å®¶å\\x88©ç\\x9b\\x8aç\\x9a\\x84æ\\xa0¹æ\\x9c¬ä½\\x93ç\\x8e°å\\x92\\x8cå\\x8f¯é\\x9d\\xa0ä¿\\x9dè¯\\x81ã\\x80\\x82å\\x9b½å®¶ä¸\\x8då\\x88\\x86å¤§å°\\x8fã\\x80\\x81å¼ºå¼±ã\\x80\\x81è´«å¯\\x8cï¼\\x8cé\\x83½æ\\x98¯å\\x9b½é\\x99\\x85ç¤¾ä¼\\x9aå¹³ç\\xad\\x89æ\\x88\\x90å\\x91\\x98ï¼\\x8cé\\x83½æ\\x9c\\x89å¹³ç\\xad\\x89å\\x8f\\x82ä¸\\x8eå\\x9b½é\\x99\\x85äº\\x8bå\\x8a¡ç\\x9a\\x84æ\\x9d\\x83å\\x88©ï¼\\x8cå\\x90\\x84å\\x9b½åº\\x94è¯¥å°\\x8aé\\x87\\x8då½¼æ\\xad¤æ\\xa0¸å¿\\x83å\\x88©ç\\x9b\\x8aå\\x92\\x8cé\\x87\\x8då¤§å\\x85³å\\x88\\x87ã\\x80\\x82å\\x90\\x84å\\x9b½ç\\x9a\\x84äº\\x8bå\\x8a¡åº\\x94è¯¥ç\\x94±å\\x90\\x84å\\x9b½äººæ°\\x91è\\x87ªå·±æ\\x9d¥ç®¡ï¼\\x8cä¸\\x96ç\\x95\\x8cç\\x9a\\x84å\\x91½è¿\\x90å¿\\x85é¡»ç\\x94±å\\x90\\x84å\\x9b½äººæ°\\x91å\\x85±å\\x90\\x8cæ\\x8e\\x8cæ\\x8f¡ï¼\\x8cä¸\\x96ç\\x95\\x8cä¸\\x8aç\\x9a\\x84äº\\x8bæ\\x83\\x85å\\x8fªè\\x83½ç\\x94±å\\x90\\x84å\\x9b½æ\\x94¿åº\\x9cå\\x92\\x8cäººæ°\\x91å\\x85±å\\x90\\x8cå\\x95\\x86é\\x87\\x8fæ\\x9d¥å\\x8a\\x9eã\\x80\\x82</p>\\r\\n<p>ã\\x80\\x80ã\\x80\\x80&mdash;&mdash;2014å¹´7æ\\x9c\\x8816æ\\x97¥ï¼\\x8cå\\x9c¨å·´è¥¿å\\x9b½ä¼\\x9aç\\x9a\\x84æ¼\\x94è®²</p>\\r\\n<p>ã\\x80\\x80ã\\x80\\x80&ldquo;ç§¯å\\x8a\\x9bä¹\\x8bæ\\x89\\x80ä¸¾ï¼\\x8cå\\x88\\x99æ\\x97\\xa0ä¸\\x8dè\\x83\\x9cä¹\\x9fï¼\\x9bä¼\\x97æ\\x99ºä¹\\x8bæ\\x89\\x80ä¸ºï¼\\x8cå\\x88\\x99æ\\x97\\xa0ä¸\\x8dæ\\x88\\x90ä¹\\x9fã\\x80\\x82&rdquo;å\\x8fªè¦\\x81æ\\x88\\x91ä»¬ç\\x89¢å\\x9bºæ\\xa0\\x91ç«\\x8bäººç±»å\\x91½è¿\\x90å\\x85±å\\x90\\x8cä½\\x93æ\\x84\\x8fè¯\\x86ï¼\\x8cæ\\x90ºæ\\x89\\x8bå\\x8aªå\\x8a\\x9bã\\x80\\x81å\\x85±å\\x90\\x8cæ\\x8b\\x85å½\\x93ï¼\\x8cå\\x90\\x8cè\\x88\\x9få\\x85±æµ\\x8eã\\x80\\x81å\\x85±æ¸¡é\\x9a¾å\\x85³ï¼\\x8cå°±ä¸\\x80å®\\x9aè\\x83½å¤\\x9fè®©ä¸\\x96ç\\x95\\x8cæ\\x9b´ç¾\\x8eå¥½ã\\x80\\x81è®©äººæ°\\x91æ\\x9b´å¹¸ç¦\\x8fã\\x80\\x82</p>\\r\\n<p>ã\\x80\\x80ã\\x80\\x80&mdash;&mdash;2017å¹´1æ\\x9c\\x8817æ\\x97¥ï¼\\x8cå\\x9c¨ä¸\\x96ç\\x95\\x8cç»\\x8fæµ\\x8eè®ºå\\x9d\\x9b2017å¹´å¹´ä¼\\x9aå¼\\x80å¹\\x95å¼\\x8fä¸\\x8aç\\x9a\\x84ä¸»æ\\x97¨æ¼\\x94è®²</p>\\r\\n</div>\\r\\n</div>\\r\\n<p class=\"text_h1\"><span><strong>ä¸\\xadå\\x9b½æ\\x80\\x8eä¹\\x88å\\x81\\x9a</strong></span></p>\\r\\n<div class=\"back_a3 text\">\\r\\n<div class=\"text_bg\">\\r\\n<p>ã\\x80\\x80ã\\x80\\x80ä¸\\xadå\\x9b½å\\x9d\\x9aå\\x86³å\\x8f\\x8då¯¹å\\x90\\x84ç§\\x8då½¢å¼\\x8fç\\x9a\\x84é\\x9c¸æ\\x9d\\x83ä¸»ä¹\\x89å\\x92\\x8cå¼ºæ\\x9d\\x83æ\\x94¿æ²»ï¼\\x8cæ\\x84¿æ\\x84\\x8få\\x90\\x8cå\\x90\\x84å\\x9b½ä¸\\x80èµ·ç»´æ\\x8a¤äººç±»è\\x89¯ç\\x9f¥å\\x92\\x8cå\\x9b½é\\x99\\x85å\\x85¬ç\\x90\\x86ã\\x80\\x82ä¸\\xadå\\x9b½å\\x8f\\x91å±\\x95ç¦»ä¸\\x8då¼\\x80ä¸\\x96ç\\x95\\x8cï¼\\x8cä¸\\x96ç\\x95\\x8cå\\x8f\\x91å±\\x95ä¹\\x9fé\\x9c\\x80è¦\\x81ä¸\\xadå\\x9b½ã\\x80\\x82æ\\x88\\x91ä»¬å°\\x86å§\\x8bç»\\x88ä¸\\x8dæ¸\\x9då¥\\x89è¡\\x8cäº\\x92å\\x88©å\\x85±èµ¢ç\\x9a\\x84å¼\\x80æ\\x94¾æ\\x88\\x98ç\\x95¥ï¼\\x8cè\\x87´å\\x8a\\x9bäº\\x8eè\\x87ªèº«å\\x8f\\x91å±\\x95ï¼\\x8cä¹\\x9få¼ºè°\\x83å¯¹ä¸\\x96ç\\x95\\x8cç\\x9a\\x84è´£ä»»å\\x92\\x8cè´¡ç\\x8c®ï¼\\x8cé\\x80\\xa0ç¦\\x8fä¸\\xadå\\x9b½äººæ°\\x91ï¼\\x8cä¹\\x9fé\\x80\\xa0ç¦\\x8få\\x90\\x84å\\x9b½äººæ°\\x91ã\\x80\\x82</p>\\r\\n<p>ã\\x80\\x80ã\\x80\\x80&mdash;&mdash;2014å¹´7æ\\x9c\\x8816æ\\x97¥ï¼\\x8cå\\x9c¨å·´è¥¿å\\x9b½ä¼\\x9aç\\x9a\\x84æ¼\\x94è®²</p>\\r\\n<p>ã\\x80\\x80ã\\x80\\x80ä¸\\xadå\\x9b½å°\\x86é«\\x98ä¸¾å\\x92\\x8cå¹³ã\\x80\\x81å\\x8f\\x91å±\\x95ã\\x80\\x81å\\x90\\x88ä½\\x9cã\\x80\\x81å\\x85±èµ¢ç\\x9a\\x84æ\\x97\\x97å¸\\x9cï¼\\x8cæ\\x81ªå®\\x88ç»´æ\\x8a¤ä¸\\x96ç\\x95\\x8cå\\x92\\x8cå¹³ã\\x80\\x81ä¿\\x83è¿\\x9bå\\x85±å\\x90\\x8cå\\x8f\\x91å±\\x95ç\\x9a\\x84å¤\\x96äº¤æ\\x94¿ç\\xad\\x96å®\\x97æ\\x97¨ï¼\\x8cå\\x9d\\x9aå®\\x9aä¸\\x8dç§»å\\x9c¨å\\x92\\x8cå¹³å\\x85±å¤\\x84äº\\x94é¡¹å\\x8e\\x9få\\x88\\x99å\\x9fºç¡\\x80ä¸\\x8aå\\x8f\\x91å±\\x95å\\x90\\x8cå\\x90\\x84å\\x9b½ç\\x9a\\x84å\\x8f\\x8bå¥½å\\x90\\x88ä½\\x9cï¼\\x8cæ\\x8e¨å\\x8a¨å»ºè®¾ç\\x9b¸äº\\x92å°\\x8aé\\x87\\x8dã\\x80\\x81å\\x85¬å¹³æ\\xad£ä¹\\x89ã\\x80\\x81å\\x90\\x88ä½\\x9cå\\x85±èµ¢ç\\x9a\\x84æ\\x96°å\\x9e\\x8bå\\x9b½é\\x99\\x85å\\x85³ç³»ã\\x80\\x82</p>\\r\\n<p>ã\\x80\\x80ã\\x80\\x80&mdash;&mdash;2017å¹´10æ\\x9c\\x8818æ\\x97¥ï¼\\x8cå\\x9c¨ä¸\\xadå\\x9b½å\\x85±äº§å\\x85\\x9aç¬¬å\\x8d\\x81ä¹\\x9dæ¬¡å\\x85¨å\\x9b½ä»£è¡¨å¤§ä¼\\x9aä¸\\x8aç\\x9a\\x84æ\\x8a¥å\\x91\\x8a</p>\\r\\n<p>ã\\x80\\x80ã\\x80\\x80é\\x9d¢å\\x90\\x91æ\\x9cªæ\\x9d¥ï¼\\x8cä¸\\xadå\\x9b½å\\x85±äº§å\\x85\\x9aæ\\x84¿å\\x90\\x8cä¸\\x96ç\\x95\\x8cå\\x90\\x84å\\x9b½æ\\x94¿å\\x85\\x9aå\\x8a\\xa0å¼ºå¾\\x80æ\\x9d¥ï¼\\x8cå\\x88\\x86äº«æ²»å\\x85\\x9aæ²»å\\x9b½ç»\\x8féª\\x8cï¼\\x8cå¼\\x80å±\\x95æ\\x96\\x87æ\\x98\\x8eäº¤æµ\\x81å¯¹è¯\\x9dï¼\\x8cå¢\\x9eè¿\\x9bå½¼æ\\xad¤æ\\x88\\x98ç\\x95¥ä¿¡ä»»ï¼\\x8cå\\x90\\x8cä¸\\x96ç\\x95\\x8cå\\x90\\x84å\\x9b½äººæ°\\x91ä¸\\x80é\\x81\\x93ï¼\\x8cæ\\x8e¨å\\x8a¨æ\\x9e\\x84å»ºäººç±»å\\x91½è¿\\x90å\\x85±å\\x90\\x8cä½\\x93ï¼\\x8cæ\\x90ºæ\\x89\\x8bå»ºè®¾æ\\x9b´å\\x8a\\xa0ç¾\\x8eå¥½ç\\x9a\\x84ä¸\\x96ç\\x95\\x8cï¼\\x81</p>\\r\\n<p>ã\\x80\\x80ã\\x80\\x80&mdash;&mdash;2017å¹´12æ\\x9c\\x881æ\\x97¥ï¼\\x8cå\\x9c¨ä¸\\xadå\\x9b½å\\x85±äº§å\\x85\\x9aä¸\\x8eä¸\\x96ç\\x95\\x8cæ\\x94¿å\\x85\\x9aé«\\x98å±\\x82å¯¹è¯\\x9dä¼\\x9aä¸\\x8aç\\x9a\\x84ä¸»æ\\x97¨è®²è¯\\x9d</p>\\r\\n<p>ã\\x80\\x80ã\\x80\\x80ä¸\\xadå\\x9b½å°\\x86ç»§ç»\\xadç§¯æ\\x9e\\x81æ\\x8e¨è¿\\x9b&ldquo;ä¸\\x80å¸¦ä¸\\x80è·¯&rdquo;å»ºè®¾ï¼\\x8cå\\x8a\\xa0å¼ºå\\x90\\x8cä¸\\x96ç\\x95\\x8cå\\x90\\x84å\\x9b½ç\\x9a\\x84äº¤æµ\\x81å\\x90\\x88ä½\\x9cï¼\\x8cè®©ä¸\\xadå\\x9b½æ\\x94¹é\\x9d©å\\x8f\\x91å±\\x95é\\x80\\xa0ç¦\\x8fäººç±»ã\\x80\\x82ä¸\\xadå\\x9b½å°\\x86ç»§ç»\\xadç§¯æ\\x9e\\x81å\\x8f\\x82ä¸\\x8eå\\x85¨ç\\x90\\x83æ²»ç\\x90\\x86ä½\\x93ç³»å\\x8f\\x98é\\x9d©å\\x92\\x8cå»ºè®¾ï¼\\x8cä¸ºä¸\\x96ç\\x95\\x8cè´¡ç\\x8c®æ\\x9b´å¤\\x9aä¸\\xadå\\x9b½æ\\x99ºæ\\x85§ã\\x80\\x81ä¸\\xadå\\x9b½æ\\x96¹æ¡\\x88ã\\x80\\x81ä¸\\xadå\\x9b½å\\x8a\\x9bé\\x87\\x8fï¼\\x8cæ\\x8e¨å\\x8a¨å»ºè®¾æ\\x8c\\x81ä¹\\x85å\\x92\\x8cå¹³ã\\x80\\x81æ\\x99®é\\x81\\x8då®\\x89å\\x85¨ã\\x80\\x81å\\x85±å\\x90\\x8cç¹\\x81è\\x8d£ã\\x80\\x81å¼\\x80æ\\x94¾å\\x8c\\x85å®¹ã\\x80\\x81æ¸\\x85æ´\\x81ç¾\\x8eä¸½ç\\x9a\\x84ä¸\\x96ç\\x95\\x8cï¼\\x8cè®©äººç±»å\\x91½è¿\\x90å\\x85±å\\x90\\x8cä½\\x93å»ºè®¾ç\\x9a\\x84é\\x98³å\\x85\\x89æ\\x99®ç\\x85§ä¸\\x96ç\\x95\\x8cï¼\\x81</p>\\r\\n<p>ã\\x80\\x80ã\\x80\\x80&mdash;&mdash;2018å¹´3æ\\x9c\\x8820æ\\x97¥ï¼\\x8cå\\x9c¨ç¬¬å\\x8d\\x81ä¸\\x89å±\\x8aå\\x85¨å\\x9b½äººæ°\\x91ä»£è¡¨å¤§ä¼\\x9aç¬¬ä¸\\x80æ¬¡ä¼\\x9aè®®ä¸\\x8aç\\x9a\\x84è®²è¯\\x9d</p>\\r\\n</div>\\r\\n</div>\\r\\n<p>ã\\x80\\x80ã\\x80\\x80(æ\\x95´ç\\x90\\x86/ä½\\x99æ\\x99\\x93ç\\x8e²)</p>\\t\\r\\n\\t\\t\\t\\t\\t\\t\\t\\t\\t\\r\\n\\t\\t\\t\\t\\t\\t\\t\\t</div>\\r\\n\\t\\t\\t\\t\\t\\t\\t\\t<div class=\"share ind_share\">\\r\\n\\t\\t\\t\\t\\t\\t\\t\\t\\t<!-- <div class=\"zan\" id=\"zanid\"><span></span><i>37</i></div> -->\\r\\n\\t\\t\\t\\t\\t\\t\\t\\t\\t<div class=\"pointnumber\"><span></span><i id=\"zanNum\">7</i></div>\\r\\n\\t\\t\\t\\t\\t\\t\\t\\t\\t<div class=\"to\">\\r\\n\\t\\t\\t\\t\\t\\t\\t\\t\\t\\t<a class=\"weibo\" data-fx=\"wb-btn\" href=\"javascript:void(0);\" title=\"å\\x88\\x86äº«å\\x88°æ\\x96°æµªå¾®å\\x8d\\x9a\"></a>\\r\\n\\t\\t\\t\\t\\t\\t\\t\\t\\t\\t<a class=\"qq\" data-fx=\"qz-btn\" href=\"javascript:void(0);\" title=\"å\\x88\\x86äº«å\\x88°QQç©ºé\\x97´\"></a>\\t\\r\\n\\t\\t\\t\\t\\t\\t\\t\\t\\t</div>\\r\\n\\t\\t\\t\\t\\t\\t\\t\\t</div>\\r\\n\\t\\t\\t\\t\\t\\t\\t</div>\\r\\n\\t\\t\\t\\t\\t\\t\\t<div class=\"vspace1\" style=\"height:40px\"></div>\\r\\n\\t\\t\\t\\t\\t\\t\\t\\r\\n\\t\\t\\t\\t\\t\\t\\t<div class=\"col_w320_fl\">\\r\\n\\t\\t\\t\\t\\t\\t\\t\\t<div class=\"model\">\\r\\n\\t\\t\\t\\t\\t\\t\\t\\t\\t<div class=\"mbd\">\\r\\n\\t\\t\\t\\t\\t\\t\\t\\t\\t\\t<div class=\"relevance\">ç¼\\x96è¾\\x91ï¼\\x9aé\\x82¢æ\\x96¯é¦¨      <span id=\"zb\" style=\"color:#666666;padding:0 5px;\">è´£ä»»ç¼\\x96è¾\\x91ï¼\\x9aç\\x8e\\x8bæ\\x95¬ä¸\\x9c</span></div>\\r\\n\\t\\t\\t\\t\\t\\t\\t\\t\\t</div>\\r\\n\\t\\t\\t\\t\\t\\t\\t\\t\\t<script type=\"text/javascript\">\\r\\n\\t\\t\\t\\t\\t\\t\\t\\t\\tvar zeditor = \\'ç\\x8e\\x8bæ\\x95¬ä¸\\x9c\\';\\r\\n\\t\\t\\t\\t\\t\\t\\t\\t\\tif (zeditor==\"\"){\\r\\n\\t\\t\\t\\t\\t\\t\\t\\t\\t\\tdocument.getElementById(\\'zb\\').style.display=\\'none\\';\\r\\n\\t\\t\\t\\t\\t\\t\\t\\t\\t}\\r\\n\\t\\t\\t\\t\\t\\t\\t\\t</script>\\r\\n\\t\\t\\t\\t\\t\\t\\t\\t</div>\\r\\n\\t\\t\\t\\t\\t\\t\\t</div>\\r\\n\\t\\t\\t\\t\\t\\t\\t\\r\\n\\t\\t\\t\\t\\t\\t</div>\\r\\n\\t\\t\\t\\t\\t\\t<div class=\"col_w320\">\\r\\n\\t\\t\\t\\t\\t\\t<link type=\"text/css\" rel=\"stylesheet\" href=\"http://r.img.cctvpic.com/news/lbj/rightbhy/style/style.css?b2f818fa1aa9eb85c6ad41496144d953\"/>\\n<div class=\"ELMTSh7U4jonDFmMDBc7t5Pu180507\" data-spm=\"ESh7U4jonDFm\" >\\r\\n<div class=\"md\" id=\"\">\\r\\n \\r\\n\\t  \\r\\n                <div class=\"md_hdc\"><b></b></div>\\r\\n\\t\\t<div class=\"md_hd\">\\r\\n\\t\\t<span class=\"mh_title\"> <i>æ\\x96°é\\x97»è\\x81\\x94æ\\x92\\xad</i> </span>\\r\\n\\t\\t\\r\\n\\t\\t\\r\\n\\t\\t\\r\\n\\t\\t\\r\\n\\t\\t\\r\\n\\t </div>\\r\\n\\t \\r\\n \\r\\n <div class=\"md_bd\">\\r\\n \\t\\r\\n \\t<div data-spm=\"S79292260957\" id=\"SUBD1525679292260957\">\\r\\n\\t\\t\\r\\n\\r\\n\\r\\n<div class=\"kuaiping17711_con03\">\\r\\n\\t<ul>\\r\\n\\t\\t\\r\\n\\t\\t<li>\\r\\n\\t\\t\\t<a href=\"http://tv.cctv.com/2018/10/18/VIDEHq72zQpOEJV9YZt1F8Uc181018.shtml\" class=\"image\" target=\"_blank\"><img src=\"http://p1.img.cctvpic.com/photoAlbum/page/performance/img/2018/10/18/1539862927701_376.jpg\"></a>\\r\\n\\t\\t\\t<div class=\"bre\"><a href=\"http://tv.cctv.com/2018/10/18/VIDEHq72zQpOEJV9YZt1F8Uc181018.shtml\" target=\"_blank\" >ä¹\\xa0è¿\\x91å¹³ï¼\\x9aæ\\x8e¨å\\x8a¨â\\x80\\x9cä¸\\x80å¸¦ä¸\\x80è·¯â\\x80\\x9då\\x90\\x88ä½\\x9cèµ°æ·±èµ°å®\\x9e</a></div>\\r\\n\\t\\t</li>\\r\\n\\t\\t\\r\\n\\t\\t<li>\\r\\n\\t\\t\\t<a href=\"http://tv.cctv.com/2018/10/18/VIDECQmsqGHdg6KP3e56Vsui181018.shtml\" class=\"image\" target=\"_blank\"><img src=\"http://p1.img.cctvpic.com/photoAlbum/page/performance/img/2018/10/18/1539862895181_459.jpg\"></a>\\r\\n\\t\\t\\t<div class=\"bre\"><a href=\"http://tv.cctv.com/2018/10/18/VIDECQmsqGHdg6KP3e56Vsui181018.shtml\" target=\"_blank\" >ä¹\\xa0è¿\\x91å¹³å\\x90\\x91å¤ªæ¹\\x96ä¸\\x96ç\\x95\\x8cæ\\x96\\x87å\\x8c\\x96è®ºå\\x9d\\x9bç¬¬äº\\x94å±\\x8aå¹´ä¼\\x9aè\\x87´è´ºä¿¡</a></div>\\r\\n\\t\\t</li>\\r\\n\\t\\t\\r\\n\\t</ul>\\r\\n</div>\\r\\n\\r\\n \\t</div>\\r\\n \\t\\r\\n <div style=\"clear:both;\"></div>\\r\\n </div>\\r\\n   <div class=\"md_ftc\"><b></b></div>\\r\\n</div>\\r\\n<div  class=\"hide\"></div>\\r\\n</div><div class=\"ELMT4tyUQHL2davkbY7PSUJJ180507\" data-spm= \"E4tyUQHL2dav\">\\r\\n\\t<div class=\"vspace\"></div>\\r\\n</div><div class=\"ELMTvrhTTv656mEOm252KEE3180507\" data-spm=\"EvrhTTv656mE\" >\\r\\n<div class=\"md\" id=\"\">\\r\\n \\r\\n\\t  \\r\\n                <div class=\"md_hdc\"><b></b></div>\\r\\n\\t\\t<div class=\"md_hd\">\\r\\n\\t\\t<span class=\"mh_title\"> <i>ç\\x9b¸å\\x85³é\\x98\\x85è¯»</i> </span>\\r\\n\\t\\t\\r\\n\\t\\t\\r\\n\\t\\t\\r\\n\\t\\t\\r\\n\\t\\t\\r\\n\\t </div>\\r\\n\\t \\r\\n \\r\\n <div class=\"md_bd\">\\r\\n \\t\\r\\n \\t<div data-spm=\"S79292260968\" id=\"SUBD1525679292260968\">\\r\\n\\t\\t\\r\\n \\t</div>\\r\\n \\t\\r\\n <div style=\"clear:both;\"></div>\\r\\n </div>\\r\\n   <div class=\"md_ftc\"><b></b></div>\\r\\n</div>\\r\\n<div  class=\"hide\"></div>\\r\\n</div><div class=\"kuaipingdcy17755_ind02\">\\r\\n\\t\\r\\n    <ul>\\r\\n    \\t\\r\\n\\t\\t\\t\\t\\t\\t\\t\\r\\n\\r\\n    \\t<li>\\r\\n        \\t<p class=\"subtit_01\"><a href=\"http://news.cctv.com/2018/10/17/ARTI2YsF3caSq70KobTNNVDX181017.shtml\" target=\"_blank\">ä»¥ä¸\\x80é¼\\x93ä½\\x9cæ°\\x94æ\\x94»å\\x9f\\x8eæ\\x8b\\x94å¯¨ç\\x9a\\x84å\\x86³å¿\\x83æ\\x89\\x93èµ¢è\\x84±è´«æ\\x94»å\\x9d\\x9aæ\\x88\\x98</a></p>\\r\\n    \\t\\t<span class=\"subtext\">ä¹\\xa0è¿\\x91å¹³æ\\x80»ä¹¦è®°ç\\x9a\\x84é\\x87\\x8dè¦\\x81æ\\x8c\\x87ç¤ºå¿\\x85å°\\x86æ¿\\x80å\\x8a±èµ·å¹¿å¤§å¹²é\\x83¨ç¾¤ä¼\\x97å¥\\x8bæ\\x96\\x97å®\\x9eå¹²ç\\x9a\\x84ç²¾ç¥\\x9eã\\x80\\x81å\\x87\\x9dè\\x81\\x9aèµ·å\\x85¨ç¤¾ä¼\\x9aç\\x9a\\x84æ\\x9c\\x80å¤§å\\x90\\x88å\\x8a\\x9bï¼\\x8cä»¥ä¸\\x80é¼\\x93ä½\\x9cæ°\\x94æ\\x94»å\\x9f\\x8eæ\\x8b\\x94å¯¨ç\\x9a\\x84å\\x86³å¿\\x83ï¼\\x8cæ\\x89\\x8eå®\\x9eæ\\x8a\\x8aè\\x84±è´«å·¥ä½\\x9cä¸\\x8dæ\\x96\\xadæ\\x8e¨å\\x90\\x91æ·±å\\x85¥ï¼\\x8cå¦\\x82æ\\x9c\\x9fæ\\x89\\x93èµ¢è\\x84±è´«æ\\x94»å\\x9d\\x9aè¿\\x99å\\x9cºç¡¬ä»\\x97ã\\x80\\x82</span>\\r\\n        </li>\\r\\n   \\r\\n\\t\\t\\t\\t\\t\\t\\t\\r\\n\\r\\n    \\t<li>\\r\\n        \\t<p class=\"subtit_01\"><a href=\"http://news.cctv.com/2018/10/16/ARTIK41p3h7hIfMWT45h0YdL181016.shtml\" target=\"_blank\">å\\x8a\\xa0å¿«æ\\x8e¨å\\x8a¨å\\x86\\x9bæ°\\x91è\\x9e\\x8då\\x90\\x88èµ°æ·±èµ°å®\\x9e</a></p>\\r\\n    \\t\\t<span class=\"subtext\">æ\\x80»ä¹¦è®°æ\\x98\\x8eç¡®æ\\x8f\\x90å\\x87ºäº\\x86â\\x80\\x9cå¼ºå\\x8c\\x96è´£ä»»æ\\x8b\\x85å½\\x93ï¼\\x8cç\\x8b\\xa0æ\\x8a\\x93è´¯å½»è\\x90½å®\\x9eâ\\x80\\x9dç\\x9a\\x84æ\\x94¿æ²»è¦\\x81æ±\\x82ï¼\\x8cæ¸\\x85æ\\x99°æ\\x8c\\x87å\\x87ºäº\\x86â\\x80\\x9cæ\\x8f\\x90é«\\x98æ³\\x95æ²»å\\x8c\\x96æ°´å¹³ï¼\\x8cæ·±å\\x8c\\x96ä½\\x93å\\x88¶æ\\x94¹é\\x9d©ï¼\\x8cæ\\x8e¨å\\x8a¨ç§\\x91æ\\x8a\\x80å\\x8d\\x8få\\x90\\x8cå\\x88\\x9bæ\\x96°â\\x80\\x9dç\\x9a\\x84å\\x8f\\x91å±\\x95è·¯å¾\\x84ï¼\\x8cä¸ºä»\\x8aå\\x90\\x8eä¸\\x80ä¸ªæ\\x97¶æ\\x9c\\x9få\\x8a\\xa0å¿«æ\\x8e¨å\\x8a¨å\\x86\\x9bæ°\\x91è\\x9e\\x8då\\x90\\x88æ·±åº¦å\\x8f\\x91å±\\x95æ\\x8c\\x87æ\\x98\\x8eäº\\x86è·¯å¾\\x84å\\x92\\x8cæ\\x96¹å\\x90\\x91ã\\x80\\x82</span>\\r\\n        </li>\\r\\n   \\r\\n    </ul>\\r\\n</div><div class=\"ELMTLa1i2oxmA87Adj4C0mBn180507\" data-spm= \"ELa1i2oxmA87\">\\r\\n\\t<div class=\"vspace\"></div>\\r\\n</div><div class=\"ELMTconwXu9bTH2Yo6FsHxqW180507\" data-spm=\"EconwXu9bTH2\" >\\r\\n<div class=\"md\" id=\"\">\\r\\n \\r\\n\\t  \\r\\n                <div class=\"md_hdc\"><b></b></div>\\r\\n\\t\\t<div class=\"md_hd\">\\r\\n\\t\\t<span class=\"mh_title\"> <i>è\\x81\\x94ç³»æ\\x88\\x91ä»¬</i> </span>\\r\\n\\t\\t\\r\\n\\t\\t\\r\\n\\t\\t\\r\\n\\t\\t\\r\\n\\t\\t\\r\\n\\t </div>\\r\\n\\t \\r\\n \\r\\n <div class=\"md_bd\">\\r\\n \\t\\r\\n \\t<div data-spm=\"S79292260972\" id=\"SUBD1525679292260972\">\\r\\n\\t\\t<div class=\"kuaiping17711_con04\">\\r\\n\\t\\r\\n\\t\\t<p class=\"address\">è\\x81\\x94ç³»å\\x9c°å\\x9d\\x80ï¼\\x9aå\\x8c\\x97äº¬å¸\\x82æµ·æ·\\x80å\\x8cºè¥¿ä¸\\x89ç\\x8e¯ä¸\\xadè·¯10å\\x8f·æ\\x9c\\x9bæµ·æ¥¼Dåº§<br/>å¤®è§\\x86å\\x9b½é\\x99\\x85ç½\\x91ç»\\x9cæ\\x9c\\x89é\\x99\\x90å\\x85¬å\\x8f¸</p>\\r\\n\\t\\t<p class=\"mail\">é\\x82®ç®±ï¼\\x9anews@vip.cntv.cn</p>\\r\\n\\t\\r\\n</div>\\r\\n \\t</div>\\r\\n \\t\\r\\n <div style=\"clear:both;\"></div>\\r\\n </div>\\r\\n   <div class=\"md_ftc\"><b></b></div>\\r\\n</div>\\r\\n<div  class=\"hide\"></div>\\r\\n</div>\\r\\n\\t\\t\\t\\t\\t\\t</div>\\r\\n\\t\\t\\t\\t\\t\\t<div class=\"vspace\" style=\"height:40px\"></div>\\r\\n\\t\\t\\t\\t\\t</div>\\r\\n\\t\\t\\t\\t</div>\\r\\n\\t\\t\\t\\t<!-- é¡µåº\\x95é\\x83¨ -->\\r\\n\\t\\t\\t\\t<div class=\"footer_xq17757\">\\r\\n\\t\\t\\t\\t\\t<p><a href=\"javascript:void(0)\">ä¸\\xadå\\x9b½ä¸\\xadå¤®ç\\x94µè§\\x86å\\x8f°  å¤®è§\\x86ç½\\x91  ç\\x89\\x88æ\\x9d\\x83æ\\x89\\x80æ\\x9c\\x89</a></p>\\r\\n\\t\\t\\t\\t</div>\\r\\n\\t\\t\\t\\t<link href=\"http://p1.img.cctvpic.com/photoAlbum/templet/common/DEPA1525679148437822/style_17895_180507.css?dsgh112asdasdasd312gds\" rel=\"stylesheet\" type=\"text/css\" />\\r\\n\\t\\t\\t\\t<!-- åº\\x95é\\x83¨ -->\\r\\n\\t\\t\\t\\t<style type=\"text/css\">\\n#page_bottom{ margin-top:10px; height:143px; overflow:hidden;}#page_bottom .cntv_footer_hdc{border-top:none;margin:0 auto;width:960px;}\\n#page_bottom .cntv_footer {background: none repeat scroll 0 0 transparent;border-top: 1px solid #FCFCFD;clear: both;color: #333333;margin: 0 auto;min-height: 10px;width: 960px;\\n}\\n#page_bottom .cntv_footer a{color:#333333;margin:0 1px;}\\n#page_bottom .cntv_footer .bottom_link{line-height:52px;text-align:center;font-family:\"å®\\x8bä½\\x93\";}\\n#page_bottom .cntv_footer .bottom_link a{padding:0 2px 0 4px;}\\n#page_bottom .cntv_footer .bottom_copyright{width:828px;margin:0 auto;padding-bottom:16px;_height:1px;min-height:1px;font-family:Arial,\"å®\\x8bä½\\x93\";font-size:12px;}\\n#page_bottom .cntv_footer .bottom_copyright p{float:left;width:670px;_display:inline;text-align:center;line-height:18px;font-size:12px;}\\n#page_bottom .cntv_footer .bottom_copyright p img{display:inline;}\\n#page_bottom .cntv_footer .bottom_copyright .copyright_gongshang_logo{float:right;margin-top:9px;}\\n#page_bottom .cntv_footer .bottom_copyright .copyright_wangjing_logo{float:right;margin-top:6px;}\\n</style>\\n<div id=\"page_bottom\">\\n<div class=\"cntv_footer_hdc\"><b></b></div>\\n<div class=\"cntv_footer\">\\n<div class=\"bottom_link\"><a href=\"http://www.cctv.cn/\" target=\"_blank\">ä¸\\xadå¤®ç\\x94µè§\\x86å\\x8f°ç½\\x91ç«\\x99</a>|<a href=\"http://www.cctv.com/program/20110130/column_header/index.shtml\" target=\"_blank\">è\\x81\\x94ç³»CCTV</a>|<a href=\"http://www.cntv.cn/special/guanyunew/PAGE1381886879510187/index.shtml\" target=\"_blank\">å\\x85³äº\\x8eCCTV.com</a>|<a href=\"http://www.cntv.cn/special/guanyunew/PAGE13818868795101876/index.shtml\" target=\"_blank\">è\\x81\\x94ç³»CCTV.com</a>|<a href=\"http://www.cntv.cn/special/guanyunew/PAGE13818868795101877/index.shtml\" target=\"_blank\">äººæ\\x89\\x8dæ\\x8b\\x9bè\\x81\\x98</a>|<a href=\"http://www.cntv.cn/special/guanyunew/PAGE13818868795101878/index.shtml\" target=\"_blank\">ç½\\x91ç«\\x99å£°æ\\x98\\x8e</a>|<a href=\"http://www.cntv.cn/special/guanyunew/PAGE13818868795101879/index.shtml\" target=\"_blank\">æ³\\x95å¾\\x8bé¡¾é\\x97®</a>|<a href=\"http://1118.cctv.com/chinese/index.shtml\" target=\"_blank\">CCTVå¹¿å\\x91\\x8aä¸\\xadå¿\\x83</a><!--|<a href=\"http://ad.cntv.cn/\" target=\"_blank\">CNTVè\\x90¥é\\x94\\x80</a>-->|<a href=\"http://info.passport.cctv.com/wyznt/info.action\" target=\"_blank\">ç½\\x91å\\x8f\\x8bæ\\x99ºå\\x9b\\x8aå\\x9b¢</a>|<a href=\"http://help.cntv.cn/\"  target=\"_blank\">å®¢æ\\x9c\\x8dä¸\\xadå¿\\x83</a><!--|<a href=\"http://www.cctv.com/special/wzdt/wzdt/index.shtml\"  target=\"_blank\">ç½\\x91ç«\\x99å\\x9c°å\\x9b¾</a>--></div>\\n<div class=\"bottom_copyright\">\\n<p>ä¸\\xadå\\x9b½ä¸\\xadå¤®ç\\x94µè§\\x86å\\x8f°&nbsp;&nbsp;å¤®è§\\x86ç½\\x91&nbsp;&nbsp;ç\\x89\\x88æ\\x9d\\x83æ\\x89\\x80æ\\x9c\\x89<br />\\n<a href=\"http://help.cntv.cn/2018/01/22/ARTIRZ81GBdnWp16VY09UpJd180122.shtml\" target=\"_blank\">è¿\\x9dæ³\\x95å\\x92\\x8cä¸\\x8dè\\x89¯ä¿¡æ\\x81¯ä¸¾æ\\x8a¥ç\\x94µè¯\\x9d:010-88047123</a>&nbsp;&nbsp;<a href=\"http://www.miibeian.gov.cn/\" target=\"_blank\">äº¬ICPè¯\\x81060535å\\x8f·</a>&nbsp;&nbsp;<a target=\"_blank\" href=\"http://www.beian.gov.cn/portal/registerSystemInfo?recordcode=11000002000018\"><img src=\"http://r.img.cctvpic.com/beian/files/ghs.png\">äº¬å\\x85¬ç½\\x91å®\\x89å¤\\x87 11000002000018å\\x8f·</a>&nbsp;&nbsp;äº¬ç½\\x91æ\\x96\\x87[2014]0383-083å\\x8f·<br />\\nç½\\x91ä¸\\x8aä¼\\xa0æ\\x92\\xadè§\\x86å\\x90¬è\\x8a\\x82ç\\x9b®è®¸å\\x8f¯è¯\\x81å\\x8f· 0102004&nbsp;&nbsp;æ\\x96°å\\x87ºç½\\x91è¯\\x81ï¼\\x88äº¬ï¼\\x89å\\xad\\x97098å\\x8f·&nbsp;&nbsp;<a target=\"_blank\" href=\"http://www.cctv.com/special/zlgy/zlgy/index.shtml\">ä¸\\xadå\\x9b½äº\\x92è\\x81\\x94ç½\\x91è§\\x86å\\x90¬è\\x8a\\x82ç\\x9b®æ\\x9c\\x8då\\x8a¡è\\x87ªå¾\\x8bå\\x85¬çº¦</a>\\n</p>\\n<div class=\"copyright_wangjing_logo\"> <a href=\"javascript:;\" style=\"cursor:default;\"><img width=\"115\" height=\"48\" border=\"0\" name=\"wangjing\" src=\"http://p5.img.cctvpic.com/10/2012/01/16/20120116/image/wangjing.gif\"></a> </div>\\n<div class=\"copyright_gongshang_logo\"><a href=\"javascript:;\" style=\"cursor:default;\"><img src=\"http://www.cctv.com/Library/images/100011_gongshang.gif\" width=\"29\" height=\"39\" id=\"gongshang\" /></a></div>\\n<div class=\"clear_float\"></div>\\n</div>\\n</div>\\n<div class=\"cntv_footer_ftc\"><b></b></div>\\n</div>\\n<!--remian-->\\n\\r\\n\\t\\t\\t</div>\\r\\n\\t\\t</div>\\r\\n\\t</div>\\r\\n</div>\\r\\n<script type=\"text/javascript\" src=\"http://r.img.cctvpic.com/photoAlbum/templet/js/shareToSnsCommon1.1.js\"></script>\\r\\n<script type=\"text/javascript\" src=\"http://p1.img.cctvpic.com/photoAlbum/templet/common/DEPA1524642997617873/script_17755_180307_180410.js\"></script>\\r\\n\\r\\n<script type=\"text/javascript\" src=\"http://res.wx.qq.com/open/js/jweixin-1.0.0.js\"></script>\\r\\n<script type=\"text/javascript\">\\r\\n// å¾®ä¿¡é\\x85\\x8dç½®\\r\\n//Ajax\\r\\nfunction getAjax(url,data,cb,spacial){\\r\\n\\t$.ajax({\\r\\n\\t\\turl:url,\\r\\n\\t\\ttype:\"get\",\\r\\n\\t\\tdata:data,\\r\\n\\t\\tdataType:\\'jsonp\\',\\r\\n\\t\\tsuccess: function(_data){\\r\\n\\t\\t\\tcb(_data)\\r\\n\\t\\t},\\r\\n\\t\\ttimeout:10000,\\r\\n\\t\\terror:function(){warnbox(\"è¯·æ±\\x82è¶\\x85æ\\x97¶ï¼\\x8cè¯·æ£\\x80æ\\x9f¥ç½\\x91ç»\\x9cæ\\x88\\x96è\\x80\\x85é\\x87\\x8dæ\\x96°å\\x88·æ\\x96°é¡µé\\x9d¢ï¼\\x81\")}\\r\\n\\t\\t\\r\\n\\t});\\r\\n}\\r\\nvar data={\"appid\":\"newstiket\",\"url\":encodeURIComponent(encodeURIComponent(window.location.href))};\\r\\ngetAjax(\"http://api.cntv.cn/Apicommon/index?&path=iphoneInterface/general/getWeiXinSignature.jsonp\",data,weixinSucess);\\r\\nfunction weixinSucess(data){\\r\\n\\twx.config({\\r\\n\\t\\tdebug: false, \\r\\n\\t\\tappId: \"wx2723c0deaa5a97e9\", \\r\\n\\t\\ttimestamp: data.timestamp, \\r\\n\\t\\tnonceStr:  data.nonceStr, \\r\\n\\t\\tsignature: data.signature,\\r\\n\\t\\tjsApiList: [\\'onMenuShareTimeline\\', \\'onMenuShareAppMessage\\'] //å\\x8a\\x9fè\\x83½å\\x88\\x97è¡¨ï¼\\x8cæ\\x88\\x91ä»¬è¦\\x81ä½¿ç\\x94¨JS-SDKç\\x9a\\x84ä»\\x80ä¹\\x88å\\x8a\\x9fè\\x83½\\r\\n\\t});\\r\\n}\\r\\n// configä¿¡æ\\x81¯éª\\x8cè¯\\x81å\\x90\\x8eä¼\\x9aæ\\x89§è¡\\x8creadyæ\\x96¹æ³\\x95ï¼\\x8cæ\\x89\\x80æ\\x9c\\x89æ\\x8e¥å\\x8f£è°\\x83ç\\x94¨é\\x83½å¿\\x85é¡»å\\x9c¨configæ\\x8e¥å\\x8f£è\\x8e·å¾\\x97ç»\\x93æ\\x9e\\x9cä¹\\x8bå\\x90\\x8eï¼\\x8cconfigæ\\x98¯ä¸\\x80ä¸ªå®¢æ\\x88·ç«¯ç\\x9a\\x84å¼\\x82æ\\xad¥æ\\x93\\x8dä½\\x9cï¼\\x8cæ\\x89\\x80ä»¥å¦\\x82æ\\x9e\\x9cé\\x9c\\x80è¦\\x81å\\x9c¨ é¡µé\\x9d¢å\\x8a\\xa0è½½æ\\x97¶å°±è°\\x83ç\\x94¨ç\\x9b¸å\\x85³æ\\x8e¥å\\x8f£ï¼\\x8cå\\x88\\x99é¡»æ\\x8a\\x8aç\\x9b¸å\\x85³æ\\x8e¥å\\x8f£æ\\x94¾å\\x9c¨readyå\\x87½æ\\x95°ä¸\\xadè°\\x83ç\\x94¨æ\\x9d¥ç¡®ä¿\\x9dæ\\xad£ç¡®æ\\x89§è¡\\x8cã\\x80\\x82å¯¹äº\\x8eç\\x94¨æ\\x88·è§¦å\\x8f\\x91æ\\x97¶æ\\x89\\x8dè°\\x83ç\\x94¨ç\\x9a\\x84æ\\x8e¥å\\x8f£ï¼\\x8cå\\x88\\x99å\\x8f¯ä»¥ç\\x9b´æ\\x8e¥è°\\x83ç\\x94¨ï¼\\x8cä¸\\x8dé\\x9c\\x80è¦\\x81æ\\x94¾å\\x9c¨ready å\\x87½æ\\x95°ä¸\\xadã\\x80\\x82\\r\\nwx.ready(function(){\\r\\n\\tvar flvImgUrl=\"http://p1.img.cctvpic.com/photoworkspace/2018/10/18/2018101823244999272.jpg\";\\r\\n\\tvar flvImgUrl1=\"http://p1.img.cctvpic.com/photoworkspace/2018/10/18/2018101823242788363.jpg\"\\r\\n\\tif(flvImgUrl!=\\'\\'){\\r\\n\\t\\tflvImgUrl=flvImgUrl;\\r\\n\\t}else if(flvImgUrl1!=\\'\\'){\\r\\n\\t\\tflvImgUrl=flvImgUrl1\\r\\n\\t}else{\\r\\n\\t\\tflvImgUrl=\\'http://p1.img.cctvpic.com/photoAlbum/templet/common/DEPA1520410284129748/logo200x200.jpg\\';\\r\\n\\t}\\r\\n\\r\\n\\t// è\\x8e·å\\x8f\\x96â\\x80\\x9cå\\x88\\x86äº«å\\x88°æ\\x9c\\x8bå\\x8f\\x8bå\\x9c\\x88â\\x80\\x9dæ\\x8c\\x89é\\x92®ç\\x82¹å\\x87»ç\\x8a¶æ\\x80\\x81å\\x8f\\x8aè\\x87ªå®\\x9aä¹\\x89å\\x88\\x86äº«å\\x86\\x85å®¹æ\\x8e¥å\\x8f£\\r\\n\\twx.onMenuShareTimeline({\\r\\n\\t\\ttitle: \\'ä¹\\xa0è¿\\x91å¹³ä¸¤å°\\x81è´ºä¿¡é\\x87\\x8cç\\x9a\\x84å\\x90\\x8cä¸\\x80æ·±æ\\x84\\x8f\\', // å\\x88\\x86äº«æ\\xa0\\x87é¢\\x98\\r\\n\\t\\tlink:window.location.href,\\r\\n\\t\\timgUrl: flvImgUrl // å\\x88\\x86äº«å\\x9b¾æ\\xa0\\x87\\r\\n\\t});\\r\\n\\t// è\\x8e·å\\x8f\\x96â\\x80\\x9cå\\x88\\x86äº«ç»\\x99æ\\x9c\\x8bå\\x8f\\x8bâ\\x80\\x9dæ\\x8c\\x89é\\x92®ç\\x82¹å\\x87»ç\\x8a¶æ\\x80\\x81å\\x8f\\x8aè\\x87ªå®\\x9aä¹\\x89å\\x88\\x86äº«å\\x86\\x85å®¹æ\\x8e¥å\\x8f£\\r\\n\\twx.onMenuShareAppMessage({\\r\\n\\t\\ttitle: \\'ä¹\\xa0è¿\\x91å¹³ä¸¤å°\\x81è´ºä¿¡é\\x87\\x8cç\\x9a\\x84å\\x90\\x8cä¸\\x80æ·±æ\\x84\\x8f\\', // å\\x88\\x86äº«æ\\xa0\\x87é¢\\x98\\r\\n\\t\\tdesc: \\'æ\\x8e¨å\\x8a¨æ\\x9e\\x84å»ºäººç±»å\\x91½è¿\\x90å\\x85±å\\x90\\x8cä½\\x93æ\\x98¯ä¹\\xa0è¿\\x91å¹³ä¸\\x80å\\x86\\x8dæ\\x8f\\x90å\\x8f\\x8aç\\x9a\\x84æ·±å\\x88»ä¸»é¢\\x98ã\\x80\\x82\\', // å\\x88\\x86äº«æ\\x8f\\x8fè¿°\\r\\n\\t\\tlink:window.location.href,\\r\\n\\t\\timgUrl: flvImgUrl, // å\\x88\\x86äº«å\\x9b¾æ\\xa0\\x87\\r\\n\\t\\ttype: \\'link\\' // å\\x88\\x86äº«ç±»å\\x9e\\x8b,musicã\\x80\\x81videoæ\\x88\\x96linkï¼\\x8cä¸\\x8då¡«é»\\x98è®¤ä¸ºlink\\r\\n\\t});\\r\\n});\\r\\nwx.error(function(res){\\r\\n\\tconsole.log(\"å¤±è´¥\");\\r\\n});\\r\\n</script>\\r\\n\\r\\n\\r\\n\\t<script type=\"text/javascript\">\\r\\n\\t_vjTrack(\"\");\\r\\n\\t</script>\\r\\n\\t<noscript>\\r\\n\\t\\t<img src=\"http://cntv.wrating.com/a.gif?c=860010-1102010100\" width=\"1\" height=\"1\" />\\r\\n\\t</noscript>\\r\\n\\t<div style=\"display:none\">\\r\\n\\t<!--repaste.pv.begin-->860010-1102010100<!--repaste.pv.end-->\\r\\n\\t</div>\\r\\n\\r\\n</body>\\r\\n</html>'"
      ]
     },
     "execution_count": 31,
     "metadata": {},
     "output_type": "execute_result"
    }
   ],
   "source": [
    "html_str"
   ]
  },
  {
   "cell_type": "code",
   "execution_count": 32,
   "metadata": {},
   "outputs": [],
   "source": [
    "import requests #week o4 request module\n",
    "from bs4 import BeautifulSoup #pay attention to its syntax\n",
    "r = requests.get('https://initiumlab.com/blog/20170329-trump-and-ivanka/')\n",
    "#print(r) you will get <Response [200]> means request successful\n",
    "html_str = r.text #get the content of the request"
   ]
  },
  {
   "cell_type": "code",
   "execution_count": 33,
   "metadata": {},
   "outputs": [
    {
     "data": {
      "text/plain": [
       "'<!doctype html>\\n<html>\\n  <head>\\n    \\n\\n<meta charset=\"UTF-8\"/>\\n<meta http-equiv=\"X-UA-Compatible\" content=\"IE=edge,chrome=1\" />\\n<meta name=\"viewport\" content=\"width=device-width, initial-scale=1, maximum-scale=1\"/>\\n<meta http-equiv=\"Cache-Control\" content=\"no-transform\" />\\n<meta http-equiv=\"Cache-Control\" content=\"no-siteapp\" />\\n\\n\\n\\n\\n\\n  <meta name=\"keywords\" content=\"data journalism,data analysis,data visualization,design,new media,technology,hackathon,Twitter,Trump,Ivanka,\" />\\n\\n\\n\\n\\n  <link rel=\"alternate\" href=\"../../feed.xml\" title=\"Initium Lab | Exploratory Arm of Initium Media\" type=\"application/atom+xml\" />\\n\\n\\n<link rel=\"shortcut icon\" type=\"image/x-icon\" href=\"../../images/favicon.ico?v=2.1.0\" />\\n<link rel=\"icon\" type=\"image/png\" href=\"../../images/favicon.png?v=2.1.0\" />\\n\\n<meta name=\"description\" content=\"美國新晉總統唐納德·特朗普（Donald Trump）以其極端言論在一眾政客裡獨領風騷。端Lab曾於2016年撰文分析特朗普與其競選對手希拉里·柯林頓（Hillary Clinton）面對媒體採訪時不同的言論風格，發現特朗普發言多用簡單句型，且善於用第二人稱敘事獲取觀眾共鳴。除去媒體採訪，推特發言亦是特朗普競選的宣傳的另一愨道。因此本文選取唐納德·特朗普（下簡稱特朗普）及其女兒伊萬卡·特朗普（下簡\">\\n<meta property=\"og:type\" content=\"article\">\\n<meta property=\"og:title\" content=\"特朗普父女推特解密\">\\n<meta property=\"og:url\" content=\"http://initiumlab.com/blog/20170329-trump-and-ivanka/index.html\">\\n<meta property=\"og:site_name\" content=\"Initium Lab | Exploratory Arm of Initium Media\">\\n<meta property=\"og:description\" content=\"美國新晉總統唐納德·特朗普（Donald Trump）以其極端言論在一眾政客裡獨領風騷。端Lab曾於2016年撰文分析特朗普與其競選對手希拉里·柯林頓（Hillary Clinton）面對媒體採訪時不同的言論風格，發現特朗普發言多用簡單句型，且善於用第二人稱敘事獲取觀眾共鳴。除去媒體採訪，推特發言亦是特朗普競選的宣傳的另一愨道。因此本文選取唐納德·特朗普（下簡稱特朗普）及其女兒伊萬卡·特朗普（下簡\">\\n<meta property=\"og:image\" content=\"http://initiumlab.com/blog/20170329-trump-and-ivanka/ivanka-tweets-by-time-and-device.svg\">\\n<meta property=\"og:updated_time\" content=\"2018-04-23T14:43:46.608Z\">\\n<meta name=\"twitter:card\" content=\"summary\">\\n<meta name=\"twitter:title\" content=\"特朗普父女推特解密\">\\n<meta name=\"twitter:description\" content=\"美國新晉總統唐納德·特朗普（Donald Trump）以其極端言論在一眾政客裡獨領風騷。端Lab曾於2016年撰文分析特朗普與其競選對手希拉里·柯林頓（Hillary Clinton）面對媒體採訪時不同的言論風格，發現特朗普發言多用簡單句型，且善於用第二人稱敘事獲取觀眾共鳴。除去媒體採訪，推特發言亦是特朗普競選的宣傳的另一愨道。因此本文選取唐納德·特朗普（下簡稱特朗普）及其女兒伊萬卡·特朗普（下簡\">\\n<meta name=\"twitter:image\" content=\"http://initiumlab.com/blog/20170329-trump-and-ivanka/ivanka-tweets-by-time-and-device.svg\">\\n<meta name=\"twitter:creator\" content=\"@initiumnews\">\\n\\n<link rel=\"stylesheet\" href=\"../../css/main.css?v=2.1.0\" type=\"text/css\">\\n\\n\\n\\n<script src=\"//cdnjs.cloudflare.com/ajax/libs/jquery/3.1.0/jquery.min.js\"></script>\\n<script src=\"../../vendors/libs.js?v=2.1.0\" type=\"text/javascript\"></script>\\n\\n<!-- Begin comScore Tag -->\\n<script>\\n  var _comscore = _comscore || [];\\n  _comscore.push({ c1: \"2\", c2: \"20515846\" });\\n  (function() { var s = document.createElement(\"script\"), el = document.getElementsByTagName(\"script\")[0];\\n    s.async = true;\\n    s.src = (document.location.protocol == \"https:\" ? \"https://sb\" : \"http://b\") + \".scorecardresearch.com/beacon.js\";\\n    el.parentNode.insertBefore(s, el); }\\n  )();\\n</script>\\n<noscript>\\n  <img src=\"http://b.scorecardresearch.com/p?c1=2&c2=20515846&cv=2.0&cj=1\" />\\n</noscript>\\n<!-- End comScore Tag -->\\n    <title> 特朗普父女推特解密 | Initium Lab | Exploratory Arm of Initium Media </title>\\n  </head>\\n\\n  <body itemscope itemtype=\"http://schema.org/WebPage\" lang=\"en\">\\n    <!--[if lte IE 9]>\\n  <div style=\\' clear: both; height: 59px; padding:0 0 0 15px; position: relative;margin:0 auto;\\'>\\n    <a href=\"http://windows.microsoft.com/en-US/internet-explorer/products/ie/home?ocid=ie6_countdown_bannercode\">\\n      <img src=\"http://7u2nvr.com1.z0.glb.clouddn.com/picouterie.jpg\" border=\"0\" height=\"42\" width=\"820\"\\n           alt=\"You are using an outdated browser. For a faster, safer browsing experience, upgrade for free today or use other browser ,like chrome firefox safari.\"\\n           style=\\'margin-left:auto;margin-right:auto;display: block;\\'/>\\n    </a>\\n  </div>\\n<![endif]-->\\n\\n    <aside class=\"sidebar animate\" itemscope itemtype=\"http://schema.org/WPSideBar\">\\n  \\n  <a href=\"../../\" class=\"sidebar__logo\">\\n    \\n    <img src=\"../../images/logo.svg\" alt=\"initiumlab logo\">\\n  </a>\\n  <div class=\"sidebar__content\">\\n    \\n    <nav class=\"sidebar__nav\">\\n      <ul>\\n        \\n          <li class=\"sidebar__nav--home\">\\n            <a href=\"../../\" >\\n              <span>首頁</span>\\n            </a>\\n          </li>\\n        \\n          <li class=\"sidebar__nav--blog\">\\n            <a href=\"../../blog\" class=\"active\">\\n              <span>文章</span>\\n            </a>\\n          </li>\\n        \\n          <li class=\"sidebar__nav--project\">\\n            <a href=\"../../projects\" >\\n              <span>專題</span>\\n            </a>\\n          </li>\\n        \\n          <li class=\"sidebar__nav--event\">\\n            <a href=\"../../events\" >\\n              <span>活動</span>\\n            </a>\\n          </li>\\n        \\n          <li class=\"sidebar__nav--career\">\\n            <a href=\"../../career\" >\\n              <span>職位</span>\\n            </a>\\n          </li>\\n        \\n          <li class=\"sidebar__nav--about\">\\n            <a href=\"../../about\" >\\n              <span>團隊</span>\\n            </a>\\n          </li>\\n        \\n      </ul>\\n    </nav>\\n    \\n    <section class=\"sidebar__social\">\\n      \\n        <a href=\"//www.facebook.com/initiumlab\" target=\"_blank\" data-social=\"facebook\">\\n          \\n\\n<svg class=\"icon icon--facebook\" viewBox=\"0 0 53 100\" xmlns=\"http://www.w3.org/2000/svg\">\\n  <use xlink:href=\"../../images/icons/svg-sprite.svg#facebook\"></use>\\n</svg>\\n        </a>\\n      \\n        <a href=\"//youtube.com/channel/UC6A8BFtKG3sRcExuOomA_tA\" target=\"_blank\" data-social=\"youtube\">\\n          \\n\\n<svg class=\"icon icon--youtube\" viewBox=\"0 0 141 100\" xmlns=\"http://www.w3.org/2000/svg\">\\n  <use xlink:href=\"../../images/icons/svg-sprite.svg#youtube\"></use>\\n</svg>\\n        </a>\\n      \\n        <a href=\"//www.linkedin.com/groups/7048631\" target=\"_blank\" data-social=\"linkedin\">\\n          \\n\\n<svg class=\"icon icon--linkedin\" viewBox=\"0 0 105 100\" xmlns=\"http://www.w3.org/2000/svg\">\\n  <use xlink:href=\"../../images/icons/svg-sprite.svg#linkedin\"></use>\\n</svg>\\n        </a>\\n      \\n      <a href=\"../../feed.xml\" target=\"_blank\" data-social=\"rss\">\\n        \\n\\n<svg class=\"icon icon--rss\" viewBox=\"0 0 100 100\" xmlns=\"http://www.w3.org/2000/svg\">\\n  <use xlink:href=\"../../images/icons/svg-sprite.svg#rss\"></use>\\n</svg>\\n      </a>\\n    </section>\\n    \\n    \\n      <section class=\"subscribe\">\\n  <button class=\"subscribe__btn subscribe__btn--popup\" type=\"button\">\\n    <span>訂閱</span>\\n  </button>\\n  <div class=\"subscribe__content\">\\n    <form class=\"subscribe__form\">\\n        <input type=\"email\" name=\"EMAIL\" placeholder=\"* 郵箱\" required>\\n        <input type=\"text\" name=\"FNAME\" placeholder=\"名字\">\\n        <input type=\"text\" name=\"LNAME\" placeholder=\"姓氏\">\\n        <button class=\"subscribe__btn subscribe__btn--submit animate\" type=\"submit\" disabled>提交</button>\\n        <div class=\"subscribe__msg\">\\n          <div class=\"subscribe__msg__content\">\\n            <section>\\n              \\n\\n<svg class=\"icon icon--spin\" viewBox=\"0 0 100 100\" xmlns=\"http://www.w3.org/2000/svg\">\\n  <use xlink:href=\"../../images/icons/svg-sprite.svg#spin\"></use>\\n</svg>\\n              \\n\\n<svg class=\"icon icon--success\" viewBox=\"0 0 124 101\" xmlns=\"http://www.w3.org/2000/svg\">\\n  <use xlink:href=\"../../images/icons/svg-sprite.svg#success\"></use>\\n</svg>\\n              \\n\\n<svg class=\"icon icon--error\" viewBox=\"0 0 100 100\" xmlns=\"http://www.w3.org/2000/svg\">\\n  <use xlink:href=\"../../images/icons/svg-sprite.svg#error\"></use>\\n</svg>\\n            </section>\\n            <section><p data-msg=\"\"></p></section>\\n          </div>\\n        </div>\\n    </form>\\n  </div>\\n  <script>\\n    ;(function() {\\n      var $popupBtn = $(\\'.subscribe__btn--popup\\');\\n      var $content = $(\\'.subscribe__content\\');\\n      var $form = $(\\'.subscribe__form\\');\\n      var $submitBtn = $(\\'.subscribe__btn--submit\\');\\n      var $msgBox = $(\\'.subscribe__msg\\');\\n      var $msg = $msgBox.find(\\'[data-msg]\\');\\n      var $icons = $msgBox.find(\\'.icon\\');\\n\\n      // Toggle Form\\n      $popupBtn.click(function() {\\n        $content.fadeIn();\\n\\n        $(window).click(function() {\\n          $content.fadeOut();\\n          $msgBox.fadeOut();\\n          $(window).off(\\'click\\');\\n        });\\n\\n        ga(\\'send\\', \\'event\\', \\'subscribe-button\\', \\'click\\');\\n      });\\n      $(\\'.subscribe__form, .subscribe__btn--popup\\').click(function(e) {\\n        e.stopPropagation();\\n      });\\n\\n      // Handle Form change\\n      $form\\n      .on(\\'input\\', function() {\\n        $submitBtn[0].disabled = !$form[0].checkValidity();\\n      })\\n      .on(\\'submit\\', function(e) {\\n        e.preventDefault();\\n\\n        // Init data\\n        var request_data = {};\\n        $.each($form.serializeArray(), function(index, item) {\\n          request_data[item.name] = item.value;\\n        });\\n\\n        // Post data\\n        $msg.attr(\\'data-msg\\', \\'\\');\\n        $icons.hide().filter(\\'.icon--spin\\').show();\\n        $msgBox.fadeIn();\\n\\n        $.ajax({\\n          url: \\'//initiumlab.us11.list-manage.com/subscribe/post-json?u=0af72d56ccd0f8ef2d17e12a2&id=64252e9209&c=?\\',\\n          data: request_data,\\n          dataType: \\'jsonp\\'\\n        })\\n        .done(function(data) {\\n          $icons.hide().filter(\\'.icon--success\\').show();\\n        })\\n        .always(function(data) {\\n          var msg = data.msg;\\n\\n          if (msg.match(/finished/i)) return;\\n\\n          $icons.hide().filter(\\'.icon--error\\').show();\\n          $msg.attr(\\'data-msg\\', msg);\\n        });\\n      });\\n    })()\\n  </script>\\n</section>\\n    \\n  </div>\\n</aside>\\n<script>\\n  ;(function() {\\n    var $w = $(window);\\n    var $sidebar = $(\\'.sidebar\\');\\n    var $sidebarContent = $(\\'.sidebar__content\\');\\n    var yPositionToHide = $w.height();\\n\\n    if ($w.width() < 990) return;\\n\\n    $w\\n    .on(\\'scroll\\', function() {\\n      if ($w.scrollTop() > yPositionToHide) {\\n        toggleSidebar(\\'hide\\');\\n      } else {\\n        toggleSidebar(\\'show\\');\\n      }\\n    })\\n    .on(\\'resize\\', function() {\\n      yPositionToHide = $w.height();\\n    });\\n\\n    $sidebar.on(\\'mouseover\\', function() {\\n      if ($sidebarContent.css(\\'display\\') === \\'none\\') {\\n        toggleSidebar(\\'show\\');\\n\\n        $sidebar.on(\\'mouseleave\\', function() {\\n          toggleSidebar(\\'hide\\');\\n          $sidebar.off(\\'mouseleave\\');\\n        });\\n      }\\n    });\\n\\n    // GA\\n    $(\\'[data-social]\\').each(function() {\\n      $(this).click(function() {\\n        ga(\\'send\\', \\'event\\', \\'social_button\\', \\'click\\', this.getAttribute(\\'data-social\\'));\\n      });\\n    });\\n\\n    function toggleSidebar(type) {\\n      var isShow = type === \\'show\\';\\n\\n      $sidebar[isShow ? \\'removeClass\\' : \\'addClass\\'](\\'sidebar--fixed\\');\\n      $sidebarContent[isShow ? \\'fadeIn\\' : \\'fadeOut\\']();\\n    }\\n  })()\\n</script>\\n    <header class=\"mobile-header\">\\n  <button type=\"button\" class=\"mobile-header__logo animate\">\\n    <img src=\"../../images/logo.svg\" alt=\"initiumlab logo\">\\n  </button>\\n</header>\\n<script>\\n  ;(function() {\\n    var $mobileHeader = $(\\'.mobile-header\\');\\n    var $mobileLogo = $(\\'.mobile-header__logo\\');\\n    var $mobileNav = $(\\'.sidebar\\');\\n\\n    $mobileLogo.click(function() {\\n      $(\\'body\\').toggleClass(\\'fixed\\');\\n      $mobileHeader.toggleClass(\\'mobile-header--nav-open\\');\\n      $mobileNav.toggleClass(\\'sidebar--nav-open\\');\\n    });\\n  })()\\n</script>\\n\\n    <main class=\"main \">\\n      <div class=\"main__container\">\\n        \\n  \\n  <article class=\"post post--normal \" itemscope itemtype=\"http://schema.org/Article\">\\n    <header>\\n      \\n      \\n      \\n        <h1 class=\"post__title\" itemprop=\"name headline\">\\n          \\n            \\n              特朗普父女推特解密\\n            \\n          \\n        </h1>\\n      \\n\\n      \\n      \\n\\n      \\n      <div class=\"post__meta\">\\n        <table>\\n          <tbody>\\n            <tr class=\"post__time\">\\n              <td>\\n\\n<svg class=\"icon icon--clock\" viewBox=\"0 0 100 100\" xmlns=\"http://www.w3.org/2000/svg\">\\n  <use xlink:href=\"../../images/icons/svg-sprite.svg#clock\"></use>\\n</svg></td>\\n              <td>\\n                <time itemprop=\"dateCreated\" datetime=\"2017-03-29T18:00:00+08:00\" content=\"2017-03-29\">\\n                  2017-03-29\\n                </time>\\n              </td>\\n            </tr>\\n\\n            <tr class=\"post__authors\">\\n              <td>\\n\\n<svg class=\"icon icon--pen\" viewBox=\"0 0 35 100\" xmlns=\"http://www.w3.org/2000/svg\">\\n  <use xlink:href=\"../../images/icons/svg-sprite.svg#pen\"></use>\\n</svg></td>\\n              <td>\\n                \\n                  <span>Li Yiming</span>\\n                \\n                  <span>Li Yuqiong</span>\\n                \\n              </td>\\n            </tr>\\n\\n            \\n              <tr class=\\'post__tags\\'>\\n                <td>\\n\\n<svg class=\"icon icon--tag\" viewBox=\"0 0 69 100\" xmlns=\"http://www.w3.org/2000/svg\">\\n  <use xlink:href=\"../../images/icons/svg-sprite.svg#tag\"></use>\\n</svg></td>\\n                <td>\\n                \\n                  <span class=\"tag\">\\n                    <a href=\"../../tags/Twitter/\">\\n                      Twitter\\n                      </a>\\n                  </span>\\n                \\n                  <span class=\"tag\">\\n                    <a href=\"../../tags/Trump/\">\\n                      Trump\\n                      </a>\\n                  </span>\\n                \\n                  <span class=\"tag\">\\n                    <a href=\"../../tags/Ivanka/\">\\n                      Ivanka\\n                      </a>\\n                  </span>\\n                \\n                </td>\\n              </tr>\\n            \\n          </tbody>\\n        </table>\\n      </div>\\n    </header>\\n\\n    \\n    <div class=\"post__body\" itemprop=\"articleBody\">\\n      <p>美國新晉總統唐納德·特朗普（Donald Trump）以其極端言論在一眾政客裡獨領風騷。<a href=\"http://initiumlab.com/\">端Lab</a>曾於2016年<a href=\"http://initiumlab.com/blog/20160704-trump-hillary-language/\">撰文分析</a>特朗普與其競選對手希拉里·柯林頓（Hillary Clinton）面對媒體採訪時不同的言論風格，發現特朗普發言多用簡單句型，且善於用第二人稱敘事獲取觀眾共鳴。</p>\\n<p>除去媒體採訪，推特發言亦是特朗普競選的宣傳的另一愨道。因此本文選取唐納德·特朗普（下簡稱特朗普）及其女兒伊萬卡·特朗普（下簡稱伊萬卡）的推特數據作為樣本，利用文本信息挖掘方法（text mining methods），來分析他們在社交網絡上展示的話語特點。</p>\\n<h2 id=\"話癆特朗普\"><a href=\"#話癆特朗普\" class=\"headerlink\" title=\"話癆特朗普\"></a>話癆特朗普</h2><p>從發推文總數量來看，特朗普遠勝其女伊萬卡。2009到2016年，特朗普發布推文總數量三萬餘條，平均每天十條。而其女伊萬卡發文總量為一萬一千餘條，平均每天三條。二人皆疑似推特深度用戶。</p>\\n<p>下圖顯示，特朗普推文数量從2011年起開始狂飆突進，並於2013年和2015年分別達到峰值。而伊萬卡的發文風格則更加穩健，只是在2016年時有所增加，可能是為特朗普競選造勢之故？</p>\\n<p><img src=\"trump-ivanka-number-of-tweets-by-time.svg\" alt=\"\"></p>\\n<h2 id=\"特朗普家族最喜愛的推特發佈平台\"><a href=\"#特朗普家族最喜愛的推特發佈平台\" class=\"headerlink\" title=\"特朗普家族最喜愛的推特發佈平台\"></a>特朗普家族最喜愛的推特發佈平台</h2><p>特朗普與伊萬卡身為上流社會人士，當然不能滿足於用單一平台發布推文。</p>\\n<p>下表展示了特朗普父女較常使用的推特客戶端。他們在這些客戶端上發布的推文條數大於100。可以看出特朗普鍾愛安卓和網頁客戶端，而伊萬卡口味更加多元，除去推特網頁客戶端之外，更勇於嘗試 Buffer， Instagram， Sprout，BlackBerry，UberSocial 等各種較新的平台。她似乎並不鍾愛安卓手機。</p>\\n<p>加入發文時間後，我們的分析發現，特朗普最初多使用网页推特发布消息，於2013年左右開始使用安卓手機系統客戶端發推特。2016左右，設備鳥槍換炮，用起了高大上的蘋果iOS系統客戶端。相比之下，伊萬卡發文的平台有較強階段性。2010年左右她與其父一樣是推特網頁版的忠實用戶，2011到2012年間還使用了其他設備和平台，如 Uber， BlackBerry等。2012年後她似乎開始喜愛上Instagram和iPhone平台。有意思的是，2015年她突然開始頻繁使用Buffer這款軟件，2016年則移情Sprout。這兩款均為社交網站管理平台，可以同時連結並管理Facebook、Twitter、Instagram等帳戶。從圖上來看，使用Buffer的時間段和Sprout的時間段並無交接，因此伊萬卡女士似乎更鍾意Sprout的用戶體驗。</p>\\n<p><img src=\"ivanka-tweets-by-time-and-device.svg\" alt=\"\"></p>\\n<h2 id=\"詞彙偏好\"><a href=\"#詞彙偏好\" class=\"headerlink\" title=\"詞彙偏好\"></a>詞彙偏好</h2><p>下圖列出不同詞彙在特朗普和伊萬卡的推特中分別出現的比例。可以發現，兩人共同姓氏「trump」，以及一些常用詞「tonight」，「world」，「win」， 「forward」在雙方微博中出現的比例均較高。</p>\\n<p>同時，和上文發現類似的是，伊萬卡常用詞更偏向時尚、商業和生活，例如「advice」，「shops」，「chic」，「founder」，「intern」 等等。而特朗普有更多和政治、政策以及競選相關的詞彙，如「senator」，「endorsement」，「broken」，「complete」等。最能體現這一區別的一個例子是，伊萬卡大量使用了「tips」這一詞彙，儼然一位人生導師。而特朗普則大量使用了「Obama」，和他總統競選人的身份相符。</p>\\n<p><img src=\"top-distinctive-words.svg\" alt=\"\"></p>\\n<h2 id=\"父女口癖變遷史\"><a href=\"#父女口癖變遷史\" class=\"headerlink\" title=\"父女口癖變遷史\"></a>父女口癖變遷史</h2><p>下圖列出09年到16年之間，Trump 的 tweets 中常用詞彙的變化。09年到12年間，「Apprentice」頻繁出現在 Trump 的 tweets 中。這緣於一部真人職場秀<a href=\"https://en.wikipedia.org/wiki/The_Apprentice_%28U.S._TV_series%29\" target=\"_blank\" rel=\"external\">The Apprentice</a>，求職者在節目中分成兩組比賽，並在每一集中從輸的隊伍中淘汰一名貢獻最小的成員。節目最後的優勝者，有機會去經營Trump旗下的一個公司。在這個節目中，Trump做了14季的Host；決定參選總統後，他辭去了這個職位。當Trump獲勝的時候，人們驚呼其在 Twitter 上強大的影響力。可是回過去看，Trump 在利用媒體方面的技能，確實勝過世界上的很多領導者 – 從「TV Show 億萬富豪」到「Twitter 治國總統」，似乎並不意外。</p>\\n<p><img src=\"top-8-trending-words-trump.svg\" alt=\"\"></p>\\n<p>上文提到，「Tips」是 Ivanka 的口頭禪之一。細看其中內容，除了大量轉推的經驗分享，大多還添加了特定的 Twitter 標籤，（hashtag）比如「#interntips」、「#healthtips」等等。而另一方面，「trump」的提及卻越來越少，在總統競選期間降到最低；同一時期「Tips」出現最爲頻繁。09年到14年間，Ivanka 的 tweets 中大量出現「trump」，大多與 Trump 家族的產業有關，比如 「@trumpgolf」、「#trumptower」、「@trumpwinery」、「#trumphotels」、…… 這些 Twitter 帳號和 hashtag 之間，大量互動和互聯，都吸引了不少粉絲。看罷數據，不得不感嘆， Ivanka 在運營 Twitter 方面的技能，與專業團隊無異。如果說15年前 Ivanka 的運作手法是「硬廣」，那麼從15年中旬開始，放棄「trump」、轉推「tips」、搖身一變人生導師，則更是技高一籌。</p>\\n<p><img src=\"top-3-trending-words-trump.svg\" alt=\"\"></p>\\n<h2 id=\"最易引發「轉發」和「喜歡」的詞彙\"><a href=\"#最易引發「轉發」和「喜歡」的詞彙\" class=\"headerlink\" title=\"最易引發「轉發」和「喜歡」的詞彙\"></a>最易引發「轉發」和「喜歡」的詞彙</h2><p>「轉發」和「喜歡」均為發布者和關注者的某種互動形式。因此，通過分析獲得更多「轉發」和「喜歡」的推特詞彙特點，既可以分析出發布者的心態，也可以分析出關注群體對特定內容的偏好。紐約時報2011年一項針對社交媒體的調查發現，用戶在社交媒體上分享信息主要有五種情況：分享娛樂性消息、自我包裝和認同、增強社交關係、進行對話，以及推廣新聞、產品信息等【注2】。</p>\\n<p>下圖展示了在特朗普和伊萬卡的推特數據裡，哪些詞彙容易引發更多轉發。特朗普的推特詞彙中，獲取轉發數最高的為「hamilton」，「praying」和「wikileaks」。而伊萬卡的則為「policy」，「family」，「theodore」。這些詞彙個人性較弱，更類似對特定消息的推廣，符合二人公眾人物的身分。</p>\\n<p>「Hamilton」的高出鏡率可能因為如下這條推特 -</p>\\n<blockquote>\\n<p>Donald J. Trump  ✔@realDonaldTrump<br>The Theater must always be a safe and special place.The cast of Hamilton was very rude last &gt; night to a very good man, Mike Pence. Apologize!<br>9:56 PM - 19 Nov 2016<br>43,592 43,592 Retweets   149,734 149,734 likes</p>\\n</blockquote>\\n<p>在這條發布與2016年11月19日，獲得四萬三千多條轉發的推文中，特朗普指責音樂劇 「Hamilton」的劇組對副總統 Mike Pence 進行騷擾。Mike Pence 之前觀賞了該音樂劇。表演結束後，劇組成員當眾向他表達了對新當選政府的不信任，和對未來的期待。這一舉動似乎激怒了特朗普，他在推特上發文要求劇組向副總統道歉。</p>\\n<p>詞彙「praying」的信息量較少。「wikileaks」可能與特朗普競選時多次強調該網站揭露的希拉里郵件醜聞有關。可以想像，含有類似內容的推特因為具有新聞性，較易引發交流，從而引起轉發和討論。</p>\\n<p>關於伊萬卡的推特分析，「theodore」是她新出生兒子的名字，這也和「family」獲得較高轉發量相吻合。另一方面，這可能反映出美國文化對家庭價值的重視。與上文類似，包含詞彙「policy」的推特，可能因為其新聞性和內容性而獲得較高轉發。</p>\\n<p><img src=\"top-10-words-for-retweet.svg\" alt=\"\"></p>\\n<h2 id=\"最易引發「喜歡」的詞彙\"><a href=\"#最易引發「喜歡」的詞彙\" class=\"headerlink\" title=\"最易引發「喜歡」的詞彙\"></a>最易引發「喜歡」的詞彙</h2><p>關於社交媒體上用戶「喜歡」某條推特，或者「點贊」的行為，來自社交媒體管理網站Buffer（伊萬卡之前最愛）分析認為，點贊的行為動機可分為四種：類似線下交流時點頭等打招呼的行為，對自己認同的某些價值再度肯定，表達同情，以及獲取現實回報（如餐廳打折等）。分析特朗普和伊萬卡獲取「點贊」數最多的推特詞彙可以發現，兩人的前三名大致與獲取轉發數較高的推特相同。唯一區別在於特朗普發布的「electoral」詞彙亦獲得較多喜歡。這可能是支持者表達鼓勵的行為反映。</p>\\n<p><img src=\"top-10-words-for-favourite.svg\" alt=\"\"></p>\\n<hr>\\n<p>註釋：</p>\\n<ul>\\n<li>本文所用原始數據及代碼見GitHub： <a href=\"https://github.com/kestrel614/HKODD17-Trump\" target=\"_blank\" rel=\"external\">https://github.com/kestrel614/HKODD17-Trump</a></li>\\n<li>本文使用主要文本分析工具是R，部分分析方法參考網站 <a href=\"http://tidytextmining.com/\" target=\"_blank\" rel=\"external\">http://tidytextmining.com/</a> 。</li>\\n<li>注【2】：<a href=\"http://text-ex-machina.co.uk/blog/new-york-times-study.html\" target=\"_blank\" rel=\"external\">http://text-ex-machina.co.uk/blog/new-york-times-study.html</a></li>\\n<li>注【3】：<a href=\"https://blog.bufferapp.com/psychology-of-facebook\" target=\"_blank\" rel=\"external\">https://blog.bufferapp.com/psychology-of-facebook</a></li>\\n</ul>\\n\\n    </div>\\n    \\n  </article>\\n\\n  <div class=\"share\">\\n  <div class=\"share__icons\">\\n    \\n\\n<svg class=\"icon icon--share\" viewBox=\"0 0 93 101\" xmlns=\"http://www.w3.org/2000/svg\">\\n  <use xlink:href=\"../../images/icons/svg-sprite.svg#share\"></use>\\n</svg>\\n    \\n      <button data-share=\"facebook\" type=\"button\">\\n        \\n\\n<svg class=\"icon icon--facebook\" viewBox=\"0 0 53 100\" xmlns=\"http://www.w3.org/2000/svg\">\\n  <use xlink:href=\"../../images/icons/svg-sprite.svg#facebook\"></use>\\n</svg>\\n        \\n      </button>\\n    \\n      <button data-share=\"twitter\" type=\"button\">\\n        \\n\\n<svg class=\"icon icon--twitter\" viewBox=\"0 0 127 100\" xmlns=\"http://www.w3.org/2000/svg\">\\n  <use xlink:href=\"../../images/icons/svg-sprite.svg#twitter\"></use>\\n</svg>\\n        \\n      </button>\\n    \\n      <button data-share=\"wechat\" type=\"button\">\\n        \\n\\n<svg class=\"icon icon--wechat\" viewBox=\"0 0 127 100\" xmlns=\"http://www.w3.org/2000/svg\">\\n  <use xlink:href=\"../../images/icons/svg-sprite.svg#wechat\"></use>\\n</svg>\\n        \\n          <span class=\"wechat_share_qrcode\"></span>\\n        \\n      </button>\\n    \\n      <button data-share=\"weibo\" type=\"button\">\\n        \\n\\n<svg class=\"icon icon--weibo\" viewBox=\"0 0 123 99\" xmlns=\"http://www.w3.org/2000/svg\">\\n  <use xlink:href=\"../../images/icons/svg-sprite.svg#weibo\"></use>\\n</svg>\\n        \\n      </button>\\n    \\n  </div>\\n\\n  \\n  <div id=\"fb-root\"></div>\\n  <script>(function(d, s, id) {\\n    var js, fjs = d.getElementsByTagName(s)[0];\\n    if (d.getElementById(id)) return;\\n    js = d.createElement(s); js.id = id;\\n    js.src = \"//connect.facebook.net/zh_HK/sdk.js#xfbml=1&version=v2.7\";\\n    fjs.parentNode.insertBefore(js, fjs);\\n  }(document, \\'script\\', \\'facebook-jssdk\\'));</script>\\n  <style>\\n    .fb-like {\\n      position: absolute;\\n      right: 0;\\n      bottom: 0;\\n    }\\n  </style>\\n  <div class=\"fb-like\" data-colorscheme=\"dark\" data-href=\"http://initiumlab.com/blog/20170329-trump-and-ivanka/\" data-layout=\"box_count\" data-action=\"like\" data-size=\"large\" data-show-faces=\"false\" data-share=\"false\"></div>\\n</div>\\n  <div class=\"cc\" style=\"font-size: 12px; color: #838383;\">\\n  <a rel=\"license\" href=\"http://creativecommons.org/licenses/by/4.0/\"><img alt=\"知识共享许可协议\" style=\"border-width:0; margin: 0;\" src=\"https://i.creativecommons.org/l/by/4.0/80x15.png\" /></a><br />本作品采用<a rel=\"license\" href=\"http://creativecommons.org/licenses/by/4.0/\">知识共享署名 4.0 国际许可协议</a>进行许可。\\n</div>\\n  <div class=\"sticky-tools\">\\n  \\n  <section class=\"sticky-tools__toc\">\\n    <button type=\"button\">\\n      \\n\\n<svg class=\"icon icon--list\" viewBox=\"0 0 100 100\" xmlns=\"http://www.w3.org/2000/svg\">\\n  <use xlink:href=\"../../images/icons/svg-sprite.svg#list\"></use>\\n</svg>\\n    </button>\\n    <div class=\"toc-wrapper\">\\n      <h3>目錄</h3>\\n      <ol class=\"toc\"><li class=\"toc-item toc-level-2\"><a class=\"toc-link\" href=\"#話癆特朗普\"><span class=\"toc-number\">1.</span> <span class=\"toc-text\">話癆特朗普</span></a></li><li class=\"toc-item toc-level-2\"><a class=\"toc-link\" href=\"#特朗普家族最喜愛的推特發佈平台\"><span class=\"toc-number\">2.</span> <span class=\"toc-text\">特朗普家族最喜愛的推特發佈平台</span></a></li><li class=\"toc-item toc-level-2\"><a class=\"toc-link\" href=\"#詞彙偏好\"><span class=\"toc-number\">3.</span> <span class=\"toc-text\">詞彙偏好</span></a></li><li class=\"toc-item toc-level-2\"><a class=\"toc-link\" href=\"#父女口癖變遷史\"><span class=\"toc-number\">4.</span> <span class=\"toc-text\">父女口癖變遷史</span></a></li><li class=\"toc-item toc-level-2\"><a class=\"toc-link\" href=\"#最易引發「轉發」和「喜歡」的詞彙\"><span class=\"toc-number\">5.</span> <span class=\"toc-text\">最易引發「轉發」和「喜歡」的詞彙</span></a></li><li class=\"toc-item toc-level-2\"><a class=\"toc-link\" href=\"#最易引發「喜歡」的詞彙\"><span class=\"toc-number\">6.</span> <span class=\"toc-text\">最易引發「喜歡」的詞彙</span></a></li></ol>\\n    </div>\\n  </section>\\n  \\n  <section class=\"sticky-tools__share\">\\n    <button type=\"button\">\\n      \\n\\n<svg class=\"icon icon--share\" viewBox=\"0 0 93 101\" xmlns=\"http://www.w3.org/2000/svg\">\\n  <use xlink:href=\"../../images/icons/svg-sprite.svg#share\"></use>\\n</svg>\\n    </button>\\n    <div class=\"sticky-tools__share__icons\">\\n      \\n        <button data-share=\"facebook\" type=\"button\">\\n          \\n\\n<svg class=\"icon icon--facebook\" viewBox=\"0 0 53 100\" xmlns=\"http://www.w3.org/2000/svg\">\\n  <use xlink:href=\"../../images/icons/svg-sprite.svg#facebook\"></use>\\n</svg>\\n          \\n        </button>\\n      \\n        <button data-share=\"twitter\" type=\"button\">\\n          \\n\\n<svg class=\"icon icon--twitter\" viewBox=\"0 0 127 100\" xmlns=\"http://www.w3.org/2000/svg\">\\n  <use xlink:href=\"../../images/icons/svg-sprite.svg#twitter\"></use>\\n</svg>\\n          \\n        </button>\\n      \\n        <button data-share=\"wechat\" type=\"button\">\\n          \\n\\n<svg class=\"icon icon--wechat\" viewBox=\"0 0 127 100\" xmlns=\"http://www.w3.org/2000/svg\">\\n  <use xlink:href=\"../../images/icons/svg-sprite.svg#wechat\"></use>\\n</svg>\\n          \\n            <span class=\"wechat_share_qrcode\"></span>\\n          \\n        </button>\\n      \\n        <button data-share=\"weibo\" type=\"button\">\\n          \\n\\n<svg class=\"icon icon--weibo\" viewBox=\"0 0 123 99\" xmlns=\"http://www.w3.org/2000/svg\">\\n  <use xlink:href=\"../../images/icons/svg-sprite.svg#weibo\"></use>\\n</svg>\\n          \\n        </button>\\n      \\n    </div>\\n  </section>\\n  <section class=\"sticky-tools__btt\">\\n    <button type=\"button\">\\n      \\n\\n<svg class=\"icon icon--chevron-top\" viewBox=\"0 0 159 100\" xmlns=\"http://www.w3.org/2000/svg\">\\n  <use xlink:href=\"../../images/icons/svg-sprite.svg#chevron-top\"></use>\\n</svg>\\n    </button>\\n  </section>\\n</div>\\n\\n<script>\\n;(function() {\\n  var $w = $(window);\\n\\n  ;(function() {\\n    var $tools = $(\\'.sticky-tools\\');\\n    var yPositionToShow = $w.height();\\n\\n    if ($w.width() < 990) return;\\n\\n    $w\\n    .on(\\'scroll\\', function() {\\n      if ($w.scrollTop() > yPositionToShow && !$(\\'footer\\').visible(true)) {\\n        $tools.fadeIn();\\n      } else {\\n        $tools.fadeOut();\\n      }\\n    })\\n    .on(\\'resize\\', function() {\\n      yPositionToShow = $w.height();\\n    });\\n  })()\\n  /**\\n   * Share\\n   *\\n   */\\n  var $shareBtn = $(\\'.sticky-tools__share > button\\');\\n  var $shareIcons = $(\\'.sticky-tools__share__icons\\');\\n  var handleShareFadeOut = function() {\\n    $shareIcons.fadeOut();\\n    $shareBtn.removeClass(\\'active\\');\\n  };\\n  $shareBtn.click(function() {\\n    $shareIcons.fadeToggle();\\n    $shareBtn.toggleClass(\\'active\\');\\n  });\\n\\n  /**\\n   * ToC\\n   *\\n   */\\n  var $toc = $(\\'.sticky-tools__toc\\');\\n  var $tocBtn = $toc.find(\\'button\\');\\n  var $tocWrapper = $(\\'.toc-wrapper\\');\\n\\n  if (!$tocWrapper.find(\\'.toc\\')[0]) {\\n    $toc.remove();\\n    return;\\n  }\\n\\n  var handleToCFadeOut = function() {\\n    $tocWrapper.fadeOut();\\n    $tocBtn.removeClass(\\'active\\');\\n    $(\\'body\\').removeClass(\\'fixed\\');\\n    $w.off(\\'click\\');\\n  };\\n  // toggle toc\\n  $tocBtn.click(function() {\\n    if ($tocWrapper.css(\\'display\\') === \\'none\\') {\\n      $tocWrapper.fadeIn();\\n      $tocBtn.addClass(\\'active\\');\\n      $(\\'body\\').addClass(\\'fixed\\');\\n      handleShareFadeOut();\\n\\n      $w.click(function() {\\n        handleToCFadeOut();\\n      });\\n    } else {\\n      handleToCFadeOut();\\n    }\\n  });\\n  $toc.click(function(e) {\\n    e.stopPropagation();\\n  });\\n  // click toc\\'s link\\n  $(\\'.toc-link\\').click(function(e) {\\n    e.preventDefault();\\n\\n    var hash = $(this).attr(\\'href\\');\\n    var target = $(\\'.headerlink[href=\"\\' + hash + \\'\"]\\')[0];\\n\\n    Jump(target, {\\n      offset: $(\\'.mobile-header\\').height() * -1\\n    });\\n    window.location.hash = hash;\\n    handleToCFadeOut();\\n  });\\n\\n  /**\\n   * Back to Top\\n   *\\n   */\\n  var backToTopBtn = $(\\'.sticky-tools__btt button\\');\\n  backToTopBtn.click(function() {\\n    backToTopBtn.addClass(\\'active\\');\\n\\n    Jump(\\'body\\', {\\n      callback: function() {\\n        backToTopBtn.removeClass(\\'active\\');\\n      }\\n    });\\n  });\\n})()\\n</script>\\n\\n\\n        \\n          <div class=\"comments\">\\n            \\n              <div id=\"disqus_thread\">\\n                <noscript>Please enable JavaScript to view the <a href=\"//disqus.com/?ref_noscript\">comments powered by Disqus.</a></noscript>\\n              </div>\\n            \\n          </div>\\n        \\n      </div>\\n    </main>\\n    <footer class=\"footer\">\\n  <section class=\"footer--sidebar\">\\n    <span>© 2016 InitiumLab.</span>\\n  </section>\\n  <section class=\"footer--main\">\\n    <table class=\"footer--main__content\">\\n      <tbody>\\n        <tr>\\n          <td>\\n\\n<svg class=\"icon icon--mail\" viewBox=\"0 0 134 100\" xmlns=\"http://www.w3.org/2000/svg\">\\n  <use xlink:href=\"../../images/icons/svg-sprite.svg#mail\"></use>\\n</svg></td>\\n          <td>\\n            <a href=\"mailto:editors@initiumlab.com\" target=\"_blank\">\\n              <span>editors@initiumlab.com</span>\\n            </a>\\n          </td>\\n\\n        </tr>\\n        <tr>\\n          <td>\\n\\n<svg class=\"icon icon--map2\" viewBox=\"0 0 100 100\" xmlns=\"http://www.w3.org/2000/svg\">\\n  <use xlink:href=\"../../images/icons/svg-sprite.svg#map2\"></use>\\n</svg></td>\\n          <td>\\n            <a href=\"//www.google.com/maps/place/22%C2%B017\\'30.3%22N+114%C2%B012\\'30.9%22E\" target=\"_blank\">\\n              <span>香港北角英皇道 663 號泓富產業千禧廣場 1907 室</span>\\n            </a>\\n          </td>\\n        </tr>\\n      </tbody>\\n    </div>\\n  </section>\\n </footer>\\n\\n\\n    \\n\\n    \\n      \\n  <script type=\"text/javascript\">\\n    var disqus_shortname = \\'initium1ab\\';\\n    var disqus_identifier = \\'blog/20170329-trump-and-ivanka/\\';\\n    var disqus_title = \\'特朗普父女推特解密\\';\\n    var disqus_url = \\'http://initiumlab.com/blog/20170329-trump-and-ivanka/\\';\\n\\n    function run_disqus_script(disqus_script){\\n      var dsq = document.createElement(\\'script\\');\\n      var head = document.getElementsByTagName(\\'head\\')[0];\\n      var body = document.getElementsByTagName(\\'body\\')[0];\\n\\n      dsq.type = \\'text/javascript\\';\\n      dsq.async = true;\\n      dsq.src = \\'//\\' + disqus_shortname + \\'.disqus.com/\\' + disqus_script;\\n\\n      (head || body).appendChild(dsq);\\n    }\\n\\n    run_disqus_script(\\'count.js\\');\\n    \\n      run_disqus_script(\\'embed.js\\');\\n    \\n  </script>\\n\\n    \\n\\n    \\n    <script src=\"//cdnjs.cloudflare.com/ajax/libs/fastclick/1.0.6/fastclick.min.js\"></script>\\n    <script>\\n      $(function() {\\n        FastClick.attach(document.body);\\n      });\\n    </script>\\n\\n    \\n    <script src=\"//cdnjs.cloudflare.com/ajax/libs/jquery.qrcode/1.0/jquery.qrcode.min.js\"></script>\\n    <script type=\"text/javascript\" src=\"../../js/share.js?v=2.1.0\"></script>\\n\\n\\n    \\n<script>\\n  (function(i,s,o,g,r,a,m){i[\\'GoogleAnalyticsObject\\']=r;i[r]=i[r]||function(){\\n            (i[r].q=i[r].q||[]).push(arguments)},i[r].l=1*new Date();a=s.createElement(o),\\n          m=s.getElementsByTagName(o)[0];a.async=1;a.src=g;m.parentNode.insertBefore(a,m)\\n  })(window,document,\\'script\\',\\'//www.google-analytics.com/analytics.js\\',\\'ga\\');\\n  ga(\\'create\\', \\'UA-66625644-1\\', \\'auto\\');\\n  ga(\\'send\\', \\'pageview\\');\\n</script>\\n\\n    \\n  </body>\\n</html>\\n'"
      ]
     },
     "execution_count": 33,
     "metadata": {},
     "output_type": "execute_result"
    }
   ],
   "source": [
    "html_str"
   ]
  },
  {
   "cell_type": "code",
   "execution_count": 34,
   "metadata": {},
   "outputs": [],
   "source": [
    "data = BeautifulSoup(html_str,\"html.parser\")"
   ]
  },
  {
   "cell_type": "code",
   "execution_count": 35,
   "metadata": {},
   "outputs": [
    {
     "data": {
      "text/plain": [
       "<!DOCTYPE doctype html>\n",
       "\n",
       "<html>\n",
       "<head>\n",
       "<meta charset=\"utf-8\"/>\n",
       "<meta content=\"IE=edge,chrome=1\" http-equiv=\"X-UA-Compatible\"/>\n",
       "<meta content=\"width=device-width, initial-scale=1, maximum-scale=1\" name=\"viewport\"/>\n",
       "<meta content=\"no-transform\" http-equiv=\"Cache-Control\"/>\n",
       "<meta content=\"no-siteapp\" http-equiv=\"Cache-Control\"/>\n",
       "<meta content=\"data journalism,data analysis,data visualization,design,new media,technology,hackathon,Twitter,Trump,Ivanka,\" name=\"keywords\"/>\n",
       "<link href=\"../../feed.xml\" rel=\"alternate\" title=\"Initium Lab | Exploratory Arm of Initium Media\" type=\"application/atom+xml\"/>\n",
       "<link href=\"../../images/favicon.ico?v=2.1.0\" rel=\"shortcut icon\" type=\"image/x-icon\"/>\n",
       "<link href=\"../../images/favicon.png?v=2.1.0\" rel=\"icon\" type=\"image/png\"/>\n",
       "<meta content=\"美國新晉總統唐納德·特朗普（Donald Trump）以其極端言論在一眾政客裡獨領風騷。端Lab曾於2016年撰文分析特朗普與其競選對手希拉里·柯林頓（Hillary Clinton）面對媒體採訪時不同的言論風格，發現特朗普發言多用簡單句型，且善於用第二人稱敘事獲取觀眾共鳴。除去媒體採訪，推特發言亦是特朗普競選的宣傳的另一愨道。因此本文選取唐納德·特朗普（下簡稱特朗普）及其女兒伊萬卡·特朗普（下簡\" name=\"description\"/>\n",
       "<meta content=\"article\" property=\"og:type\"/>\n",
       "<meta content=\"特朗普父女推特解密\" property=\"og:title\"/>\n",
       "<meta content=\"http://initiumlab.com/blog/20170329-trump-and-ivanka/index.html\" property=\"og:url\"/>\n",
       "<meta content=\"Initium Lab | Exploratory Arm of Initium Media\" property=\"og:site_name\"/>\n",
       "<meta content=\"美國新晉總統唐納德·特朗普（Donald Trump）以其極端言論在一眾政客裡獨領風騷。端Lab曾於2016年撰文分析特朗普與其競選對手希拉里·柯林頓（Hillary Clinton）面對媒體採訪時不同的言論風格，發現特朗普發言多用簡單句型，且善於用第二人稱敘事獲取觀眾共鳴。除去媒體採訪，推特發言亦是特朗普競選的宣傳的另一愨道。因此本文選取唐納德·特朗普（下簡稱特朗普）及其女兒伊萬卡·特朗普（下簡\" property=\"og:description\"/>\n",
       "<meta content=\"http://initiumlab.com/blog/20170329-trump-and-ivanka/ivanka-tweets-by-time-and-device.svg\" property=\"og:image\"/>\n",
       "<meta content=\"2018-04-23T14:43:46.608Z\" property=\"og:updated_time\"/>\n",
       "<meta content=\"summary\" name=\"twitter:card\"/>\n",
       "<meta content=\"特朗普父女推特解密\" name=\"twitter:title\"/>\n",
       "<meta content=\"美國新晉總統唐納德·特朗普（Donald Trump）以其極端言論在一眾政客裡獨領風騷。端Lab曾於2016年撰文分析特朗普與其競選對手希拉里·柯林頓（Hillary Clinton）面對媒體採訪時不同的言論風格，發現特朗普發言多用簡單句型，且善於用第二人稱敘事獲取觀眾共鳴。除去媒體採訪，推特發言亦是特朗普競選的宣傳的另一愨道。因此本文選取唐納德·特朗普（下簡稱特朗普）及其女兒伊萬卡·特朗普（下簡\" name=\"twitter:description\"/>\n",
       "<meta content=\"http://initiumlab.com/blog/20170329-trump-and-ivanka/ivanka-tweets-by-time-and-device.svg\" name=\"twitter:image\"/>\n",
       "<meta content=\"@initiumnews\" name=\"twitter:creator\"/>\n",
       "<link href=\"../../css/main.css?v=2.1.0\" rel=\"stylesheet\" type=\"text/css\"/>\n",
       "<script src=\"//cdnjs.cloudflare.com/ajax/libs/jquery/3.1.0/jquery.min.js\"></script>\n",
       "<script src=\"../../vendors/libs.js?v=2.1.0\" type=\"text/javascript\"></script>\n",
       "<!-- Begin comScore Tag -->\n",
       "<script>\n",
       "  var _comscore = _comscore || [];\n",
       "  _comscore.push({ c1: \"2\", c2: \"20515846\" });\n",
       "  (function() { var s = document.createElement(\"script\"), el = document.getElementsByTagName(\"script\")[0];\n",
       "    s.async = true;\n",
       "    s.src = (document.location.protocol == \"https:\" ? \"https://sb\" : \"http://b\") + \".scorecardresearch.com/beacon.js\";\n",
       "    el.parentNode.insertBefore(s, el); }\n",
       "  )();\n",
       "</script>\n",
       "<noscript>\n",
       "<img src=\"http://b.scorecardresearch.com/p?c1=2&amp;c2=20515846&amp;cv=2.0&amp;cj=1\"/>\n",
       "</noscript>\n",
       "<!-- End comScore Tag -->\n",
       "<title> 特朗普父女推特解密 | Initium Lab | Exploratory Arm of Initium Media </title>\n",
       "</head>\n",
       "<body itemscope=\"\" itemtype=\"http://schema.org/WebPage\" lang=\"en\">\n",
       "<!--[if lte IE 9]>\n",
       "  <div style=' clear: both; height: 59px; padding:0 0 0 15px; position: relative;margin:0 auto;'>\n",
       "    <a href=\"http://windows.microsoft.com/en-US/internet-explorer/products/ie/home?ocid=ie6_countdown_bannercode\">\n",
       "      <img src=\"http://7u2nvr.com1.z0.glb.clouddn.com/picouterie.jpg\" border=\"0\" height=\"42\" width=\"820\"\n",
       "           alt=\"You are using an outdated browser. For a faster, safer browsing experience, upgrade for free today or use other browser ,like chrome firefox safari.\"\n",
       "           style='margin-left:auto;margin-right:auto;display: block;'/>\n",
       "    </a>\n",
       "  </div>\n",
       "<![endif]-->\n",
       "<aside class=\"sidebar animate\" itemscope=\"\" itemtype=\"http://schema.org/WPSideBar\">\n",
       "<a class=\"sidebar__logo\" href=\"../../\">\n",
       "<img alt=\"initiumlab logo\" src=\"../../images/logo.svg\"/>\n",
       "</a>\n",
       "<div class=\"sidebar__content\">\n",
       "<nav class=\"sidebar__nav\">\n",
       "<ul>\n",
       "<li class=\"sidebar__nav--home\">\n",
       "<a href=\"../../\">\n",
       "<span>首頁</span>\n",
       "</a>\n",
       "</li>\n",
       "<li class=\"sidebar__nav--blog\">\n",
       "<a class=\"active\" href=\"../../blog\">\n",
       "<span>文章</span>\n",
       "</a>\n",
       "</li>\n",
       "<li class=\"sidebar__nav--project\">\n",
       "<a href=\"../../projects\">\n",
       "<span>專題</span>\n",
       "</a>\n",
       "</li>\n",
       "<li class=\"sidebar__nav--event\">\n",
       "<a href=\"../../events\">\n",
       "<span>活動</span>\n",
       "</a>\n",
       "</li>\n",
       "<li class=\"sidebar__nav--career\">\n",
       "<a href=\"../../career\">\n",
       "<span>職位</span>\n",
       "</a>\n",
       "</li>\n",
       "<li class=\"sidebar__nav--about\">\n",
       "<a href=\"../../about\">\n",
       "<span>團隊</span>\n",
       "</a>\n",
       "</li>\n",
       "</ul>\n",
       "</nav>\n",
       "<section class=\"sidebar__social\">\n",
       "<a data-social=\"facebook\" href=\"//www.facebook.com/initiumlab\" target=\"_blank\">\n",
       "<svg class=\"icon icon--facebook\" viewbox=\"0 0 53 100\" xmlns=\"http://www.w3.org/2000/svg\">\n",
       "<use xlink:href=\"../../images/icons/svg-sprite.svg#facebook\"></use>\n",
       "</svg>\n",
       "</a>\n",
       "<a data-social=\"youtube\" href=\"//youtube.com/channel/UC6A8BFtKG3sRcExuOomA_tA\" target=\"_blank\">\n",
       "<svg class=\"icon icon--youtube\" viewbox=\"0 0 141 100\" xmlns=\"http://www.w3.org/2000/svg\">\n",
       "<use xlink:href=\"../../images/icons/svg-sprite.svg#youtube\"></use>\n",
       "</svg>\n",
       "</a>\n",
       "<a data-social=\"linkedin\" href=\"//www.linkedin.com/groups/7048631\" target=\"_blank\">\n",
       "<svg class=\"icon icon--linkedin\" viewbox=\"0 0 105 100\" xmlns=\"http://www.w3.org/2000/svg\">\n",
       "<use xlink:href=\"../../images/icons/svg-sprite.svg#linkedin\"></use>\n",
       "</svg>\n",
       "</a>\n",
       "<a data-social=\"rss\" href=\"../../feed.xml\" target=\"_blank\">\n",
       "<svg class=\"icon icon--rss\" viewbox=\"0 0 100 100\" xmlns=\"http://www.w3.org/2000/svg\">\n",
       "<use xlink:href=\"../../images/icons/svg-sprite.svg#rss\"></use>\n",
       "</svg>\n",
       "</a>\n",
       "</section>\n",
       "<section class=\"subscribe\">\n",
       "<button class=\"subscribe__btn subscribe__btn--popup\" type=\"button\">\n",
       "<span>訂閱</span>\n",
       "</button>\n",
       "<div class=\"subscribe__content\">\n",
       "<form class=\"subscribe__form\">\n",
       "<input name=\"EMAIL\" placeholder=\"* 郵箱\" required=\"\" type=\"email\"/>\n",
       "<input name=\"FNAME\" placeholder=\"名字\" type=\"text\"/>\n",
       "<input name=\"LNAME\" placeholder=\"姓氏\" type=\"text\"/>\n",
       "<button class=\"subscribe__btn subscribe__btn--submit animate\" disabled=\"\" type=\"submit\">提交</button>\n",
       "<div class=\"subscribe__msg\">\n",
       "<div class=\"subscribe__msg__content\">\n",
       "<section>\n",
       "<svg class=\"icon icon--spin\" viewbox=\"0 0 100 100\" xmlns=\"http://www.w3.org/2000/svg\">\n",
       "<use xlink:href=\"../../images/icons/svg-sprite.svg#spin\"></use>\n",
       "</svg>\n",
       "<svg class=\"icon icon--success\" viewbox=\"0 0 124 101\" xmlns=\"http://www.w3.org/2000/svg\">\n",
       "<use xlink:href=\"../../images/icons/svg-sprite.svg#success\"></use>\n",
       "</svg>\n",
       "<svg class=\"icon icon--error\" viewbox=\"0 0 100 100\" xmlns=\"http://www.w3.org/2000/svg\">\n",
       "<use xlink:href=\"../../images/icons/svg-sprite.svg#error\"></use>\n",
       "</svg>\n",
       "</section>\n",
       "<section><p data-msg=\"\"></p></section>\n",
       "</div>\n",
       "</div>\n",
       "</form>\n",
       "</div>\n",
       "<script>\n",
       "    ;(function() {\n",
       "      var $popupBtn = $('.subscribe__btn--popup');\n",
       "      var $content = $('.subscribe__content');\n",
       "      var $form = $('.subscribe__form');\n",
       "      var $submitBtn = $('.subscribe__btn--submit');\n",
       "      var $msgBox = $('.subscribe__msg');\n",
       "      var $msg = $msgBox.find('[data-msg]');\n",
       "      var $icons = $msgBox.find('.icon');\n",
       "\n",
       "      // Toggle Form\n",
       "      $popupBtn.click(function() {\n",
       "        $content.fadeIn();\n",
       "\n",
       "        $(window).click(function() {\n",
       "          $content.fadeOut();\n",
       "          $msgBox.fadeOut();\n",
       "          $(window).off('click');\n",
       "        });\n",
       "\n",
       "        ga('send', 'event', 'subscribe-button', 'click');\n",
       "      });\n",
       "      $('.subscribe__form, .subscribe__btn--popup').click(function(e) {\n",
       "        e.stopPropagation();\n",
       "      });\n",
       "\n",
       "      // Handle Form change\n",
       "      $form\n",
       "      .on('input', function() {\n",
       "        $submitBtn[0].disabled = !$form[0].checkValidity();\n",
       "      })\n",
       "      .on('submit', function(e) {\n",
       "        e.preventDefault();\n",
       "\n",
       "        // Init data\n",
       "        var request_data = {};\n",
       "        $.each($form.serializeArray(), function(index, item) {\n",
       "          request_data[item.name] = item.value;\n",
       "        });\n",
       "\n",
       "        // Post data\n",
       "        $msg.attr('data-msg', '');\n",
       "        $icons.hide().filter('.icon--spin').show();\n",
       "        $msgBox.fadeIn();\n",
       "\n",
       "        $.ajax({\n",
       "          url: '//initiumlab.us11.list-manage.com/subscribe/post-json?u=0af72d56ccd0f8ef2d17e12a2&id=64252e9209&c=?',\n",
       "          data: request_data,\n",
       "          dataType: 'jsonp'\n",
       "        })\n",
       "        .done(function(data) {\n",
       "          $icons.hide().filter('.icon--success').show();\n",
       "        })\n",
       "        .always(function(data) {\n",
       "          var msg = data.msg;\n",
       "\n",
       "          if (msg.match(/finished/i)) return;\n",
       "\n",
       "          $icons.hide().filter('.icon--error').show();\n",
       "          $msg.attr('data-msg', msg);\n",
       "        });\n",
       "      });\n",
       "    })()\n",
       "  </script>\n",
       "</section>\n",
       "</div>\n",
       "</aside>\n",
       "<script>\n",
       "  ;(function() {\n",
       "    var $w = $(window);\n",
       "    var $sidebar = $('.sidebar');\n",
       "    var $sidebarContent = $('.sidebar__content');\n",
       "    var yPositionToHide = $w.height();\n",
       "\n",
       "    if ($w.width() < 990) return;\n",
       "\n",
       "    $w\n",
       "    .on('scroll', function() {\n",
       "      if ($w.scrollTop() > yPositionToHide) {\n",
       "        toggleSidebar('hide');\n",
       "      } else {\n",
       "        toggleSidebar('show');\n",
       "      }\n",
       "    })\n",
       "    .on('resize', function() {\n",
       "      yPositionToHide = $w.height();\n",
       "    });\n",
       "\n",
       "    $sidebar.on('mouseover', function() {\n",
       "      if ($sidebarContent.css('display') === 'none') {\n",
       "        toggleSidebar('show');\n",
       "\n",
       "        $sidebar.on('mouseleave', function() {\n",
       "          toggleSidebar('hide');\n",
       "          $sidebar.off('mouseleave');\n",
       "        });\n",
       "      }\n",
       "    });\n",
       "\n",
       "    // GA\n",
       "    $('[data-social]').each(function() {\n",
       "      $(this).click(function() {\n",
       "        ga('send', 'event', 'social_button', 'click', this.getAttribute('data-social'));\n",
       "      });\n",
       "    });\n",
       "\n",
       "    function toggleSidebar(type) {\n",
       "      var isShow = type === 'show';\n",
       "\n",
       "      $sidebar[isShow ? 'removeClass' : 'addClass']('sidebar--fixed');\n",
       "      $sidebarContent[isShow ? 'fadeIn' : 'fadeOut']();\n",
       "    }\n",
       "  })()\n",
       "</script>\n",
       "<header class=\"mobile-header\">\n",
       "<button class=\"mobile-header__logo animate\" type=\"button\">\n",
       "<img alt=\"initiumlab logo\" src=\"../../images/logo.svg\"/>\n",
       "</button>\n",
       "</header>\n",
       "<script>\n",
       "  ;(function() {\n",
       "    var $mobileHeader = $('.mobile-header');\n",
       "    var $mobileLogo = $('.mobile-header__logo');\n",
       "    var $mobileNav = $('.sidebar');\n",
       "\n",
       "    $mobileLogo.click(function() {\n",
       "      $('body').toggleClass('fixed');\n",
       "      $mobileHeader.toggleClass('mobile-header--nav-open');\n",
       "      $mobileNav.toggleClass('sidebar--nav-open');\n",
       "    });\n",
       "  })()\n",
       "</script>\n",
       "<main class=\"main \">\n",
       "<div class=\"main__container\">\n",
       "<article class=\"post post--normal \" itemscope=\"\" itemtype=\"http://schema.org/Article\">\n",
       "<header>\n",
       "<h1 class=\"post__title\" itemprop=\"name headline\">\n",
       "          \n",
       "            \n",
       "              特朗普父女推特解密\n",
       "            \n",
       "          \n",
       "        </h1>\n",
       "<div class=\"post__meta\">\n",
       "<table>\n",
       "<tbody>\n",
       "<tr class=\"post__time\">\n",
       "<td>\n",
       "<svg class=\"icon icon--clock\" viewbox=\"0 0 100 100\" xmlns=\"http://www.w3.org/2000/svg\">\n",
       "<use xlink:href=\"../../images/icons/svg-sprite.svg#clock\"></use>\n",
       "</svg></td>\n",
       "<td>\n",
       "<time content=\"2017-03-29\" datetime=\"2017-03-29T18:00:00+08:00\" itemprop=\"dateCreated\">\n",
       "                  2017-03-29\n",
       "                </time>\n",
       "</td>\n",
       "</tr>\n",
       "<tr class=\"post__authors\">\n",
       "<td>\n",
       "<svg class=\"icon icon--pen\" viewbox=\"0 0 35 100\" xmlns=\"http://www.w3.org/2000/svg\">\n",
       "<use xlink:href=\"../../images/icons/svg-sprite.svg#pen\"></use>\n",
       "</svg></td>\n",
       "<td>\n",
       "<span>Li Yiming</span>\n",
       "<span>Li Yuqiong</span>\n",
       "</td>\n",
       "</tr>\n",
       "<tr class=\"post__tags\">\n",
       "<td>\n",
       "<svg class=\"icon icon--tag\" viewbox=\"0 0 69 100\" xmlns=\"http://www.w3.org/2000/svg\">\n",
       "<use xlink:href=\"../../images/icons/svg-sprite.svg#tag\"></use>\n",
       "</svg></td>\n",
       "<td>\n",
       "<span class=\"tag\">\n",
       "<a href=\"../../tags/Twitter/\">\n",
       "                      Twitter\n",
       "                      </a>\n",
       "</span>\n",
       "<span class=\"tag\">\n",
       "<a href=\"../../tags/Trump/\">\n",
       "                      Trump\n",
       "                      </a>\n",
       "</span>\n",
       "<span class=\"tag\">\n",
       "<a href=\"../../tags/Ivanka/\">\n",
       "                      Ivanka\n",
       "                      </a>\n",
       "</span>\n",
       "</td>\n",
       "</tr>\n",
       "</tbody>\n",
       "</table>\n",
       "</div>\n",
       "</header>\n",
       "<div class=\"post__body\" itemprop=\"articleBody\">\n",
       "<p>美國新晉總統唐納德·特朗普（Donald Trump）以其極端言論在一眾政客裡獨領風騷。<a href=\"http://initiumlab.com/\">端Lab</a>曾於2016年<a href=\"http://initiumlab.com/blog/20160704-trump-hillary-language/\">撰文分析</a>特朗普與其競選對手希拉里·柯林頓（Hillary Clinton）面對媒體採訪時不同的言論風格，發現特朗普發言多用簡單句型，且善於用第二人稱敘事獲取觀眾共鳴。</p>\n",
       "<p>除去媒體採訪，推特發言亦是特朗普競選的宣傳的另一愨道。因此本文選取唐納德·特朗普（下簡稱特朗普）及其女兒伊萬卡·特朗普（下簡稱伊萬卡）的推特數據作為樣本，利用文本信息挖掘方法（text mining methods），來分析他們在社交網絡上展示的話語特點。</p>\n",
       "<h2 id=\"話癆特朗普\"><a class=\"headerlink\" href=\"#話癆特朗普\" title=\"話癆特朗普\"></a>話癆特朗普</h2><p>從發推文總數量來看，特朗普遠勝其女伊萬卡。2009到2016年，特朗普發布推文總數量三萬餘條，平均每天十條。而其女伊萬卡發文總量為一萬一千餘條，平均每天三條。二人皆疑似推特深度用戶。</p>\n",
       "<p>下圖顯示，特朗普推文数量從2011年起開始狂飆突進，並於2013年和2015年分別達到峰值。而伊萬卡的發文風格則更加穩健，只是在2016年時有所增加，可能是為特朗普競選造勢之故？</p>\n",
       "<p><img alt=\"\" src=\"trump-ivanka-number-of-tweets-by-time.svg\"/></p>\n",
       "<h2 id=\"特朗普家族最喜愛的推特發佈平台\"><a class=\"headerlink\" href=\"#特朗普家族最喜愛的推特發佈平台\" title=\"特朗普家族最喜愛的推特發佈平台\"></a>特朗普家族最喜愛的推特發佈平台</h2><p>特朗普與伊萬卡身為上流社會人士，當然不能滿足於用單一平台發布推文。</p>\n",
       "<p>下表展示了特朗普父女較常使用的推特客戶端。他們在這些客戶端上發布的推文條數大於100。可以看出特朗普鍾愛安卓和網頁客戶端，而伊萬卡口味更加多元，除去推特網頁客戶端之外，更勇於嘗試 Buffer， Instagram， Sprout，BlackBerry，UberSocial 等各種較新的平台。她似乎並不鍾愛安卓手機。</p>\n",
       "<p>加入發文時間後，我們的分析發現，特朗普最初多使用网页推特发布消息，於2013年左右開始使用安卓手機系統客戶端發推特。2016左右，設備鳥槍換炮，用起了高大上的蘋果iOS系統客戶端。相比之下，伊萬卡發文的平台有較強階段性。2010年左右她與其父一樣是推特網頁版的忠實用戶，2011到2012年間還使用了其他設備和平台，如 Uber， BlackBerry等。2012年後她似乎開始喜愛上Instagram和iPhone平台。有意思的是，2015年她突然開始頻繁使用Buffer這款軟件，2016年則移情Sprout。這兩款均為社交網站管理平台，可以同時連結並管理Facebook、Twitter、Instagram等帳戶。從圖上來看，使用Buffer的時間段和Sprout的時間段並無交接，因此伊萬卡女士似乎更鍾意Sprout的用戶體驗。</p>\n",
       "<p><img alt=\"\" src=\"ivanka-tweets-by-time-and-device.svg\"/></p>\n",
       "<h2 id=\"詞彙偏好\"><a class=\"headerlink\" href=\"#詞彙偏好\" title=\"詞彙偏好\"></a>詞彙偏好</h2><p>下圖列出不同詞彙在特朗普和伊萬卡的推特中分別出現的比例。可以發現，兩人共同姓氏「trump」，以及一些常用詞「tonight」，「world」，「win」， 「forward」在雙方微博中出現的比例均較高。</p>\n",
       "<p>同時，和上文發現類似的是，伊萬卡常用詞更偏向時尚、商業和生活，例如「advice」，「shops」，「chic」，「founder」，「intern」 等等。而特朗普有更多和政治、政策以及競選相關的詞彙，如「senator」，「endorsement」，「broken」，「complete」等。最能體現這一區別的一個例子是，伊萬卡大量使用了「tips」這一詞彙，儼然一位人生導師。而特朗普則大量使用了「Obama」，和他總統競選人的身份相符。</p>\n",
       "<p><img alt=\"\" src=\"top-distinctive-words.svg\"/></p>\n",
       "<h2 id=\"父女口癖變遷史\"><a class=\"headerlink\" href=\"#父女口癖變遷史\" title=\"父女口癖變遷史\"></a>父女口癖變遷史</h2><p>下圖列出09年到16年之間，Trump 的 tweets 中常用詞彙的變化。09年到12年間，「Apprentice」頻繁出現在 Trump 的 tweets 中。這緣於一部真人職場秀<a href=\"https://en.wikipedia.org/wiki/The_Apprentice_%28U.S._TV_series%29\" rel=\"external\" target=\"_blank\">The Apprentice</a>，求職者在節目中分成兩組比賽，並在每一集中從輸的隊伍中淘汰一名貢獻最小的成員。節目最後的優勝者，有機會去經營Trump旗下的一個公司。在這個節目中，Trump做了14季的Host；決定參選總統後，他辭去了這個職位。當Trump獲勝的時候，人們驚呼其在 Twitter 上強大的影響力。可是回過去看，Trump 在利用媒體方面的技能，確實勝過世界上的很多領導者 – 從「TV Show 億萬富豪」到「Twitter 治國總統」，似乎並不意外。</p>\n",
       "<p><img alt=\"\" src=\"top-8-trending-words-trump.svg\"/></p>\n",
       "<p>上文提到，「Tips」是 Ivanka 的口頭禪之一。細看其中內容，除了大量轉推的經驗分享，大多還添加了特定的 Twitter 標籤，（hashtag）比如「#interntips」、「#healthtips」等等。而另一方面，「trump」的提及卻越來越少，在總統競選期間降到最低；同一時期「Tips」出現最爲頻繁。09年到14年間，Ivanka 的 tweets 中大量出現「trump」，大多與 Trump 家族的產業有關，比如 「@trumpgolf」、「#trumptower」、「@trumpwinery」、「#trumphotels」、…… 這些 Twitter 帳號和 hashtag 之間，大量互動和互聯，都吸引了不少粉絲。看罷數據，不得不感嘆， Ivanka 在運營 Twitter 方面的技能，與專業團隊無異。如果說15年前 Ivanka 的運作手法是「硬廣」，那麼從15年中旬開始，放棄「trump」、轉推「tips」、搖身一變人生導師，則更是技高一籌。</p>\n",
       "<p><img alt=\"\" src=\"top-3-trending-words-trump.svg\"/></p>\n",
       "<h2 id=\"最易引發「轉發」和「喜歡」的詞彙\"><a class=\"headerlink\" href=\"#最易引發「轉發」和「喜歡」的詞彙\" title=\"最易引發「轉發」和「喜歡」的詞彙\"></a>最易引發「轉發」和「喜歡」的詞彙</h2><p>「轉發」和「喜歡」均為發布者和關注者的某種互動形式。因此，通過分析獲得更多「轉發」和「喜歡」的推特詞彙特點，既可以分析出發布者的心態，也可以分析出關注群體對特定內容的偏好。紐約時報2011年一項針對社交媒體的調查發現，用戶在社交媒體上分享信息主要有五種情況：分享娛樂性消息、自我包裝和認同、增強社交關係、進行對話，以及推廣新聞、產品信息等【注2】。</p>\n",
       "<p>下圖展示了在特朗普和伊萬卡的推特數據裡，哪些詞彙容易引發更多轉發。特朗普的推特詞彙中，獲取轉發數最高的為「hamilton」，「praying」和「wikileaks」。而伊萬卡的則為「policy」，「family」，「theodore」。這些詞彙個人性較弱，更類似對特定消息的推廣，符合二人公眾人物的身分。</p>\n",
       "<p>「Hamilton」的高出鏡率可能因為如下這條推特 -</p>\n",
       "<blockquote>\n",
       "<p>Donald J. Trump  ✔@realDonaldTrump<br/>The Theater must always be a safe and special place.The cast of Hamilton was very rude last &gt; night to a very good man, Mike Pence. Apologize!<br/>9:56 PM - 19 Nov 2016<br/>43,592 43,592 Retweets   149,734 149,734 likes</p>\n",
       "</blockquote>\n",
       "<p>在這條發布與2016年11月19日，獲得四萬三千多條轉發的推文中，特朗普指責音樂劇 「Hamilton」的劇組對副總統 Mike Pence 進行騷擾。Mike Pence 之前觀賞了該音樂劇。表演結束後，劇組成員當眾向他表達了對新當選政府的不信任，和對未來的期待。這一舉動似乎激怒了特朗普，他在推特上發文要求劇組向副總統道歉。</p>\n",
       "<p>詞彙「praying」的信息量較少。「wikileaks」可能與特朗普競選時多次強調該網站揭露的希拉里郵件醜聞有關。可以想像，含有類似內容的推特因為具有新聞性，較易引發交流，從而引起轉發和討論。</p>\n",
       "<p>關於伊萬卡的推特分析，「theodore」是她新出生兒子的名字，這也和「family」獲得較高轉發量相吻合。另一方面，這可能反映出美國文化對家庭價值的重視。與上文類似，包含詞彙「policy」的推特，可能因為其新聞性和內容性而獲得較高轉發。</p>\n",
       "<p><img alt=\"\" src=\"top-10-words-for-retweet.svg\"/></p>\n",
       "<h2 id=\"最易引發「喜歡」的詞彙\"><a class=\"headerlink\" href=\"#最易引發「喜歡」的詞彙\" title=\"最易引發「喜歡」的詞彙\"></a>最易引發「喜歡」的詞彙</h2><p>關於社交媒體上用戶「喜歡」某條推特，或者「點贊」的行為，來自社交媒體管理網站Buffer（伊萬卡之前最愛）分析認為，點贊的行為動機可分為四種：類似線下交流時點頭等打招呼的行為，對自己認同的某些價值再度肯定，表達同情，以及獲取現實回報（如餐廳打折等）。分析特朗普和伊萬卡獲取「點贊」數最多的推特詞彙可以發現，兩人的前三名大致與獲取轉發數較高的推特相同。唯一區別在於特朗普發布的「electoral」詞彙亦獲得較多喜歡。這可能是支持者表達鼓勵的行為反映。</p>\n",
       "<p><img alt=\"\" src=\"top-10-words-for-favourite.svg\"/></p>\n",
       "<hr/>\n",
       "<p>註釋：</p>\n",
       "<ul>\n",
       "<li>本文所用原始數據及代碼見GitHub： <a href=\"https://github.com/kestrel614/HKODD17-Trump\" rel=\"external\" target=\"_blank\">https://github.com/kestrel614/HKODD17-Trump</a></li>\n",
       "<li>本文使用主要文本分析工具是R，部分分析方法參考網站 <a href=\"http://tidytextmining.com/\" rel=\"external\" target=\"_blank\">http://tidytextmining.com/</a> 。</li>\n",
       "<li>注【2】：<a href=\"http://text-ex-machina.co.uk/blog/new-york-times-study.html\" rel=\"external\" target=\"_blank\">http://text-ex-machina.co.uk/blog/new-york-times-study.html</a></li>\n",
       "<li>注【3】：<a href=\"https://blog.bufferapp.com/psychology-of-facebook\" rel=\"external\" target=\"_blank\">https://blog.bufferapp.com/psychology-of-facebook</a></li>\n",
       "</ul>\n",
       "</div>\n",
       "</article>\n",
       "<div class=\"share\">\n",
       "<div class=\"share__icons\">\n",
       "<svg class=\"icon icon--share\" viewbox=\"0 0 93 101\" xmlns=\"http://www.w3.org/2000/svg\">\n",
       "<use xlink:href=\"../../images/icons/svg-sprite.svg#share\"></use>\n",
       "</svg>\n",
       "<button data-share=\"facebook\" type=\"button\">\n",
       "<svg class=\"icon icon--facebook\" viewbox=\"0 0 53 100\" xmlns=\"http://www.w3.org/2000/svg\">\n",
       "<use xlink:href=\"../../images/icons/svg-sprite.svg#facebook\"></use>\n",
       "</svg>\n",
       "</button>\n",
       "<button data-share=\"twitter\" type=\"button\">\n",
       "<svg class=\"icon icon--twitter\" viewbox=\"0 0 127 100\" xmlns=\"http://www.w3.org/2000/svg\">\n",
       "<use xlink:href=\"../../images/icons/svg-sprite.svg#twitter\"></use>\n",
       "</svg>\n",
       "</button>\n",
       "<button data-share=\"wechat\" type=\"button\">\n",
       "<svg class=\"icon icon--wechat\" viewbox=\"0 0 127 100\" xmlns=\"http://www.w3.org/2000/svg\">\n",
       "<use xlink:href=\"../../images/icons/svg-sprite.svg#wechat\"></use>\n",
       "</svg>\n",
       "<span class=\"wechat_share_qrcode\"></span>\n",
       "</button>\n",
       "<button data-share=\"weibo\" type=\"button\">\n",
       "<svg class=\"icon icon--weibo\" viewbox=\"0 0 123 99\" xmlns=\"http://www.w3.org/2000/svg\">\n",
       "<use xlink:href=\"../../images/icons/svg-sprite.svg#weibo\"></use>\n",
       "</svg>\n",
       "</button>\n",
       "</div>\n",
       "<div id=\"fb-root\"></div>\n",
       "<script>(function(d, s, id) {\n",
       "    var js, fjs = d.getElementsByTagName(s)[0];\n",
       "    if (d.getElementById(id)) return;\n",
       "    js = d.createElement(s); js.id = id;\n",
       "    js.src = \"//connect.facebook.net/zh_HK/sdk.js#xfbml=1&version=v2.7\";\n",
       "    fjs.parentNode.insertBefore(js, fjs);\n",
       "  }(document, 'script', 'facebook-jssdk'));</script>\n",
       "<style>\n",
       "    .fb-like {\n",
       "      position: absolute;\n",
       "      right: 0;\n",
       "      bottom: 0;\n",
       "    }\n",
       "  </style>\n",
       "<div class=\"fb-like\" data-action=\"like\" data-colorscheme=\"dark\" data-href=\"http://initiumlab.com/blog/20170329-trump-and-ivanka/\" data-layout=\"box_count\" data-share=\"false\" data-show-faces=\"false\" data-size=\"large\"></div>\n",
       "</div>\n",
       "<div class=\"cc\" style=\"font-size: 12px; color: #838383;\">\n",
       "<a href=\"http://creativecommons.org/licenses/by/4.0/\" rel=\"license\"><img alt=\"知识共享许可协议\" src=\"https://i.creativecommons.org/l/by/4.0/80x15.png\" style=\"border-width:0; margin: 0;\"/></a><br>本作品采用<a href=\"http://creativecommons.org/licenses/by/4.0/\" rel=\"license\">知识共享署名 4.0 国际许可协议</a>进行许可。\n",
       "</br></div>\n",
       "<div class=\"sticky-tools\">\n",
       "<section class=\"sticky-tools__toc\">\n",
       "<button type=\"button\">\n",
       "<svg class=\"icon icon--list\" viewbox=\"0 0 100 100\" xmlns=\"http://www.w3.org/2000/svg\">\n",
       "<use xlink:href=\"../../images/icons/svg-sprite.svg#list\"></use>\n",
       "</svg>\n",
       "</button>\n",
       "<div class=\"toc-wrapper\">\n",
       "<h3>目錄</h3>\n",
       "<ol class=\"toc\"><li class=\"toc-item toc-level-2\"><a class=\"toc-link\" href=\"#話癆特朗普\"><span class=\"toc-number\">1.</span> <span class=\"toc-text\">話癆特朗普</span></a></li><li class=\"toc-item toc-level-2\"><a class=\"toc-link\" href=\"#特朗普家族最喜愛的推特發佈平台\"><span class=\"toc-number\">2.</span> <span class=\"toc-text\">特朗普家族最喜愛的推特發佈平台</span></a></li><li class=\"toc-item toc-level-2\"><a class=\"toc-link\" href=\"#詞彙偏好\"><span class=\"toc-number\">3.</span> <span class=\"toc-text\">詞彙偏好</span></a></li><li class=\"toc-item toc-level-2\"><a class=\"toc-link\" href=\"#父女口癖變遷史\"><span class=\"toc-number\">4.</span> <span class=\"toc-text\">父女口癖變遷史</span></a></li><li class=\"toc-item toc-level-2\"><a class=\"toc-link\" href=\"#最易引發「轉發」和「喜歡」的詞彙\"><span class=\"toc-number\">5.</span> <span class=\"toc-text\">最易引發「轉發」和「喜歡」的詞彙</span></a></li><li class=\"toc-item toc-level-2\"><a class=\"toc-link\" href=\"#最易引發「喜歡」的詞彙\"><span class=\"toc-number\">6.</span> <span class=\"toc-text\">最易引發「喜歡」的詞彙</span></a></li></ol>\n",
       "</div>\n",
       "</section>\n",
       "<section class=\"sticky-tools__share\">\n",
       "<button type=\"button\">\n",
       "<svg class=\"icon icon--share\" viewbox=\"0 0 93 101\" xmlns=\"http://www.w3.org/2000/svg\">\n",
       "<use xlink:href=\"../../images/icons/svg-sprite.svg#share\"></use>\n",
       "</svg>\n",
       "</button>\n",
       "<div class=\"sticky-tools__share__icons\">\n",
       "<button data-share=\"facebook\" type=\"button\">\n",
       "<svg class=\"icon icon--facebook\" viewbox=\"0 0 53 100\" xmlns=\"http://www.w3.org/2000/svg\">\n",
       "<use xlink:href=\"../../images/icons/svg-sprite.svg#facebook\"></use>\n",
       "</svg>\n",
       "</button>\n",
       "<button data-share=\"twitter\" type=\"button\">\n",
       "<svg class=\"icon icon--twitter\" viewbox=\"0 0 127 100\" xmlns=\"http://www.w3.org/2000/svg\">\n",
       "<use xlink:href=\"../../images/icons/svg-sprite.svg#twitter\"></use>\n",
       "</svg>\n",
       "</button>\n",
       "<button data-share=\"wechat\" type=\"button\">\n",
       "<svg class=\"icon icon--wechat\" viewbox=\"0 0 127 100\" xmlns=\"http://www.w3.org/2000/svg\">\n",
       "<use xlink:href=\"../../images/icons/svg-sprite.svg#wechat\"></use>\n",
       "</svg>\n",
       "<span class=\"wechat_share_qrcode\"></span>\n",
       "</button>\n",
       "<button data-share=\"weibo\" type=\"button\">\n",
       "<svg class=\"icon icon--weibo\" viewbox=\"0 0 123 99\" xmlns=\"http://www.w3.org/2000/svg\">\n",
       "<use xlink:href=\"../../images/icons/svg-sprite.svg#weibo\"></use>\n",
       "</svg>\n",
       "</button>\n",
       "</div>\n",
       "</section>\n",
       "<section class=\"sticky-tools__btt\">\n",
       "<button type=\"button\">\n",
       "<svg class=\"icon icon--chevron-top\" viewbox=\"0 0 159 100\" xmlns=\"http://www.w3.org/2000/svg\">\n",
       "<use xlink:href=\"../../images/icons/svg-sprite.svg#chevron-top\"></use>\n",
       "</svg>\n",
       "</button>\n",
       "</section>\n",
       "</div>\n",
       "<script>\n",
       ";(function() {\n",
       "  var $w = $(window);\n",
       "\n",
       "  ;(function() {\n",
       "    var $tools = $('.sticky-tools');\n",
       "    var yPositionToShow = $w.height();\n",
       "\n",
       "    if ($w.width() < 990) return;\n",
       "\n",
       "    $w\n",
       "    .on('scroll', function() {\n",
       "      if ($w.scrollTop() > yPositionToShow && !$('footer').visible(true)) {\n",
       "        $tools.fadeIn();\n",
       "      } else {\n",
       "        $tools.fadeOut();\n",
       "      }\n",
       "    })\n",
       "    .on('resize', function() {\n",
       "      yPositionToShow = $w.height();\n",
       "    });\n",
       "  })()\n",
       "  /**\n",
       "   * Share\n",
       "   *\n",
       "   */\n",
       "  var $shareBtn = $('.sticky-tools__share > button');\n",
       "  var $shareIcons = $('.sticky-tools__share__icons');\n",
       "  var handleShareFadeOut = function() {\n",
       "    $shareIcons.fadeOut();\n",
       "    $shareBtn.removeClass('active');\n",
       "  };\n",
       "  $shareBtn.click(function() {\n",
       "    $shareIcons.fadeToggle();\n",
       "    $shareBtn.toggleClass('active');\n",
       "  });\n",
       "\n",
       "  /**\n",
       "   * ToC\n",
       "   *\n",
       "   */\n",
       "  var $toc = $('.sticky-tools__toc');\n",
       "  var $tocBtn = $toc.find('button');\n",
       "  var $tocWrapper = $('.toc-wrapper');\n",
       "\n",
       "  if (!$tocWrapper.find('.toc')[0]) {\n",
       "    $toc.remove();\n",
       "    return;\n",
       "  }\n",
       "\n",
       "  var handleToCFadeOut = function() {\n",
       "    $tocWrapper.fadeOut();\n",
       "    $tocBtn.removeClass('active');\n",
       "    $('body').removeClass('fixed');\n",
       "    $w.off('click');\n",
       "  };\n",
       "  // toggle toc\n",
       "  $tocBtn.click(function() {\n",
       "    if ($tocWrapper.css('display') === 'none') {\n",
       "      $tocWrapper.fadeIn();\n",
       "      $tocBtn.addClass('active');\n",
       "      $('body').addClass('fixed');\n",
       "      handleShareFadeOut();\n",
       "\n",
       "      $w.click(function() {\n",
       "        handleToCFadeOut();\n",
       "      });\n",
       "    } else {\n",
       "      handleToCFadeOut();\n",
       "    }\n",
       "  });\n",
       "  $toc.click(function(e) {\n",
       "    e.stopPropagation();\n",
       "  });\n",
       "  // click toc's link\n",
       "  $('.toc-link').click(function(e) {\n",
       "    e.preventDefault();\n",
       "\n",
       "    var hash = $(this).attr('href');\n",
       "    var target = $('.headerlink[href=\"' + hash + '\"]')[0];\n",
       "\n",
       "    Jump(target, {\n",
       "      offset: $('.mobile-header').height() * -1\n",
       "    });\n",
       "    window.location.hash = hash;\n",
       "    handleToCFadeOut();\n",
       "  });\n",
       "\n",
       "  /**\n",
       "   * Back to Top\n",
       "   *\n",
       "   */\n",
       "  var backToTopBtn = $('.sticky-tools__btt button');\n",
       "  backToTopBtn.click(function() {\n",
       "    backToTopBtn.addClass('active');\n",
       "\n",
       "    Jump('body', {\n",
       "      callback: function() {\n",
       "        backToTopBtn.removeClass('active');\n",
       "      }\n",
       "    });\n",
       "  });\n",
       "})()\n",
       "</script>\n",
       "<div class=\"comments\">\n",
       "<div id=\"disqus_thread\">\n",
       "<noscript>Please enable JavaScript to view the <a href=\"//disqus.com/?ref_noscript\">comments powered by Disqus.</a></noscript>\n",
       "</div>\n",
       "</div>\n",
       "</div>\n",
       "</main>\n",
       "<footer class=\"footer\">\n",
       "<section class=\"footer--sidebar\">\n",
       "<span>© 2016 InitiumLab.</span>\n",
       "</section>\n",
       "<section class=\"footer--main\">\n",
       "<table class=\"footer--main__content\">\n",
       "<tbody>\n",
       "<tr>\n",
       "<td>\n",
       "<svg class=\"icon icon--mail\" viewbox=\"0 0 134 100\" xmlns=\"http://www.w3.org/2000/svg\">\n",
       "<use xlink:href=\"../../images/icons/svg-sprite.svg#mail\"></use>\n",
       "</svg></td>\n",
       "<td>\n",
       "<a href=\"mailto:editors@initiumlab.com\" target=\"_blank\">\n",
       "<span>editors@initiumlab.com</span>\n",
       "</a>\n",
       "</td>\n",
       "</tr>\n",
       "<tr>\n",
       "<td>\n",
       "<svg class=\"icon icon--map2\" viewbox=\"0 0 100 100\" xmlns=\"http://www.w3.org/2000/svg\">\n",
       "<use xlink:href=\"../../images/icons/svg-sprite.svg#map2\"></use>\n",
       "</svg></td>\n",
       "<td>\n",
       "<a href=\"//www.google.com/maps/place/22%C2%B017'30.3%22N+114%C2%B012'30.9%22E\" target=\"_blank\">\n",
       "<span>香港北角英皇道 663 號泓富產業千禧廣場 1907 室</span>\n",
       "</a>\n",
       "</td>\n",
       "</tr>\n",
       "</tbody>\n",
       "</table></section></footer></body></html>\n",
       "\n",
       "\n",
       "<script type=\"text/javascript\">\n",
       "    var disqus_shortname = 'initium1ab';\n",
       "    var disqus_identifier = 'blog/20170329-trump-and-ivanka/';\n",
       "    var disqus_title = '特朗普父女推特解密';\n",
       "    var disqus_url = 'http://initiumlab.com/blog/20170329-trump-and-ivanka/';\n",
       "\n",
       "    function run_disqus_script(disqus_script){\n",
       "      var dsq = document.createElement('script');\n",
       "      var head = document.getElementsByTagName('head')[0];\n",
       "      var body = document.getElementsByTagName('body')[0];\n",
       "\n",
       "      dsq.type = 'text/javascript';\n",
       "      dsq.async = true;\n",
       "      dsq.src = '//' + disqus_shortname + '.disqus.com/' + disqus_script;\n",
       "\n",
       "      (head || body).appendChild(dsq);\n",
       "    }\n",
       "\n",
       "    run_disqus_script('count.js');\n",
       "    \n",
       "      run_disqus_script('embed.js');\n",
       "    \n",
       "  </script>\n",
       "<script src=\"//cdnjs.cloudflare.com/ajax/libs/fastclick/1.0.6/fastclick.min.js\"></script>\n",
       "<script>\n",
       "      $(function() {\n",
       "        FastClick.attach(document.body);\n",
       "      });\n",
       "    </script>\n",
       "<script src=\"//cdnjs.cloudflare.com/ajax/libs/jquery.qrcode/1.0/jquery.qrcode.min.js\"></script>\n",
       "<script src=\"../../js/share.js?v=2.1.0\" type=\"text/javascript\"></script>\n",
       "<script>\n",
       "  (function(i,s,o,g,r,a,m){i['GoogleAnalyticsObject']=r;i[r]=i[r]||function(){\n",
       "            (i[r].q=i[r].q||[]).push(arguments)},i[r].l=1*new Date();a=s.createElement(o),\n",
       "          m=s.getElementsByTagName(o)[0];a.async=1;a.src=g;m.parentNode.insertBefore(a,m)\n",
       "  })(window,document,'script','//www.google-analytics.com/analytics.js','ga');\n",
       "  ga('create', 'UA-66625644-1', 'auto');\n",
       "  ga('send', 'pageview');\n",
       "</script>\n",
       "\n"
      ]
     },
     "execution_count": 35,
     "metadata": {},
     "output_type": "execute_result"
    }
   ],
   "source": [
    "data"
   ]
  },
  {
   "cell_type": "code",
   "execution_count": 36,
   "metadata": {},
   "outputs": [],
   "source": [
    "html_doc = \"\"\"\n",
    "<html><head><title>The Dormouse's story</title></head>\n",
    "<body>\n",
    "<p class=\"title\"><b>The Dormouse's story</b></p>\n",
    "\n",
    "<p class=\"story\">Once upon a time there were three little sisters; and their names were\n",
    "<a href=\"http://example.com/elsie\" class=\"sister\" id=\"link1\">Elsie</a>,\n",
    "<a href=\"http://example.com/lacie\" class=\"sister\" id=\"link2\">Lacie</a> and\n",
    "<a href=\"http://example.com/tillie\" class=\"sister\" id=\"link3\">Tillie</a>;\n",
    "and they lived at the bottom of a well.</p>\n",
    "\n",
    "<p class=\"story\">...</p>\n",
    "\"\"\"\n"
   ]
  },
  {
   "cell_type": "code",
   "execution_count": 37,
   "metadata": {},
   "outputs": [],
   "source": [
    "soup = BeautifulSoup(html_doc,'html.parser')"
   ]
  },
  {
   "cell_type": "code",
   "execution_count": 38,
   "metadata": {},
   "outputs": [],
   "source": [
    "my_a = soup.find('a')"
   ]
  },
  {
   "cell_type": "code",
   "execution_count": 39,
   "metadata": {},
   "outputs": [
    {
     "data": {
      "text/plain": [
       "<a class=\"sister\" href=\"http://example.com/elsie\" id=\"link1\">Elsie</a>"
      ]
     },
     "execution_count": 39,
     "metadata": {},
     "output_type": "execute_result"
    }
   ],
   "source": [
    "my_a"
   ]
  },
  {
   "cell_type": "code",
   "execution_count": 40,
   "metadata": {},
   "outputs": [],
   "source": [
    "my_a = soup.find_all('a')"
   ]
  },
  {
   "cell_type": "code",
   "execution_count": 41,
   "metadata": {},
   "outputs": [
    {
     "data": {
      "text/plain": [
       "[<a class=\"sister\" href=\"http://example.com/elsie\" id=\"link1\">Elsie</a>,\n",
       " <a class=\"sister\" href=\"http://example.com/lacie\" id=\"link2\">Lacie</a>,\n",
       " <a class=\"sister\" href=\"http://example.com/tillie\" id=\"link3\">Tillie</a>]"
      ]
     },
     "execution_count": 41,
     "metadata": {},
     "output_type": "execute_result"
    }
   ],
   "source": [
    "my_a"
   ]
  },
  {
   "cell_type": "code",
   "execution_count": 44,
   "metadata": {},
   "outputs": [],
   "source": [
    "my_a = soup.find('a',attrs = {'class' : 'sister'})"
   ]
  },
  {
   "cell_type": "code",
   "execution_count": 45,
   "metadata": {},
   "outputs": [
    {
     "data": {
      "text/plain": [
       "<a class=\"sister\" href=\"http://example.com/elsie\" id=\"link1\">Elsie</a>"
      ]
     },
     "execution_count": 45,
     "metadata": {},
     "output_type": "execute_result"
    }
   ],
   "source": [
    "my_a"
   ]
  },
  {
   "cell_type": "code",
   "execution_count": 48,
   "metadata": {},
   "outputs": [],
   "source": [
    "my_a = soup.find_all('a',attrs = {'id' : 'link2'})"
   ]
  },
  {
   "cell_type": "code",
   "execution_count": 49,
   "metadata": {},
   "outputs": [
    {
     "data": {
      "text/plain": [
       "[<a class=\"sister\" href=\"http://example.com/lacie\" id=\"link2\">Lacie</a>]"
      ]
     },
     "execution_count": 49,
     "metadata": {},
     "output_type": "execute_result"
    }
   ],
   "source": [
    "my_a"
   ]
  },
  {
   "cell_type": "code",
   "execution_count": 50,
   "metadata": {},
   "outputs": [
    {
     "name": "stdout",
     "output_type": "stream",
     "text": [
      "Collecting csv\n",
      "\u001b[31m  Could not find a version that satisfies the requirement csv (from versions: )\u001b[0m\n",
      "\u001b[31mNo matching distribution found for csv\u001b[0m\n"
     ]
    }
   ],
   "source": [
    "!pip install csv"
   ]
  },
  {
   "cell_type": "code",
   "execution_count": 51,
   "metadata": {},
   "outputs": [],
   "source": [
    "import csv"
   ]
  },
  {
   "cell_type": "code",
   "execution_count": 52,
   "metadata": {},
   "outputs": [],
   "source": [
    "import requests\n",
    "import csv\n",
    "from bs4 import BeautifulSoup"
   ]
  },
  {
   "cell_type": "code",
   "execution_count": 53,
   "metadata": {},
   "outputs": [],
   "source": [
    "r = requests.get('https://initiumlab.com/blog/20170329-trump-and-ivanka/')\n",
    "html_str = r.text\n",
    "data = BeautifulSoup(html_str,\"html.parser\")\n",
    "                 "
   ]
  },
  {
   "cell_type": "code",
   "execution_count": 54,
   "metadata": {},
   "outputs": [
    {
     "data": {
      "text/plain": [
       "'特朗普父女推特解密'"
      ]
     },
     "execution_count": 54,
     "metadata": {},
     "output_type": "execute_result"
    }
   ],
   "source": [
    "my_h1 = data.find('h1')\n",
    "my_title = my_h1.text\n",
    "my_title.strip()"
   ]
  },
  {
   "cell_type": "code",
   "execution_count": 55,
   "metadata": {},
   "outputs": [
    {
     "name": "stdout",
     "output_type": "stream",
     "text": [
      "Help on method_descriptor:\n",
      "\n",
      "strip(self, chars=None, /)\n",
      "    Return a copy of the string with leading and trailing whitespace remove.\n",
      "    \n",
      "    If chars is given and not None, remove characters in chars instead.\n",
      "\n"
     ]
    }
   ],
   "source": [
    "help(str.strip)"
   ]
  },
  {
   "cell_type": "code",
   "execution_count": 56,
   "metadata": {},
   "outputs": [],
   "source": [
    "mytime = data.find('time')"
   ]
  },
  {
   "cell_type": "code",
   "execution_count": 57,
   "metadata": {},
   "outputs": [
    {
     "data": {
      "text/plain": [
       "<time content=\"2017-03-29\" datetime=\"2017-03-29T18:00:00+08:00\" itemprop=\"dateCreated\">\n",
       "                  2017-03-29\n",
       "                </time>"
      ]
     },
     "execution_count": 57,
     "metadata": {},
     "output_type": "execute_result"
    }
   ],
   "source": [
    "mytime"
   ]
  },
  {
   "cell_type": "code",
   "execution_count": 58,
   "metadata": {},
   "outputs": [],
   "source": [
    "mytime = mytime.text"
   ]
  },
  {
   "cell_type": "code",
   "execution_count": 59,
   "metadata": {},
   "outputs": [
    {
     "data": {
      "text/plain": [
       "'\\n                  2017-03-29\\n                '"
      ]
     },
     "execution_count": 59,
     "metadata": {},
     "output_type": "execute_result"
    }
   ],
   "source": [
    "mytime"
   ]
  },
  {
   "cell_type": "code",
   "execution_count": 60,
   "metadata": {},
   "outputs": [
    {
     "data": {
      "text/plain": [
       "'2017-03-29'"
      ]
     },
     "execution_count": 60,
     "metadata": {},
     "output_type": "execute_result"
    }
   ],
   "source": [
    "mytime.strip()"
   ]
  },
  {
   "cell_type": "code",
   "execution_count": 77,
   "metadata": {
    "scrolled": true
   },
   "outputs": [
    {
     "data": {
      "text/plain": [
       "[<span>首頁</span>,\n",
       " <span>文章</span>,\n",
       " <span>專題</span>,\n",
       " <span>活動</span>,\n",
       " <span>職位</span>,\n",
       " <span>團隊</span>,\n",
       " <span>訂閱</span>,\n",
       " <span>Li Yiming</span>,\n",
       " <span>Li Yuqiong</span>,\n",
       " <span class=\"tag\">\n",
       " <a href=\"../../tags/Twitter/\">\n",
       "                       Twitter\n",
       "                       </a>\n",
       " </span>,\n",
       " <span class=\"tag\">\n",
       " <a href=\"../../tags/Trump/\">\n",
       "                       Trump\n",
       "                       </a>\n",
       " </span>,\n",
       " <span class=\"tag\">\n",
       " <a href=\"../../tags/Ivanka/\">\n",
       "                       Ivanka\n",
       "                       </a>\n",
       " </span>,\n",
       " <span class=\"wechat_share_qrcode\"></span>,\n",
       " <span class=\"toc-number\">1.</span>,\n",
       " <span class=\"toc-text\">話癆特朗普</span>,\n",
       " <span class=\"toc-number\">2.</span>,\n",
       " <span class=\"toc-text\">特朗普家族最喜愛的推特發佈平台</span>,\n",
       " <span class=\"toc-number\">3.</span>,\n",
       " <span class=\"toc-text\">詞彙偏好</span>,\n",
       " <span class=\"toc-number\">4.</span>,\n",
       " <span class=\"toc-text\">父女口癖變遷史</span>,\n",
       " <span class=\"toc-number\">5.</span>,\n",
       " <span class=\"toc-text\">最易引發「轉發」和「喜歡」的詞彙</span>,\n",
       " <span class=\"toc-number\">6.</span>,\n",
       " <span class=\"toc-text\">最易引發「喜歡」的詞彙</span>,\n",
       " <span class=\"wechat_share_qrcode\"></span>,\n",
       " <span>© 2016 InitiumLab.</span>,\n",
       " <span>editors@initiumlab.com</span>,\n",
       " <span>香港北角英皇道 663 號泓富產業千禧廣場 1907 室</span>]"
      ]
     },
     "execution_count": 77,
     "metadata": {},
     "output_type": "execute_result"
    }
   ],
   "source": [
    "myspan = data.find_all('span')\n",
    "myspan"
   ]
  },
  {
   "cell_type": "code",
   "execution_count": 83,
   "metadata": {},
   "outputs": [
    {
     "data": {
      "text/plain": [
       "['Li Yiming', 'Li Yuqiong']"
      ]
     },
     "execution_count": 83,
     "metadata": {},
     "output_type": "execute_result"
    }
   ],
   "source": [
    "my_authors = []\n",
    "post_authors = data.find('tr',attrs={'class':\"post__authors\"})\n",
    "#pay attention to its syntax, find('tag_name,attributes={'key':'value'})\n",
    "my_td = post_authors.find_all('td')\n",
    "my_span = my_td[1].find_all('span')\n",
    "for span in my_span:\n",
    "    my_authors.append(span.text)\n",
    "my_authors"
   ]
  },
  {
   "cell_type": "code",
   "execution_count": null,
   "metadata": {},
   "outputs": [],
   "source": []
  }
 ],
 "metadata": {
  "kernelspec": {
   "display_name": "Python 3",
   "language": "python",
   "name": "python3"
  },
  "language_info": {
   "codemirror_mode": {
    "name": "ipython",
    "version": 3
   },
   "file_extension": ".py",
   "mimetype": "text/x-python",
   "name": "python",
   "nbconvert_exporter": "python",
   "pygments_lexer": "ipython3",
   "version": "3.7.0"
  }
 },
 "nbformat": 4,
 "nbformat_minor": 2
}
